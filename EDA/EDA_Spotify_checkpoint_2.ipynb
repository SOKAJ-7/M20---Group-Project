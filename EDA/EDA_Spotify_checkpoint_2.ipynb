{
 "cells": [
  {
   "cell_type": "code",
   "execution_count": 1,
   "id": "c2851da2",
   "metadata": {},
   "outputs": [],
   "source": [
    "import pandas as pd\n",
    "import numpy as np\n",
    "import matplotlib.pyplot as plt"
   ]
  },
  {
   "cell_type": "code",
   "execution_count": 2,
   "id": "707a42b9",
   "metadata": {},
   "outputs": [
    {
     "data": {
      "text/plain": [
       "Index(['genre', 'artist_name', 'track_name', 'track_id', 'popularity',\n",
       "       'acousticness', 'danceability', 'duration_ms', 'energy',\n",
       "       'instrumentalness', 'key', 'liveness', 'loudness', 'mode',\n",
       "       'speechiness', 'tempo', 'time_signature', 'valence'],\n",
       "      dtype='object')"
      ]
     },
     "execution_count": 2,
     "metadata": {},
     "output_type": "execute_result"
    }
   ],
   "source": [
    "#Import our data\n",
    "songs_df = pd.read_csv('SpotifyFeatures.csv')\n",
    "songs_df.head(10)\n",
    "songs_df.columns"
   ]
  },
  {
   "cell_type": "code",
   "execution_count": 3,
   "id": "12dbd9a4",
   "metadata": {},
   "outputs": [
    {
     "data": {
      "text/plain": [
       "(232725, 18)"
      ]
     },
     "execution_count": 3,
     "metadata": {},
     "output_type": "execute_result"
    }
   ],
   "source": [
    "#Check the shape of the data\n"
   ]
  },
  {
   "cell_type": "code",
   "execution_count": null,
   "id": "1e776bcb",
   "metadata": {},
   "outputs": [],
   "source": []
  },
  {
   "cell_type": "code",
   "execution_count": 4,
   "id": "70f8cb4f",
   "metadata": {},
   "outputs": [
    {
     "data": {
      "text/plain": [
       "<AxesSubplot:>"
      ]
     },
     "execution_count": 4,
     "metadata": {},
     "output_type": "execute_result"
    },
    {
     "data": {
      "image/png": "[encoded data removed]",
      "text/plain": [
       "<Figure size 432x288 with 1 Axes>"
      ]
     },
     "metadata": {
      "needs_background": "light"
     },
     "output_type": "display_data"
    }
   ],
   "source": [
    "#Visualize unique values in each column\n",
    "songs_df.nunique().plot(kind='bar')"
   ]
  },
  {
   "cell_type": "code",
   "execution_count": 5,
   "id": "19eb44fe",
   "metadata": {},
   "outputs": [
    {
     "data": {
      "text/plain": [
       "Comedy              9681\n",
       "Soundtrack          9646\n",
       "Indie               9543\n",
       "Jazz                9441\n",
       "Pop                 9386\n",
       "Electronic          9377\n",
       "Children’s Music    9353\n",
       "Folk                9299\n",
       "Hip-Hop             9295\n",
       "Rock                9272\n",
       "Alternative         9263\n",
       "Classical           9256\n",
       "Rap                 9232\n",
       "World               9096\n",
       "Soul                9089\n",
       "Blues               9023\n",
       "R&B                 8992\n",
       "Anime               8936\n",
       "Reggaeton           8927\n",
       "Ska                 8874\n",
       "Reggae              8771\n",
       "Dance               8701\n",
       "Country             8664\n",
       "Opera               8280\n",
       "Movie               7806\n",
       "Children's Music    5403\n",
       "A Capella            119\n",
       "Name: genre, dtype: int64"
      ]
     },
     "execution_count": 5,
     "metadata": {},
     "output_type": "execute_result"
    }
   ],
   "source": [
    "#Find the number of songs for each genre in the dataset\n",
    "songs_df['genre'].value_counts()"
   ]
  },
  {
   "cell_type": "code",
   "execution_count": 6,
   "id": "546c52f8",
   "metadata": {},
   "outputs": [
    {
     "data": {
      "text/html": [
       "<div>\n",
       "<style scoped>\n",
       "    .dataframe tbody tr th:only-of-type {\n",
       "        vertical-align: middle;\n",
       "    }\n",
       "\n",
       "    .dataframe tbody tr th {\n",
       "        vertical-align: top;\n",
       "    }\n",
       "\n",
       "    .dataframe thead th {\n",
       "        text-align: right;\n",
       "    }\n",
       "</style>\n",
       "<table border=\"1\" class=\"dataframe\">\n",
       "  <thead>\n",
       "    <tr style=\"text-align: right;\">\n",
       "      <th></th>\n",
       "      <th>genre</th>\n",
       "      <th>artist_name</th>\n",
       "      <th>track_name</th>\n",
       "      <th>track_id</th>\n",
       "      <th>popularity</th>\n",
       "      <th>acousticness</th>\n",
       "      <th>danceability</th>\n",
       "      <th>duration_ms</th>\n",
       "      <th>energy</th>\n",
       "      <th>instrumentalness</th>\n",
       "      <th>key</th>\n",
       "      <th>liveness</th>\n",
       "      <th>loudness</th>\n",
       "      <th>mode</th>\n",
       "      <th>speechiness</th>\n",
       "      <th>tempo</th>\n",
       "      <th>time_signature</th>\n",
       "      <th>valence</th>\n",
       "    </tr>\n",
       "  </thead>\n",
       "  <tbody>\n",
       "    <tr>\n",
       "      <th>86951</th>\n",
       "      <td>Rap</td>\n",
       "      <td>Post Malone</td>\n",
       "      <td>Wow.</td>\n",
       "      <td>6MWtB6iiXyIwun0YzU6DFP</td>\n",
       "      <td>99</td>\n",
       "      <td>0.16300</td>\n",
       "      <td>0.833</td>\n",
       "      <td>149520</td>\n",
       "      <td>0.539</td>\n",
       "      <td>0.000002</td>\n",
       "      <td>B</td>\n",
       "      <td>0.1010</td>\n",
       "      <td>-7.399</td>\n",
       "      <td>Minor</td>\n",
       "      <td>0.1780</td>\n",
       "      <td>99.947</td>\n",
       "      <td>4/4</td>\n",
       "      <td>0.385</td>\n",
       "    </tr>\n",
       "    <tr>\n",
       "      <th>86952</th>\n",
       "      <td>Rap</td>\n",
       "      <td>J. Cole</td>\n",
       "      <td>MIDDLE CHILD</td>\n",
       "      <td>2JvzF1RMd7lE3KmFlsyZD8</td>\n",
       "      <td>96</td>\n",
       "      <td>0.14900</td>\n",
       "      <td>0.837</td>\n",
       "      <td>213594</td>\n",
       "      <td>0.364</td>\n",
       "      <td>0.000000</td>\n",
       "      <td>G#</td>\n",
       "      <td>0.2710</td>\n",
       "      <td>-11.713</td>\n",
       "      <td>Major</td>\n",
       "      <td>0.2760</td>\n",
       "      <td>123.984</td>\n",
       "      <td>4/4</td>\n",
       "      <td>0.463</td>\n",
       "    </tr>\n",
       "    <tr>\n",
       "      <th>86953</th>\n",
       "      <td>Rap</td>\n",
       "      <td>Post Malone</td>\n",
       "      <td>Sunflower - Spider-Man: Into the Spider-Verse</td>\n",
       "      <td>3KkXRkHbMCARz0aVfEt68P</td>\n",
       "      <td>97</td>\n",
       "      <td>0.55600</td>\n",
       "      <td>0.760</td>\n",
       "      <td>158040</td>\n",
       "      <td>0.479</td>\n",
       "      <td>0.000000</td>\n",
       "      <td>D</td>\n",
       "      <td>0.0703</td>\n",
       "      <td>-5.574</td>\n",
       "      <td>Major</td>\n",
       "      <td>0.0466</td>\n",
       "      <td>89.911</td>\n",
       "      <td>4/4</td>\n",
       "      <td>0.913</td>\n",
       "    </tr>\n",
       "    <tr>\n",
       "      <th>86954</th>\n",
       "      <td>Rap</td>\n",
       "      <td>Travis Scott</td>\n",
       "      <td>SICKO MODE</td>\n",
       "      <td>2xLMifQCjDGFmkHkpNLD9h</td>\n",
       "      <td>94</td>\n",
       "      <td>0.00513</td>\n",
       "      <td>0.834</td>\n",
       "      <td>312820</td>\n",
       "      <td>0.730</td>\n",
       "      <td>0.000000</td>\n",
       "      <td>G#</td>\n",
       "      <td>0.1240</td>\n",
       "      <td>-3.714</td>\n",
       "      <td>Major</td>\n",
       "      <td>0.2220</td>\n",
       "      <td>155.008</td>\n",
       "      <td>4/4</td>\n",
       "      <td>0.446</td>\n",
       "    </tr>\n",
       "    <tr>\n",
       "      <th>86955</th>\n",
       "      <td>Rap</td>\n",
       "      <td>Meek Mill</td>\n",
       "      <td>Going Bad (feat. Drake)</td>\n",
       "      <td>2IRZnDFmlqMuOrYOLnZZyc</td>\n",
       "      <td>95</td>\n",
       "      <td>0.25900</td>\n",
       "      <td>0.889</td>\n",
       "      <td>180522</td>\n",
       "      <td>0.496</td>\n",
       "      <td>0.000000</td>\n",
       "      <td>E</td>\n",
       "      <td>0.2520</td>\n",
       "      <td>-6.365</td>\n",
       "      <td>Minor</td>\n",
       "      <td>0.0905</td>\n",
       "      <td>86.003</td>\n",
       "      <td>4/4</td>\n",
       "      <td>0.544</td>\n",
       "    </tr>\n",
       "  </tbody>\n",
       "</table>\n",
       "</div>"
      ],
      "text/plain": [
       "      genre   artist_name                                     track_name  \\\n",
       "86951   Rap   Post Malone                                           Wow.   \n",
       "86952   Rap       J. Cole                                   MIDDLE CHILD   \n",
       "86953   Rap   Post Malone  Sunflower - Spider-Man: Into the Spider-Verse   \n",
       "86954   Rap  Travis Scott                                     SICKO MODE   \n",
       "86955   Rap     Meek Mill                        Going Bad (feat. Drake)   \n",
       "\n",
       "                     track_id  popularity  acousticness  danceability  \\\n",
       "86951  6MWtB6iiXyIwun0YzU6DFP          99       0.16300         0.833   \n",
       "86952  2JvzF1RMd7lE3KmFlsyZD8          96       0.14900         0.837   \n",
       "86953  3KkXRkHbMCARz0aVfEt68P          97       0.55600         0.760   \n",
       "86954  2xLMifQCjDGFmkHkpNLD9h          94       0.00513         0.834   \n",
       "86955  2IRZnDFmlqMuOrYOLnZZyc          95       0.25900         0.889   \n",
       "\n",
       "       duration_ms  energy  instrumentalness key  liveness  loudness   mode  \\\n",
       "86951       149520   0.539          0.000002   B    0.1010    -7.399  Minor   \n",
       "86952       213594   0.364          0.000000  G#    0.2710   -11.713  Major   \n",
       "86953       158040   0.479          0.000000   D    0.0703    -5.574  Major   \n",
       "86954       312820   0.730          0.000000  G#    0.1240    -3.714  Major   \n",
       "86955       180522   0.496          0.000000   E    0.2520    -6.365  Minor   \n",
       "\n",
       "       speechiness    tempo time_signature  valence  \n",
       "86951       0.1780   99.947            4/4    0.385  \n",
       "86952       0.2760  123.984            4/4    0.463  \n",
       "86953       0.0466   89.911            4/4    0.913  \n",
       "86954       0.2220  155.008            4/4    0.446  \n",
       "86955       0.0905   86.003            4/4    0.544  "
      ]
     },
     "execution_count": 6,
     "metadata": {},
     "output_type": "execute_result"
    }
   ],
   "source": [
    "#Create subsetted dataframe for our genre\n",
    "genre_df = songs_df[songs_df['genre'] == 'Rap']\n",
    "genre_df.head()"
   ]
  },
  {
   "cell_type": "code",
   "execution_count": 13,
   "id": "4666a649",
   "metadata": {},
   "outputs": [
    {
     "data": {
      "text/plain": [
       "(9232, 18)"
      ]
     },
     "execution_count": 13,
     "metadata": {},
     "output_type": "execute_result"
    }
   ],
   "source": [
    "#Check the shape of the data\n",
    "genre_df.shape"
   ]
  },
  {
   "cell_type": "code",
   "execution_count": 7,
   "id": "1faea615",
   "metadata": {},
   "outputs": [
    {
     "name": "stdout",
     "output_type": "stream",
     "text": [
      "<class 'pandas.core.frame.DataFrame'>\n",
      "Int64Index: 9232 entries, 86951 to 122396\n",
      "Data columns (total 18 columns):\n",
      " #   Column            Non-Null Count  Dtype  \n",
      "---  ------            --------------  -----  \n",
      " 0   genre             9232 non-null   object \n",
      " 1   artist_name       9232 non-null   object \n",
      " 2   track_name        9232 non-null   object \n",
      " 3   track_id          9232 non-null   object \n",
      " 4   popularity        9232 non-null   int64  \n",
      " 5   acousticness      9232 non-null   float64\n",
      " 6   danceability      9232 non-null   float64\n",
      " 7   duration_ms       9232 non-null   int64  \n",
      " 8   energy            9232 non-null   float64\n",
      " 9   instrumentalness  9232 non-null   float64\n",
      " 10  key               9232 non-null   object \n",
      " 11  liveness          9232 non-null   float64\n",
      " 12  loudness          9232 non-null   float64\n",
      " 13  mode              9232 non-null   object \n",
      " 14  speechiness       9232 non-null   float64\n",
      " 15  tempo             9232 non-null   float64\n",
      " 16  time_signature    9232 non-null   object \n",
      " 17  valence           9232 non-null   float64\n",
      "dtypes: float64(9), int64(2), object(7)\n",
      "memory usage: 1.3+ MB\n"
     ]
    }
   ],
   "source": [
    "genre_df.info()"
   ]
  },
  {
   "cell_type": "code",
   "execution_count": 8,
   "id": "9ded8151",
   "metadata": {},
   "outputs": [
    {
     "data": {
      "text/plain": [
       "count    9232.000000\n",
       "mean       60.533795\n",
       "std         8.177226\n",
       "min        14.000000\n",
       "25%        55.000000\n",
       "50%        59.000000\n",
       "75%        65.000000\n",
       "max        99.000000\n",
       "Name: popularity, dtype: float64"
      ]
     },
     "execution_count": 8,
     "metadata": {},
     "output_type": "execute_result"
    }
   ],
   "source": [
    "#Get summary statistics for target variable\n",
    "genre_df['popularity'].describe()"
   ]
  },
  {
   "cell_type": "code",
   "execution_count": 9,
   "id": "afc86207",
   "metadata": {},
   "outputs": [
    {
     "data": {
      "text/plain": [
       "genre               False\n",
       "artist_name         False\n",
       "track_name          False\n",
       "track_id            False\n",
       "popularity          False\n",
       "acousticness        False\n",
       "danceability        False\n",
       "duration_ms         False\n",
       "energy              False\n",
       "instrumentalness    False\n",
       "key                 False\n",
       "liveness            False\n",
       "loudness            False\n",
       "mode                False\n",
       "speechiness         False\n",
       "tempo               False\n",
       "time_signature      False\n",
       "valence             False\n",
       "dtype: bool"
      ]
     },
     "execution_count": 9,
     "metadata": {},
     "output_type": "execute_result"
    }
   ],
   "source": [
    "#Check for null/missing values\n",
    "genre_df.isnull().any()"
   ]
  },
  {
   "cell_type": "code",
   "execution_count": 10,
   "id": "22bb545d",
   "metadata": {},
   "outputs": [
    {
     "data": {
      "text/plain": [
       "C#    1636\n",
       "C      866\n",
       "G#     826\n",
       "B      821\n",
       "G      787\n",
       "D      767\n",
       "A#     733\n",
       "F      729\n",
       "A      691\n",
       "F#     659\n",
       "E      504\n",
       "D#     213\n",
       "Name: key, dtype: int64"
      ]
     },
     "execution_count": 10,
     "metadata": {},
     "output_type": "execute_result"
    }
   ],
   "source": [
    "#Check Value Counts for categorical variables\n",
    "genre_df['key'].value_counts()"
   ]
  },
  {
   "cell_type": "code",
   "execution_count": 11,
   "id": "bce7002d",
   "metadata": {},
   "outputs": [
    {
     "data": {
      "text/plain": [
       "4/4    8799\n",
       "3/4     227\n",
       "5/4     177\n",
       "1/4      28\n",
       "0/4       1\n",
       "Name: time_signature, dtype: int64"
      ]
     },
     "execution_count": 11,
     "metadata": {},
     "output_type": "execute_result"
    }
   ],
   "source": [
    "genre_df['time_signature'].value_counts()"
   ]
  },
  {
   "cell_type": "code",
   "execution_count": 12,
   "id": "fa323f5d",
   "metadata": {},
   "outputs": [
    {
     "data": {
      "text/plain": [
       "Major    5170\n",
       "Minor    4062\n",
       "Name: mode, dtype: int64"
      ]
     },
     "execution_count": 12,
     "metadata": {},
     "output_type": "execute_result"
    }
   ],
   "source": [
    "genre_df['mode'].value_counts()"
   ]
  },
  {
   "cell_type": "code",
   "execution_count": 22,
   "id": "821bfacb",
   "metadata": {},
   "outputs": [
    {
     "data": {
      "image/png": "[encoded data removed]",
      "text/plain": [
       "<Figure size 432x288 with 1 Axes>"
      ]
     },
     "metadata": {
      "needs_background": "light"
     },
     "output_type": "display_data"
    }
   ],
   "source": [
    "#Check Distribution of values across columns\n",
    "plt.hist(genre_df['speechiness'])\n",
    "plt.xlabel('speechiness')\n",
    "plt.show()"
   ]
  },
  {
   "cell_type": "code",
   "execution_count": 23,
   "id": "7da6ae61",
   "metadata": {},
   "outputs": [
    {
     "data": {
      "image/png": "[encoded data removed]",
      "text/plain": [
       "<Figure size 432x288 with 1 Axes>"
      ]
     },
     "metadata": {
      "needs_background": "light"
     },
     "output_type": "display_data"
    }
   ],
   "source": [
    "plt.hist(genre_df['instrumentalness'])\n",
    "plt.xlabel('instrumentalness')\n",
    "plt.show()"
   ]
  },
  {
   "cell_type": "code",
   "execution_count": 31,
   "id": "1db30791",
   "metadata": {},
   "outputs": [
    {
     "data": {
      "image/png": "[encoded data removed]",
      "text/plain": [
       "<Figure size 432x288 with 1 Axes>"
      ]
     },
     "metadata": {
      "needs_background": "light"
     },
     "output_type": "display_data"
    }
   ],
   "source": [
    "plt.hist(genre_df['danceability'])\n",
    "plt.xlabel('danceability')\n",
    "plt.show()"
   ]
  },
  {
   "cell_type": "code",
   "execution_count": 30,
   "id": "a7c30e49",
   "metadata": {},
   "outputs": [
    {
     "data": {
      "image/png": "[encoded data removed]",
      "text/plain": [
       "<Figure size 432x288 with 1 Axes>"
      ]
     },
     "metadata": {
      "needs_background": "light"
     },
     "output_type": "display_data"
    }
   ],
   "source": [
    "plt.hist(genre_df['acousticness'])\n",
    "plt.xlabel('acousticness')\n",
    "plt.show()"
   ]
  },
  {
   "cell_type": "code",
   "execution_count": 24,
   "id": "15a2cb13",
   "metadata": {},
   "outputs": [
    {
     "data": {
      "image/png": "[encoded data removed]",
      "text/plain": [
       "<Figure size 432x288 with 1 Axes>"
      ]
     },
     "metadata": {
      "needs_background": "light"
     },
     "output_type": "display_data"
    }
   ],
   "source": [
    "plt.hist(genre_df['loudness'])\n",
    "plt.xlabel('loudness')\n",
    "plt.show()"
   ]
  },
  {
   "cell_type": "code",
   "execution_count": 25,
   "id": "a239d31b",
   "metadata": {},
   "outputs": [
    {
     "data": {
      "image/png": "[encoded data removed]",
      "text/plain": [
       "<Figure size 432x288 with 1 Axes>"
      ]
     },
     "metadata": {
      "needs_background": "light"
     },
     "output_type": "display_data"
    }
   ],
   "source": [
    "plt.hist(genre_df['liveness'])\n",
    "plt.xlabel('liveness')\n",
    "plt.show()"
   ]
  },
  {
   "cell_type": "code",
   "execution_count": 26,
   "id": "aa36a271",
   "metadata": {},
   "outputs": [
    {
     "data": {
      "image/png": "[encoded data removed]",
      "text/plain": [
       "<Figure size 432x288 with 1 Axes>"
      ]
     },
     "metadata": {
      "needs_background": "light"
     },
     "output_type": "display_data"
    }
   ],
   "source": [
    "plt.hist(genre_df['tempo'])\n",
    "plt.xlabel('tempo')\n",
    "plt.show()"
   ]
  },
  {
   "cell_type": "code",
   "execution_count": 27,
   "id": "0ad72088",
   "metadata": {},
   "outputs": [
    {
     "data": {
      "image/png": "[encoded data removed]",
      "text/plain": [
       "<Figure size 432x288 with 1 Axes>"
      ]
     },
     "metadata": {
      "needs_background": "light"
     },
     "output_type": "display_data"
    }
   ],
   "source": [
    "plt.hist(genre_df['valence'])\n",
    "plt.xlabel('valence')\n",
    "plt.show()"
   ]
  },
  {
   "cell_type": "code",
   "execution_count": 28,
   "id": "a2562e8d",
   "metadata": {},
   "outputs": [
    {
     "data": {
      "image/png": "[encoded data removed]",
      "text/plain": [
       "<Figure size 432x288 with 1 Axes>"
      ]
     },
     "metadata": {
      "needs_background": "light"
     },
     "output_type": "display_data"
    }
   ],
   "source": [
    "plt.hist(genre_df['energy'])\n",
    "plt.xlabel('energy')\n",
    "plt.show()"
   ]
  },
  {
   "cell_type": "code",
   "execution_count": 29,
   "id": "55d34402",
   "metadata": {},
   "outputs": [
    {
     "data": {
      "image/png": "[encoded data removed]",
      "text/plain": [
       "<Figure size 432x288 with 1 Axes>"
      ]
     },
     "metadata": {
      "needs_background": "light"
     },
     "output_type": "display_data"
    }
   ],
   "source": [
    "plt.hist(genre_df['popularity'])\n",
    "plt.xlabel('popularity')\n",
    "plt.show()"
   ]
  }
 ],
 "metadata": {
  "kernelspec": {
   "display_name": "PythonData",
   "language": "python",
   "name": "pythondata"
  },
  "language_info": {
   "codemirror_mode": {
    "name": "ipython",
    "version": 3
   },
   "file_extension": ".py",
   "mimetype": "text/x-python",
   "name": "python",
   "nbconvert_exporter": "python",
   "pygments_lexer": "ipython3",
   "version": "3.8.8"
  }
 },
 "nbformat": 4,
 "nbformat_minor": 5
}
