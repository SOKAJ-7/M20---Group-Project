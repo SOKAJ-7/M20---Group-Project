{
 "cells": [
  {
   "cell_type": "code",
   "execution_count": 1,
   "id": "c2851da2",
   "metadata": {},
   "outputs": [],
   "source": [
    "import pandas as pd\n",
    "import numpy as np\n",
    "import matplotlib.pyplot as plt\n",
    "import seaborn as sns"
   ]
  },
  {
   "cell_type": "code",
   "execution_count": 2,
   "id": "707a42b9",
   "metadata": {},
   "outputs": [
    {
     "data": {
      "text/plain": [
       "Index(['genre', 'artist_name', 'track_name', 'track_id', 'popularity',\n",
       "       'acousticness', 'danceability', 'duration_ms', 'energy',\n",
       "       'instrumentalness', 'key', 'liveness', 'loudness', 'mode',\n",
       "       'speechiness', 'tempo', 'time_signature', 'valence'],\n",
       "      dtype='object')"
      ]
     },
     "execution_count": 2,
     "metadata": {},
     "output_type": "execute_result"
    }
   ],
   "source": [
    "#Import our data\n",
    "songs_df = pd.read_csv('SpotifyFeatures.csv')\n",
    "songs_df.head(10)\n",
    "songs_df.columns"
   ]
  },
  {
   "cell_type": "code",
   "execution_count": 3,
   "id": "12dbd9a4",
   "metadata": {},
   "outputs": [
    {
     "data": {
      "text/plain": [
       "(232725, 18)"
      ]
     },
     "execution_count": 3,
     "metadata": {},
     "output_type": "execute_result"
    }
   ],
   "source": [
    "#Check the shape of the data\n",
    "songs_df.shape"
   ]
  },
  {
   "cell_type": "code",
   "execution_count": 4,
   "id": "70f8cb4f",
   "metadata": {},
   "outputs": [
    {
     "data": {
      "text/plain": [
       "<AxesSubplot:>"
      ]
     },
     "execution_count": 4,
     "metadata": {},
     "output_type": "execute_result"
    },
    {
     "data": {
      "image/png": "[encoded data removed]",
      "text/plain": [
       "<Figure size 432x288 with 1 Axes>"
      ]
     },
     "metadata": {
      "needs_background": "light"
     },
     "output_type": "display_data"
    }
   ],
   "source": [
    "#Visualize unique values in each column\n",
    "songs_df.nunique().plot(kind='bar')"
   ]
  },
  {
   "cell_type": "code",
   "execution_count": 5,
   "id": "19eb44fe",
   "metadata": {},
   "outputs": [
    {
     "data": {
      "text/plain": [
       "Comedy              9681\n",
       "Soundtrack          9646\n",
       "Indie               9543\n",
       "Jazz                9441\n",
       "Pop                 9386\n",
       "Electronic          9377\n",
       "Children’s Music    9353\n",
       "Folk                9299\n",
       "Hip-Hop             9295\n",
       "Rock                9272\n",
       "Alternative         9263\n",
       "Classical           9256\n",
       "Rap                 9232\n",
       "World               9096\n",
       "Soul                9089\n",
       "Blues               9023\n",
       "R&B                 8992\n",
       "Anime               8936\n",
       "Reggaeton           8927\n",
       "Ska                 8874\n",
       "Reggae              8771\n",
       "Dance               8701\n",
       "Country             8664\n",
       "Opera               8280\n",
       "Movie               7806\n",
       "Children's Music    5403\n",
       "A Capella            119\n",
       "Name: genre, dtype: int64"
      ]
     },
     "execution_count": 5,
     "metadata": {},
     "output_type": "execute_result"
    }
   ],
   "source": [
    "#Find the number of songs for each genre in the dataset\n",
    "songs_df['genre'].value_counts()"
   ]
  },
  {
   "cell_type": "code",
   "execution_count": 6,
   "id": "5fddb763",
   "metadata": {},
   "outputs": [
    {
     "data": {
      "text/plain": [
       "Indie               9543\n",
       "Jazz                9441\n",
       "Pop                 9386\n",
       "Electronic          9377\n",
       "Children’s Music    9353\n",
       "Folk                9299\n",
       "Hip-Hop             9295\n",
       "Rock                9272\n",
       "Alternative         9263\n",
       "Classical           9256\n",
       "Rap                 9232\n",
       "World               9096\n",
       "Soul                9089\n",
       "Blues               9023\n",
       "R&B                 8992\n",
       "Reggaeton           8927\n",
       "Ska                 8874\n",
       "Reggae              8771\n",
       "Dance               8701\n",
       "Country             8664\n",
       "Name: genre, dtype: int64"
      ]
     },
     "execution_count": 6,
     "metadata": {},
     "output_type": "execute_result"
    }
   ],
   "source": [
    "#Remove unconventional or non_musical genres to summarize general musical trends\n",
    "cols_todrop = [\"Children's Music\",\"Comedy\",\"A Capella\",\"Anime\",\"Opera\",\"Movie\",\"Soundtrack\",\"Children's Music\"]\n",
    "\n",
    "songs_df = songs_df[songs_df.genre.isin(cols_todrop) == False]\n",
    "songs_df['genre'].value_counts()"
   ]
  },
  {
   "cell_type": "code",
   "execution_count": 7,
   "id": "546c52f8",
   "metadata": {},
   "outputs": [
    {
     "data": {
      "text/html": [
       "<div>\n",
       "<style scoped>\n",
       "    .dataframe tbody tr th:only-of-type {\n",
       "        vertical-align: middle;\n",
       "    }\n",
       "\n",
       "    .dataframe tbody tr th {\n",
       "        vertical-align: top;\n",
       "    }\n",
       "\n",
       "    .dataframe thead th {\n",
       "        text-align: right;\n",
       "    }\n",
       "</style>\n",
       "<table border=\"1\" class=\"dataframe\">\n",
       "  <thead>\n",
       "    <tr style=\"text-align: right;\">\n",
       "      <th></th>\n",
       "      <th>genre</th>\n",
       "      <th>artist_name</th>\n",
       "      <th>track_name</th>\n",
       "      <th>track_id</th>\n",
       "      <th>popularity</th>\n",
       "      <th>acousticness</th>\n",
       "      <th>danceability</th>\n",
       "      <th>duration_ms</th>\n",
       "      <th>energy</th>\n",
       "      <th>instrumentalness</th>\n",
       "      <th>key</th>\n",
       "      <th>liveness</th>\n",
       "      <th>loudness</th>\n",
       "      <th>mode</th>\n",
       "      <th>speechiness</th>\n",
       "      <th>tempo</th>\n",
       "      <th>time_signature</th>\n",
       "      <th>valence</th>\n",
       "    </tr>\n",
       "  </thead>\n",
       "  <tbody>\n",
       "    <tr>\n",
       "      <th>688</th>\n",
       "      <td>Country</td>\n",
       "      <td>Cam</td>\n",
       "      <td>My Mistake</td>\n",
       "      <td>5ICoYTFfmUKguBHpINKkGL</td>\n",
       "      <td>45</td>\n",
       "      <td>0.00821</td>\n",
       "      <td>0.551</td>\n",
       "      <td>200013</td>\n",
       "      <td>0.704</td>\n",
       "      <td>0.000002</td>\n",
       "      <td>G#</td>\n",
       "      <td>0.2450</td>\n",
       "      <td>-5.426</td>\n",
       "      <td>Major</td>\n",
       "      <td>0.0444</td>\n",
       "      <td>97.075</td>\n",
       "      <td>4/4</td>\n",
       "      <td>0.541</td>\n",
       "    </tr>\n",
       "    <tr>\n",
       "      <th>689</th>\n",
       "      <td>Country</td>\n",
       "      <td>Kevin Fowler</td>\n",
       "      <td>That Girl</td>\n",
       "      <td>0rk6JE7ODyGWWquK4y7t1u</td>\n",
       "      <td>42</td>\n",
       "      <td>0.02720</td>\n",
       "      <td>0.375</td>\n",
       "      <td>208187</td>\n",
       "      <td>0.859</td>\n",
       "      <td>0.000000</td>\n",
       "      <td>G</td>\n",
       "      <td>0.2670</td>\n",
       "      <td>-3.243</td>\n",
       "      <td>Major</td>\n",
       "      <td>0.0569</td>\n",
       "      <td>74.059</td>\n",
       "      <td>4/4</td>\n",
       "      <td>0.597</td>\n",
       "    </tr>\n",
       "    <tr>\n",
       "      <th>690</th>\n",
       "      <td>Country</td>\n",
       "      <td>Roger Miller</td>\n",
       "      <td>Chug-A-Lug</td>\n",
       "      <td>3vMwtAfDNM8dDBWMvS78pn</td>\n",
       "      <td>46</td>\n",
       "      <td>0.69000</td>\n",
       "      <td>0.699</td>\n",
       "      <td>123360</td>\n",
       "      <td>0.408</td>\n",
       "      <td>0.000219</td>\n",
       "      <td>B</td>\n",
       "      <td>0.1450</td>\n",
       "      <td>-11.460</td>\n",
       "      <td>Major</td>\n",
       "      <td>0.0960</td>\n",
       "      <td>171.922</td>\n",
       "      <td>4/4</td>\n",
       "      <td>0.842</td>\n",
       "    </tr>\n",
       "    <tr>\n",
       "      <th>691</th>\n",
       "      <td>Country</td>\n",
       "      <td>M. Ward</td>\n",
       "      <td>Chinese Translation</td>\n",
       "      <td>7IJlk42gDKt5dfSSLwtEsp</td>\n",
       "      <td>54</td>\n",
       "      <td>0.15200</td>\n",
       "      <td>0.555</td>\n",
       "      <td>238600</td>\n",
       "      <td>0.726</td>\n",
       "      <td>0.000178</td>\n",
       "      <td>D</td>\n",
       "      <td>0.1480</td>\n",
       "      <td>-8.939</td>\n",
       "      <td>Major</td>\n",
       "      <td>0.0368</td>\n",
       "      <td>107.719</td>\n",
       "      <td>4/4</td>\n",
       "      <td>0.505</td>\n",
       "    </tr>\n",
       "    <tr>\n",
       "      <th>692</th>\n",
       "      <td>Country</td>\n",
       "      <td>Chris Cagle</td>\n",
       "      <td>Anywhere But Here</td>\n",
       "      <td>2JxSaSRavL82FCTCPzVmEf</td>\n",
       "      <td>42</td>\n",
       "      <td>0.57100</td>\n",
       "      <td>0.640</td>\n",
       "      <td>243000</td>\n",
       "      <td>0.478</td>\n",
       "      <td>0.000000</td>\n",
       "      <td>B</td>\n",
       "      <td>0.0902</td>\n",
       "      <td>-6.960</td>\n",
       "      <td>Major</td>\n",
       "      <td>0.0330</td>\n",
       "      <td>136.717</td>\n",
       "      <td>4/4</td>\n",
       "      <td>0.315</td>\n",
       "    </tr>\n",
       "  </tbody>\n",
       "</table>\n",
       "</div>"
      ],
      "text/plain": [
       "       genre   artist_name           track_name                track_id  \\\n",
       "688  Country           Cam           My Mistake  5ICoYTFfmUKguBHpINKkGL   \n",
       "689  Country  Kevin Fowler            That Girl  0rk6JE7ODyGWWquK4y7t1u   \n",
       "690  Country  Roger Miller           Chug-A-Lug  3vMwtAfDNM8dDBWMvS78pn   \n",
       "691  Country       M. Ward  Chinese Translation  7IJlk42gDKt5dfSSLwtEsp   \n",
       "692  Country   Chris Cagle    Anywhere But Here  2JxSaSRavL82FCTCPzVmEf   \n",
       "\n",
       "     popularity  acousticness  danceability  duration_ms  energy  \\\n",
       "688          45       0.00821         0.551       200013   0.704   \n",
       "689          42       0.02720         0.375       208187   0.859   \n",
       "690          46       0.69000         0.699       123360   0.408   \n",
       "691          54       0.15200         0.555       238600   0.726   \n",
       "692          42       0.57100         0.640       243000   0.478   \n",
       "\n",
       "     instrumentalness key  liveness  loudness   mode  speechiness    tempo  \\\n",
       "688          0.000002  G#    0.2450    -5.426  Major       0.0444   97.075   \n",
       "689          0.000000   G    0.2670    -3.243  Major       0.0569   74.059   \n",
       "690          0.000219   B    0.1450   -11.460  Major       0.0960  171.922   \n",
       "691          0.000178   D    0.1480    -8.939  Major       0.0368  107.719   \n",
       "692          0.000000   B    0.0902    -6.960  Major       0.0330  136.717   \n",
       "\n",
       "    time_signature  valence  \n",
       "688            4/4    0.541  \n",
       "689            4/4    0.597  \n",
       "690            4/4    0.842  \n",
       "691            4/4    0.505  \n",
       "692            4/4    0.315  "
      ]
     },
     "execution_count": 7,
     "metadata": {},
     "output_type": "execute_result"
    }
   ],
   "source": [
    "#Create subsetted dataframe for our genre\n",
    "genre_df = songs_df[songs_df['genre'] == 'Country']\n",
    "genre_df.head()"
   ]
  },
  {
   "cell_type": "code",
   "execution_count": 8,
   "id": "4666a649",
   "metadata": {},
   "outputs": [
    {
     "data": {
      "text/plain": [
       "(182854, 18)"
      ]
     },
     "execution_count": 8,
     "metadata": {},
     "output_type": "execute_result"
    }
   ],
   "source": [
    "#Check the shape of the data\n",
    "songs_df.shape"
   ]
  },
  {
   "cell_type": "code",
   "execution_count": 9,
   "id": "1faea615",
   "metadata": {},
   "outputs": [
    {
     "name": "stdout",
     "output_type": "stream",
     "text": [
      "<class 'pandas.core.frame.DataFrame'>\n",
      "Int64Index: 182854 entries, 135 to 232724\n",
      "Data columns (total 18 columns):\n",
      " #   Column            Non-Null Count   Dtype  \n",
      "---  ------            --------------   -----  \n",
      " 0   genre             182854 non-null  object \n",
      " 1   artist_name       182854 non-null  object \n",
      " 2   track_name        182854 non-null  object \n",
      " 3   track_id          182854 non-null  object \n",
      " 4   popularity        182854 non-null  int64  \n",
      " 5   acousticness      182854 non-null  float64\n",
      " 6   danceability      182854 non-null  float64\n",
      " 7   duration_ms       182854 non-null  int64  \n",
      " 8   energy            182854 non-null  float64\n",
      " 9   instrumentalness  182854 non-null  float64\n",
      " 10  key               182854 non-null  object \n",
      " 11  liveness          182854 non-null  float64\n",
      " 12  loudness          182854 non-null  float64\n",
      " 13  mode              182854 non-null  object \n",
      " 14  speechiness       182854 non-null  float64\n",
      " 15  tempo             182854 non-null  float64\n",
      " 16  time_signature    182854 non-null  object \n",
      " 17  valence           182854 non-null  float64\n",
      "dtypes: float64(9), int64(2), object(7)\n",
      "memory usage: 26.5+ MB\n"
     ]
    }
   ],
   "source": [
    "songs_df.info()"
   ]
  },
  {
   "cell_type": "code",
   "execution_count": 10,
   "id": "2c8f46af",
   "metadata": {},
   "outputs": [
    {
     "data": {
      "text/html": [
       "<div>\n",
       "<style scoped>\n",
       "    .dataframe tbody tr th:only-of-type {\n",
       "        vertical-align: middle;\n",
       "    }\n",
       "\n",
       "    .dataframe tbody tr th {\n",
       "        vertical-align: top;\n",
       "    }\n",
       "\n",
       "    .dataframe thead th {\n",
       "        text-align: right;\n",
       "    }\n",
       "</style>\n",
       "<table border=\"1\" class=\"dataframe\">\n",
       "  <thead>\n",
       "    <tr style=\"text-align: right;\">\n",
       "      <th></th>\n",
       "      <th>popularity</th>\n",
       "      <th>acousticness</th>\n",
       "      <th>danceability</th>\n",
       "      <th>duration_ms</th>\n",
       "      <th>energy</th>\n",
       "      <th>instrumentalness</th>\n",
       "      <th>liveness</th>\n",
       "      <th>loudness</th>\n",
       "      <th>speechiness</th>\n",
       "      <th>tempo</th>\n",
       "      <th>valence</th>\n",
       "    </tr>\n",
       "  </thead>\n",
       "  <tbody>\n",
       "    <tr>\n",
       "      <th>count</th>\n",
       "      <td>182854.000000</td>\n",
       "      <td>182854.000000</td>\n",
       "      <td>182854.000000</td>\n",
       "      <td>1.828540e+05</td>\n",
       "      <td>182854.000000</td>\n",
       "      <td>182854.000000</td>\n",
       "      <td>182854.000000</td>\n",
       "      <td>182854.000000</td>\n",
       "      <td>182854.000000</td>\n",
       "      <td>182854.000000</td>\n",
       "      <td>182854.000000</td>\n",
       "    </tr>\n",
       "    <tr>\n",
       "      <th>mean</th>\n",
       "      <td>46.982522</td>\n",
       "      <td>0.284635</td>\n",
       "      <td>0.583872</td>\n",
       "      <td>2.403253e+05</td>\n",
       "      <td>0.611346</td>\n",
       "      <td>0.113561</td>\n",
       "      <td>0.193784</td>\n",
       "      <td>-8.375369</td>\n",
       "      <td>0.092150</td>\n",
       "      <td>119.752646</td>\n",
       "      <td>0.481400</td>\n",
       "    </tr>\n",
       "    <tr>\n",
       "      <th>std</th>\n",
       "      <td>14.579690</td>\n",
       "      <td>0.312085</td>\n",
       "      <td>0.170047</td>\n",
       "      <td>1.003761e+05</td>\n",
       "      <td>0.237329</td>\n",
       "      <td>0.263728</td>\n",
       "      <td>0.165578</td>\n",
       "      <td>5.024586</td>\n",
       "      <td>0.095901</td>\n",
       "      <td>30.120668</td>\n",
       "      <td>0.248819</td>\n",
       "    </tr>\n",
       "    <tr>\n",
       "      <th>min</th>\n",
       "      <td>0.000000</td>\n",
       "      <td>0.000001</td>\n",
       "      <td>0.056900</td>\n",
       "      <td>1.550900e+04</td>\n",
       "      <td>0.000020</td>\n",
       "      <td>0.000000</td>\n",
       "      <td>0.009670</td>\n",
       "      <td>-52.457000</td>\n",
       "      <td>0.022200</td>\n",
       "      <td>33.593000</td>\n",
       "      <td>0.000000</td>\n",
       "    </tr>\n",
       "    <tr>\n",
       "      <th>25%</th>\n",
       "      <td>37.000000</td>\n",
       "      <td>0.025500</td>\n",
       "      <td>0.473000</td>\n",
       "      <td>1.920000e+05</td>\n",
       "      <td>0.461000</td>\n",
       "      <td>0.000000</td>\n",
       "      <td>0.096100</td>\n",
       "      <td>-9.840000</td>\n",
       "      <td>0.036200</td>\n",
       "      <td>95.031000</td>\n",
       "      <td>0.282000</td>\n",
       "    </tr>\n",
       "    <tr>\n",
       "      <th>50%</th>\n",
       "      <td>48.000000</td>\n",
       "      <td>0.149000</td>\n",
       "      <td>0.597000</td>\n",
       "      <td>2.241695e+05</td>\n",
       "      <td>0.642000</td>\n",
       "      <td>0.000033</td>\n",
       "      <td>0.125000</td>\n",
       "      <td>-7.074000</td>\n",
       "      <td>0.050600</td>\n",
       "      <td>118.382000</td>\n",
       "      <td>0.476000</td>\n",
       "    </tr>\n",
       "    <tr>\n",
       "      <th>75%</th>\n",
       "      <td>57.000000</td>\n",
       "      <td>0.479000</td>\n",
       "      <td>0.710000</td>\n",
       "      <td>2.664000e+05</td>\n",
       "      <td>0.799000</td>\n",
       "      <td>0.013000</td>\n",
       "      <td>0.238000</td>\n",
       "      <td>-5.254000</td>\n",
       "      <td>0.101000</td>\n",
       "      <td>140.021000</td>\n",
       "      <td>0.678000</td>\n",
       "    </tr>\n",
       "    <tr>\n",
       "      <th>max</th>\n",
       "      <td>100.000000</td>\n",
       "      <td>0.996000</td>\n",
       "      <td>0.987000</td>\n",
       "      <td>5.488000e+06</td>\n",
       "      <td>0.999000</td>\n",
       "      <td>0.996000</td>\n",
       "      <td>1.000000</td>\n",
       "      <td>3.744000</td>\n",
       "      <td>0.957000</td>\n",
       "      <td>242.903000</td>\n",
       "      <td>0.992000</td>\n",
       "    </tr>\n",
       "  </tbody>\n",
       "</table>\n",
       "</div>"
      ],
      "text/plain": [
       "          popularity   acousticness   danceability   duration_ms  \\\n",
       "count  182854.000000  182854.000000  182854.000000  1.828540e+05   \n",
       "mean       46.982522       0.284635       0.583872  2.403253e+05   \n",
       "std        14.579690       0.312085       0.170047  1.003761e+05   \n",
       "min         0.000000       0.000001       0.056900  1.550900e+04   \n",
       "25%        37.000000       0.025500       0.473000  1.920000e+05   \n",
       "50%        48.000000       0.149000       0.597000  2.241695e+05   \n",
       "75%        57.000000       0.479000       0.710000  2.664000e+05   \n",
       "max       100.000000       0.996000       0.987000  5.488000e+06   \n",
       "\n",
       "              energy  instrumentalness       liveness       loudness  \\\n",
       "count  182854.000000     182854.000000  182854.000000  182854.000000   \n",
       "mean        0.611346          0.113561       0.193784      -8.375369   \n",
       "std         0.237329          0.263728       0.165578       5.024586   \n",
       "min         0.000020          0.000000       0.009670     -52.457000   \n",
       "25%         0.461000          0.000000       0.096100      -9.840000   \n",
       "50%         0.642000          0.000033       0.125000      -7.074000   \n",
       "75%         0.799000          0.013000       0.238000      -5.254000   \n",
       "max         0.999000          0.996000       1.000000       3.744000   \n",
       "\n",
       "         speechiness          tempo        valence  \n",
       "count  182854.000000  182854.000000  182854.000000  \n",
       "mean        0.092150     119.752646       0.481400  \n",
       "std         0.095901      30.120668       0.248819  \n",
       "min         0.022200      33.593000       0.000000  \n",
       "25%         0.036200      95.031000       0.282000  \n",
       "50%         0.050600     118.382000       0.476000  \n",
       "75%         0.101000     140.021000       0.678000  \n",
       "max         0.957000     242.903000       0.992000  "
      ]
     },
     "execution_count": 10,
     "metadata": {},
     "output_type": "execute_result"
    }
   ],
   "source": [
    "songs_df.describe()"
   ]
  },
  {
   "cell_type": "code",
   "execution_count": 11,
   "id": "9ded8151",
   "metadata": {},
   "outputs": [
    {
     "data": {
      "text/plain": [
       "count    182854.000000\n",
       "mean         46.982522\n",
       "std          14.579690\n",
       "min           0.000000\n",
       "25%          37.000000\n",
       "50%          48.000000\n",
       "75%          57.000000\n",
       "max         100.000000\n",
       "Name: popularity, dtype: float64"
      ]
     },
     "execution_count": 11,
     "metadata": {},
     "output_type": "execute_result"
    }
   ],
   "source": [
    "#Get summary statistics for target variable\n",
    "songs_df['popularity'].describe()"
   ]
  },
  {
   "cell_type": "code",
   "execution_count": 12,
   "id": "afc86207",
   "metadata": {},
   "outputs": [
    {
     "data": {
      "text/plain": [
       "genre               False\n",
       "artist_name         False\n",
       "track_name          False\n",
       "track_id            False\n",
       "popularity          False\n",
       "acousticness        False\n",
       "danceability        False\n",
       "duration_ms         False\n",
       "energy              False\n",
       "instrumentalness    False\n",
       "key                 False\n",
       "liveness            False\n",
       "loudness            False\n",
       "mode                False\n",
       "speechiness         False\n",
       "tempo               False\n",
       "time_signature      False\n",
       "valence             False\n",
       "dtype: bool"
      ]
     },
     "execution_count": 12,
     "metadata": {},
     "output_type": "execute_result"
    }
   ],
   "source": [
    "#Check for null/missing values\n",
    "songs_df.isnull().any()"
   ]
  },
  {
   "cell_type": "code",
   "execution_count": 13,
   "id": "22bb545d",
   "metadata": {},
   "outputs": [
    {
     "data": {
      "text/plain": [
       "C     21464\n",
       "G     20599\n",
       "C#    18984\n",
       "D     18218\n",
       "A     18052\n",
       "F     15183\n",
       "B     15023\n",
       "E     13696\n",
       "F#    12251\n",
       "G#    12203\n",
       "A#    11866\n",
       "D#     5315\n",
       "Name: key, dtype: int64"
      ]
     },
     "execution_count": 13,
     "metadata": {},
     "output_type": "execute_result"
    }
   ],
   "source": [
    "#Check Value Counts for categorical variables\n",
    "songs_df['key'].value_counts()"
   ]
  },
  {
   "cell_type": "code",
   "execution_count": 14,
   "id": "f8079fea",
   "metadata": {},
   "outputs": [],
   "source": [
    "ovr_count = songs_df['time_signature'].count()"
   ]
  },
  {
   "cell_type": "code",
   "execution_count": 15,
   "id": "bce7002d",
   "metadata": {},
   "outputs": [],
   "source": [
    "\n",
    "fourfour_count =songs_df['time_signature'].value_counts()[0]"
   ]
  },
  {
   "cell_type": "code",
   "execution_count": 16,
   "id": "5ff3f2ca",
   "metadata": {},
   "outputs": [
    {
     "data": {
      "text/plain": [
       "0.9118477036324062"
      ]
     },
     "execution_count": 16,
     "metadata": {},
     "output_type": "execute_result"
    }
   ],
   "source": [
    "fourfour_count/ovr_count"
   ]
  },
  {
   "cell_type": "code",
   "execution_count": 17,
   "id": "fa323f5d",
   "metadata": {},
   "outputs": [
    {
     "data": {
      "text/plain": [
       "Major    117010\n",
       "Minor     65844\n",
       "Name: mode, dtype: int64"
      ]
     },
     "execution_count": 17,
     "metadata": {},
     "output_type": "execute_result"
    }
   ],
   "source": [
    "songs_df['mode'].value_counts()"
   ]
  },
  {
   "cell_type": "code",
   "execution_count": 32,
   "id": "821bfacb",
   "metadata": {},
   "outputs": [
    {
     "data": {
      "image/png": "[encoded data removed]",
      "text/plain": [
       "<Figure size 432x288 with 1 Axes>"
      ]
     },
     "metadata": {
      "needs_background": "light"
     },
     "output_type": "display_data"
    },
    {
     "data": {
      "text/plain": [
       "False    160187\n",
       "True      22667\n",
       "Name: speechiness, dtype: int64"
      ]
     },
     "execution_count": 32,
     "metadata": {},
     "output_type": "execute_result"
    }
   ],
   "source": [
    "#Check Distribution of values across columns\n",
    "plt.hist(songs_df['speechiness'])\n",
    "plt.xlabel('speechiness')\n",
    "plt.show()\n",
    "\n",
    "inst = songs_df['speechiness']>0.2\n",
    "inst.value_counts()"
   ]
  },
  {
   "cell_type": "code",
   "execution_count": 19,
   "id": "7da6ae61",
   "metadata": {},
   "outputs": [
    {
     "data": {
      "image/png": "[encoded data removed]",
      "text/plain": [
       "<Figure size 432x288 with 1 Axes>"
      ]
     },
     "metadata": {
      "needs_background": "light"
     },
     "output_type": "display_data"
    },
    {
     "name": "stdout",
     "output_type": "stream",
     "text": [
      "None\n"
     ]
    },
    {
     "data": {
      "text/plain": [
       "False    150066\n",
       "True      32788\n",
       "Name: instrumentalness, dtype: int64"
      ]
     },
     "execution_count": 19,
     "metadata": {},
     "output_type": "execute_result"
    }
   ],
   "source": [
    "plt.hist(songs_df['instrumentalness'])\n",
    "plt.xlabel('instrumentalness')\n",
    "print(plt.show())\n",
    "\n",
    "inst = songs_df['instrumentalness']>0.1\n",
    "inst.value_counts()\n"
   ]
  },
  {
   "cell_type": "code",
   "execution_count": 20,
   "id": "1db30791",
   "metadata": {},
   "outputs": [
    {
     "data": {
      "image/png": "[encoded data removed]",
      "text/plain": [
       "<Figure size 432x288 with 1 Axes>"
      ]
     },
     "metadata": {
      "needs_background": "light"
     },
     "output_type": "display_data"
    }
   ],
   "source": [
    "plt.hist(songs_df['danceability'])\n",
    "plt.xlabel('danceability')\n",
    "plt.show()"
   ]
  },
  {
   "cell_type": "code",
   "execution_count": 21,
   "id": "a7c30e49",
   "metadata": {},
   "outputs": [
    {
     "data": {
      "image/png": "[encoded data removed]",
      "text/plain": [
       "<Figure size 432x288 with 1 Axes>"
      ]
     },
     "metadata": {
      "needs_background": "light"
     },
     "output_type": "display_data"
    },
    {
     "name": "stdout",
     "output_type": "stream",
     "text": [
      "       genre               artist_name  \\\n",
      "135      R&B             Mary J. Blige   \n",
      "136      R&B                   Rihanna   \n",
      "137      R&B                 Yung Bleu   \n",
      "138      R&B                  Surfaces   \n",
      "139      R&B            Olivia O'Brien   \n",
      "...      ...                       ...   \n",
      "232720  Soul                     Slave   \n",
      "232721  Soul  Jr Thomas & The Volcanos   \n",
      "232722  Soul              Muddy Waters   \n",
      "232723  Soul                   R.LUM.R   \n",
      "232724  Soul            Mint Condition   \n",
      "\n",
      "                                        track_name                track_id  \\\n",
      "135                     Be Without You - Kendu Mix  2YegxR5As7BeQuVp2U6pek   \n",
      "136                                      Desperado  6KFaHC9G178beAp7P0Vi5S   \n",
      "137     Ice On My Baby (feat. Kevin Gates) - Remix  6muW8cSjJ3rusKJ0vH5olw   \n",
      "138                      Heaven Falls / Fall on Me  7yHqOZfsXYlicyoMt62yC6   \n",
      "139                                    Love Myself  4XzgjxGKqULifVf7mnDIQK   \n",
      "...                                            ...                     ...   \n",
      "232720                                Son Of Slide  2XGLdVl7lGeq8ksM6Al7jT   \n",
      "232721                                Burning Fire  1qWZdkBl4UVPj9lK6HuuFM   \n",
      "232722              (I'm Your) Hoochie Coochie Man  2ziWXUmQLrXTiYjCg2fZ2t   \n",
      "232723                               With My Words  6EFsue2YbIG4Qkq8Zr9Rir   \n",
      "232724              You Don't Have To Hurt No More  34XO9RwPMKjbvRry54QzWn   \n",
      "\n",
      "        popularity  acousticness  danceability  duration_ms  energy  \\\n",
      "135             65       0.08300         0.724       246333   0.689   \n",
      "136             63       0.32300         0.685       186467   0.610   \n",
      "137             62       0.06750         0.762       199520   0.520   \n",
      "138             61       0.36000         0.563       240597   0.366   \n",
      "139             68       0.59600         0.653       213947   0.621   \n",
      "...            ...           ...           ...          ...     ...   \n",
      "232720          39       0.00384         0.687       326240   0.714   \n",
      "232721          38       0.03290         0.785       282447   0.683   \n",
      "232722          47       0.90100         0.517       166960   0.419   \n",
      "232723          44       0.26200         0.745       222442   0.704   \n",
      "232724          35       0.09730         0.758       323027   0.470   \n",
      "\n",
      "        instrumentalness key  liveness  loudness   mode  speechiness    tempo  \\\n",
      "135             0.000000   D    0.3040    -5.922  Minor       0.1350  146.496   \n",
      "136             0.000000   C    0.1020    -5.221  Minor       0.0439   94.384   \n",
      "137             0.000004   F    0.1140    -5.237  Minor       0.0959   75.047   \n",
      "138             0.002430   B    0.0955    -6.896  Minor       0.1210   85.352   \n",
      "139             0.000000   B    0.0811    -5.721  Minor       0.0409  100.006   \n",
      "...                  ...  ..       ...       ...    ...          ...      ...   \n",
      "232720          0.544000   D    0.0845   -10.626  Major       0.0316  115.542   \n",
      "232721          0.000880   E    0.2370    -6.944  Minor       0.0337  113.830   \n",
      "232722          0.000000   D    0.0945    -8.282  Major       0.1480   84.135   \n",
      "232723          0.000000   A    0.3330    -7.137  Major       0.1460  100.031   \n",
      "232724          0.000049  G#    0.0836    -6.708  Minor       0.0287  113.897   \n",
      "\n",
      "       time_signature  valence  \n",
      "135               4/4   0.6930  \n",
      "136               3/4   0.3230  \n",
      "137               4/4   0.0862  \n",
      "138               4/4   0.7680  \n",
      "139               4/4   0.4660  \n",
      "...               ...      ...  \n",
      "232720            4/4   0.9620  \n",
      "232721            4/4   0.9690  \n",
      "232722            4/4   0.8130  \n",
      "232723            4/4   0.4890  \n",
      "232724            4/4   0.4790  \n",
      "\n",
      "[182854 rows x 18 columns]\n"
     ]
    }
   ],
   "source": [
    "plt.hist(songs_df['acousticness'])\n",
    "plt.xlabel('acousticness')\n",
    "plt.show()\n",
    "print(songs_df)"
   ]
  },
  {
   "cell_type": "code",
   "execution_count": 22,
   "id": "15a2cb13",
   "metadata": {},
   "outputs": [
    {
     "data": {
      "image/png": "[encoded data removed]",
      "text/plain": [
       "<Figure size 432x288 with 1 Axes>"
      ]
     },
     "metadata": {
      "needs_background": "light"
     },
     "output_type": "display_data"
    }
   ],
   "source": [
    "plt.hist(songs_df['loudness'])\n",
    "plt.xlabel('loudness')\n",
    "plt.show()"
   ]
  },
  {
   "cell_type": "code",
   "execution_count": 23,
   "id": "a239d31b",
   "metadata": {},
   "outputs": [
    {
     "data": {
      "image/png": "[encoded data removed]",
      "text/plain": [
       "<Figure size 432x288 with 1 Axes>"
      ]
     },
     "metadata": {
      "needs_background": "light"
     },
     "output_type": "display_data"
    },
    {
     "name": "stdout",
     "output_type": "stream",
     "text": [
      "0.1937843204961339\n"
     ]
    }
   ],
   "source": [
    "plt.hist(songs_df['liveness'])\n",
    "plt.xlabel('liveness')\n",
    "plt.show()\n",
    "print(songs_df['liveness'].mean())"
   ]
  },
  {
   "cell_type": "code",
   "execution_count": 24,
   "id": "aa36a271",
   "metadata": {},
   "outputs": [
    {
     "data": {
      "image/png": "[encoded data removed]",
      "text/plain": [
       "<Figure size 432x288 with 1 Axes>"
      ]
     },
     "metadata": {
      "needs_background": "light"
     },
     "output_type": "display_data"
    }
   ],
   "source": [
    "plt.hist(songs_df['tempo'])\n",
    "plt.xlabel('tempo')\n",
    "plt.show()"
   ]
  },
  {
   "cell_type": "code",
   "execution_count": 25,
   "id": "0ad72088",
   "metadata": {},
   "outputs": [
    {
     "data": {
      "image/png": "[encoded data removed]",
      "text/plain": [
       "<Figure size 432x288 with 1 Axes>"
      ]
     },
     "metadata": {
      "needs_background": "light"
     },
     "output_type": "display_data"
    }
   ],
   "source": [
    "plt.hist(songs_df['valence'])\n",
    "plt.xlabel('valence')\n",
    "plt.show()"
   ]
  },
  {
   "cell_type": "code",
   "execution_count": 26,
   "id": "a2562e8d",
   "metadata": {},
   "outputs": [
    {
     "data": {
      "image/png": "[encoded data removed]",
      "text/plain": [
       "<Figure size 432x288 with 1 Axes>"
      ]
     },
     "metadata": {
      "needs_background": "light"
     },
     "output_type": "display_data"
    }
   ],
   "source": [
    "plt.hist(songs_df['energy'])\n",
    "plt.xlabel('energy')\n",
    "plt.show()"
   ]
  },
  {
   "cell_type": "code",
   "execution_count": 27,
   "id": "55d34402",
   "metadata": {},
   "outputs": [
    {
     "data": {
      "image/png": "[encoded data removed]",
      "text/plain": [
       "<Figure size 432x288 with 1 Axes>"
      ]
     },
     "metadata": {
      "needs_background": "light"
     },
     "output_type": "display_data"
    }
   ],
   "source": [
    "plt.hist(songs_df['popularity'])\n",
    "plt.xlabel('popularity')\n",
    "plt.show()"
   ]
  },
  {
   "cell_type": "code",
   "execution_count": 28,
   "id": "e7b067d2",
   "metadata": {},
   "outputs": [
    {
     "data": {
      "text/html": [
       "<div>\n",
       "<style scoped>\n",
       "    .dataframe tbody tr th:only-of-type {\n",
       "        vertical-align: middle;\n",
       "    }\n",
       "\n",
       "    .dataframe tbody tr th {\n",
       "        vertical-align: top;\n",
       "    }\n",
       "\n",
       "    .dataframe thead th {\n",
       "        text-align: right;\n",
       "    }\n",
       "</style>\n",
       "<table border=\"1\" class=\"dataframe\">\n",
       "  <thead>\n",
       "    <tr style=\"text-align: right;\">\n",
       "      <th></th>\n",
       "      <th>popularity</th>\n",
       "      <th>acousticness</th>\n",
       "      <th>danceability</th>\n",
       "      <th>duration_ms</th>\n",
       "      <th>energy</th>\n",
       "      <th>instrumentalness</th>\n",
       "      <th>liveness</th>\n",
       "      <th>loudness</th>\n",
       "      <th>speechiness</th>\n",
       "      <th>tempo</th>\n",
       "      <th>valence</th>\n",
       "    </tr>\n",
       "  </thead>\n",
       "  <tbody>\n",
       "    <tr>\n",
       "      <th>popularity</th>\n",
       "      <td>1.000000</td>\n",
       "      <td>-0.159617</td>\n",
       "      <td>0.210586</td>\n",
       "      <td>-0.106866</td>\n",
       "      <td>0.101268</td>\n",
       "      <td>-0.254550</td>\n",
       "      <td>-0.074918</td>\n",
       "      <td>0.254779</td>\n",
       "      <td>0.096548</td>\n",
       "      <td>0.016930</td>\n",
       "      <td>-0.013419</td>\n",
       "    </tr>\n",
       "    <tr>\n",
       "      <th>acousticness</th>\n",
       "      <td>-0.159617</td>\n",
       "      <td>1.000000</td>\n",
       "      <td>-0.269177</td>\n",
       "      <td>0.083100</td>\n",
       "      <td>-0.734190</td>\n",
       "      <td>0.311496</td>\n",
       "      <td>-0.100818</td>\n",
       "      <td>-0.660787</td>\n",
       "      <td>-0.122554</td>\n",
       "      <td>-0.172450</td>\n",
       "      <td>-0.246051</td>\n",
       "    </tr>\n",
       "    <tr>\n",
       "      <th>danceability</th>\n",
       "      <td>0.210586</td>\n",
       "      <td>-0.269177</td>\n",
       "      <td>1.000000</td>\n",
       "      <td>-0.190884</td>\n",
       "      <td>0.190577</td>\n",
       "      <td>-0.251047</td>\n",
       "      <td>-0.079050</td>\n",
       "      <td>0.328748</td>\n",
       "      <td>0.236041</td>\n",
       "      <td>-0.075873</td>\n",
       "      <td>0.444883</td>\n",
       "    </tr>\n",
       "    <tr>\n",
       "      <th>duration_ms</th>\n",
       "      <td>-0.106866</td>\n",
       "      <td>0.083100</td>\n",
       "      <td>-0.190884</td>\n",
       "      <td>1.000000</td>\n",
       "      <td>-0.120853</td>\n",
       "      <td>0.203552</td>\n",
       "      <td>0.034222</td>\n",
       "      <td>-0.169988</td>\n",
       "      <td>-0.103106</td>\n",
       "      <td>-0.035295</td>\n",
       "      <td>-0.186277</td>\n",
       "    </tr>\n",
       "    <tr>\n",
       "      <th>energy</th>\n",
       "      <td>0.101268</td>\n",
       "      <td>-0.734190</td>\n",
       "      <td>0.190577</td>\n",
       "      <td>-0.120853</td>\n",
       "      <td>1.000000</td>\n",
       "      <td>-0.304754</td>\n",
       "      <td>0.183313</td>\n",
       "      <td>0.795259</td>\n",
       "      <td>0.131840</td>\n",
       "      <td>0.204979</td>\n",
       "      <td>0.392672</td>\n",
       "    </tr>\n",
       "    <tr>\n",
       "      <th>instrumentalness</th>\n",
       "      <td>-0.254550</td>\n",
       "      <td>0.311496</td>\n",
       "      <td>-0.251047</td>\n",
       "      <td>0.203552</td>\n",
       "      <td>-0.304754</td>\n",
       "      <td>1.000000</td>\n",
       "      <td>-0.065254</td>\n",
       "      <td>-0.495781</td>\n",
       "      <td>-0.153333</td>\n",
       "      <td>-0.085677</td>\n",
       "      <td>-0.214981</td>\n",
       "    </tr>\n",
       "    <tr>\n",
       "      <th>liveness</th>\n",
       "      <td>-0.074918</td>\n",
       "      <td>-0.100818</td>\n",
       "      <td>-0.079050</td>\n",
       "      <td>0.034222</td>\n",
       "      <td>0.183313</td>\n",
       "      <td>-0.065254</td>\n",
       "      <td>1.000000</td>\n",
       "      <td>0.106584</td>\n",
       "      <td>0.090689</td>\n",
       "      <td>0.028503</td>\n",
       "      <td>0.034921</td>\n",
       "    </tr>\n",
       "    <tr>\n",
       "      <th>loudness</th>\n",
       "      <td>0.254779</td>\n",
       "      <td>-0.660787</td>\n",
       "      <td>0.328748</td>\n",
       "      <td>-0.169988</td>\n",
       "      <td>0.795259</td>\n",
       "      <td>-0.495781</td>\n",
       "      <td>0.106584</td>\n",
       "      <td>1.000000</td>\n",
       "      <td>0.128396</td>\n",
       "      <td>0.179751</td>\n",
       "      <td>0.305526</td>\n",
       "    </tr>\n",
       "    <tr>\n",
       "      <th>speechiness</th>\n",
       "      <td>0.096548</td>\n",
       "      <td>-0.122554</td>\n",
       "      <td>0.236041</td>\n",
       "      <td>-0.103106</td>\n",
       "      <td>0.131840</td>\n",
       "      <td>-0.153333</td>\n",
       "      <td>0.090689</td>\n",
       "      <td>0.128396</td>\n",
       "      <td>1.000000</td>\n",
       "      <td>0.060613</td>\n",
       "      <td>0.081463</td>\n",
       "    </tr>\n",
       "    <tr>\n",
       "      <th>tempo</th>\n",
       "      <td>0.016930</td>\n",
       "      <td>-0.172450</td>\n",
       "      <td>-0.075873</td>\n",
       "      <td>-0.035295</td>\n",
       "      <td>0.204979</td>\n",
       "      <td>-0.085677</td>\n",
       "      <td>0.028503</td>\n",
       "      <td>0.179751</td>\n",
       "      <td>0.060613</td>\n",
       "      <td>1.000000</td>\n",
       "      <td>0.068855</td>\n",
       "    </tr>\n",
       "    <tr>\n",
       "      <th>valence</th>\n",
       "      <td>-0.013419</td>\n",
       "      <td>-0.246051</td>\n",
       "      <td>0.444883</td>\n",
       "      <td>-0.186277</td>\n",
       "      <td>0.392672</td>\n",
       "      <td>-0.214981</td>\n",
       "      <td>0.034921</td>\n",
       "      <td>0.305526</td>\n",
       "      <td>0.081463</td>\n",
       "      <td>0.068855</td>\n",
       "      <td>1.000000</td>\n",
       "    </tr>\n",
       "  </tbody>\n",
       "</table>\n",
       "</div>"
      ],
      "text/plain": [
       "                  popularity  acousticness  danceability  duration_ms  \\\n",
       "popularity          1.000000     -0.159617      0.210586    -0.106866   \n",
       "acousticness       -0.159617      1.000000     -0.269177     0.083100   \n",
       "danceability        0.210586     -0.269177      1.000000    -0.190884   \n",
       "duration_ms        -0.106866      0.083100     -0.190884     1.000000   \n",
       "energy              0.101268     -0.734190      0.190577    -0.120853   \n",
       "instrumentalness   -0.254550      0.311496     -0.251047     0.203552   \n",
       "liveness           -0.074918     -0.100818     -0.079050     0.034222   \n",
       "loudness            0.254779     -0.660787      0.328748    -0.169988   \n",
       "speechiness         0.096548     -0.122554      0.236041    -0.103106   \n",
       "tempo               0.016930     -0.172450     -0.075873    -0.035295   \n",
       "valence            -0.013419     -0.246051      0.444883    -0.186277   \n",
       "\n",
       "                    energy  instrumentalness  liveness  loudness  speechiness  \\\n",
       "popularity        0.101268         -0.254550 -0.074918  0.254779     0.096548   \n",
       "acousticness     -0.734190          0.311496 -0.100818 -0.660787    -0.122554   \n",
       "danceability      0.190577         -0.251047 -0.079050  0.328748     0.236041   \n",
       "duration_ms      -0.120853          0.203552  0.034222 -0.169988    -0.103106   \n",
       "energy            1.000000         -0.304754  0.183313  0.795259     0.131840   \n",
       "instrumentalness -0.304754          1.000000 -0.065254 -0.495781    -0.153333   \n",
       "liveness          0.183313         -0.065254  1.000000  0.106584     0.090689   \n",
       "loudness          0.795259         -0.495781  0.106584  1.000000     0.128396   \n",
       "speechiness       0.131840         -0.153333  0.090689  0.128396     1.000000   \n",
       "tempo             0.204979         -0.085677  0.028503  0.179751     0.060613   \n",
       "valence           0.392672         -0.214981  0.034921  0.305526     0.081463   \n",
       "\n",
       "                     tempo   valence  \n",
       "popularity        0.016930 -0.013419  \n",
       "acousticness     -0.172450 -0.246051  \n",
       "danceability     -0.075873  0.444883  \n",
       "duration_ms      -0.035295 -0.186277  \n",
       "energy            0.204979  0.392672  \n",
       "instrumentalness -0.085677 -0.214981  \n",
       "liveness          0.028503  0.034921  \n",
       "loudness          0.179751  0.305526  \n",
       "speechiness       0.060613  0.081463  \n",
       "tempo             1.000000  0.068855  \n",
       "valence           0.068855  1.000000  "
      ]
     },
     "execution_count": 28,
     "metadata": {},
     "output_type": "execute_result"
    }
   ],
   "source": [
    "#Check correlation coeffs for each variable to see possible columns to drop\n",
    "songs_df.corr()"
   ]
  },
  {
   "cell_type": "code",
   "execution_count": 29,
   "id": "f8e50946",
   "metadata": {},
   "outputs": [
    {
     "data": {
      "text/plain": [
       "<AxesSubplot:>"
      ]
     },
     "execution_count": 29,
     "metadata": {},
     "output_type": "execute_result"
    },
    {
     "data": {
      "image/png": "[encoded data removed]",
      "text/plain": [
       "<Figure size 432x288 with 2 Axes>"
      ]
     },
     "metadata": {
      "needs_background": "light"
     },
     "output_type": "display_data"
    }
   ],
   "source": [
    "#Plot corr coeffs\n",
    "sns.heatmap(songs_df.corr(),annot=False, fmt='.2f', cmap = 'coolwarm')"
   ]
  },
  {
   "cell_type": "code",
   "execution_count": 30,
   "id": "58d9cffd",
   "metadata": {},
   "outputs": [
    {
     "data": {
      "text/html": [
       "<div>\n",
       "<style scoped>\n",
       "    .dataframe tbody tr th:only-of-type {\n",
       "        vertical-align: middle;\n",
       "    }\n",
       "\n",
       "    .dataframe tbody tr th {\n",
       "        vertical-align: top;\n",
       "    }\n",
       "\n",
       "    .dataframe thead th {\n",
       "        text-align: right;\n",
       "    }\n",
       "</style>\n",
       "<table border=\"1\" class=\"dataframe\">\n",
       "  <thead>\n",
       "    <tr style=\"text-align: right;\">\n",
       "      <th></th>\n",
       "      <th>popularity</th>\n",
       "      <th>acousticness</th>\n",
       "      <th>danceability</th>\n",
       "      <th>duration_ms</th>\n",
       "      <th>energy</th>\n",
       "      <th>instrumentalness</th>\n",
       "      <th>liveness</th>\n",
       "      <th>loudness</th>\n",
       "      <th>speechiness</th>\n",
       "      <th>tempo</th>\n",
       "      <th>valence</th>\n",
       "    </tr>\n",
       "  </thead>\n",
       "  <tbody>\n",
       "    <tr>\n",
       "      <th>135</th>\n",
       "      <td>65</td>\n",
       "      <td>0.0830</td>\n",
       "      <td>0.724</td>\n",
       "      <td>246333</td>\n",
       "      <td>0.689</td>\n",
       "      <td>0.000000</td>\n",
       "      <td>0.3040</td>\n",
       "      <td>-5.922</td>\n",
       "      <td>0.1350</td>\n",
       "      <td>146.496</td>\n",
       "      <td>0.6930</td>\n",
       "    </tr>\n",
       "    <tr>\n",
       "      <th>136</th>\n",
       "      <td>63</td>\n",
       "      <td>0.3230</td>\n",
       "      <td>0.685</td>\n",
       "      <td>186467</td>\n",
       "      <td>0.610</td>\n",
       "      <td>0.000000</td>\n",
       "      <td>0.1020</td>\n",
       "      <td>-5.221</td>\n",
       "      <td>0.0439</td>\n",
       "      <td>94.384</td>\n",
       "      <td>0.3230</td>\n",
       "    </tr>\n",
       "    <tr>\n",
       "      <th>137</th>\n",
       "      <td>62</td>\n",
       "      <td>0.0675</td>\n",
       "      <td>0.762</td>\n",
       "      <td>199520</td>\n",
       "      <td>0.520</td>\n",
       "      <td>0.000004</td>\n",
       "      <td>0.1140</td>\n",
       "      <td>-5.237</td>\n",
       "      <td>0.0959</td>\n",
       "      <td>75.047</td>\n",
       "      <td>0.0862</td>\n",
       "    </tr>\n",
       "    <tr>\n",
       "      <th>138</th>\n",
       "      <td>61</td>\n",
       "      <td>0.3600</td>\n",
       "      <td>0.563</td>\n",
       "      <td>240597</td>\n",
       "      <td>0.366</td>\n",
       "      <td>0.002430</td>\n",
       "      <td>0.0955</td>\n",
       "      <td>-6.896</td>\n",
       "      <td>0.1210</td>\n",
       "      <td>85.352</td>\n",
       "      <td>0.7680</td>\n",
       "    </tr>\n",
       "    <tr>\n",
       "      <th>139</th>\n",
       "      <td>68</td>\n",
       "      <td>0.5960</td>\n",
       "      <td>0.653</td>\n",
       "      <td>213947</td>\n",
       "      <td>0.621</td>\n",
       "      <td>0.000000</td>\n",
       "      <td>0.0811</td>\n",
       "      <td>-5.721</td>\n",
       "      <td>0.0409</td>\n",
       "      <td>100.006</td>\n",
       "      <td>0.4660</td>\n",
       "    </tr>\n",
       "  </tbody>\n",
       "</table>\n",
       "</div>"
      ],
      "text/plain": [
       "     popularity  acousticness  danceability  duration_ms  energy  \\\n",
       "135          65        0.0830         0.724       246333   0.689   \n",
       "136          63        0.3230         0.685       186467   0.610   \n",
       "137          62        0.0675         0.762       199520   0.520   \n",
       "138          61        0.3600         0.563       240597   0.366   \n",
       "139          68        0.5960         0.653       213947   0.621   \n",
       "\n",
       "     instrumentalness  liveness  loudness  speechiness    tempo  valence  \n",
       "135          0.000000    0.3040    -5.922       0.1350  146.496   0.6930  \n",
       "136          0.000000    0.1020    -5.221       0.0439   94.384   0.3230  \n",
       "137          0.000004    0.1140    -5.237       0.0959   75.047   0.0862  \n",
       "138          0.002430    0.0955    -6.896       0.1210   85.352   0.7680  \n",
       "139          0.000000    0.0811    -5.721       0.0409  100.006   0.4660  "
      ]
     },
     "execution_count": 30,
     "metadata": {},
     "output_type": "execute_result"
    }
   ],
   "source": [
    "songs_df.dtypes\n",
    "num_songs_df = songs_df.drop(columns = ['genre','artist_name','track_name','track_id','key','time_signature','mode'])\n",
    "num_songs_df.head()"
   ]
  },
  {
   "cell_type": "code",
   "execution_count": 31,
   "id": "48a7aa39",
   "metadata": {},
   "outputs": [
    {
     "data": {
      "text/plain": [
       "popularity           2116\n",
       "acousticness            0\n",
       "danceability          996\n",
       "duration_ms         11487\n",
       "energy                  0\n",
       "instrumentalness    39670\n",
       "liveness            13107\n",
       "loudness            11525\n",
       "speechiness         22995\n",
       "tempo                 152\n",
       "valence                 0\n",
       "dtype: int64"
      ]
     },
     "execution_count": 31,
     "metadata": {},
     "output_type": "execute_result"
    }
   ],
   "source": [
    "#Check for outliers\n",
    "Q1 = num_songs_df.quantile(0.25)\n",
    "Q3 = num_songs_df.quantile(0.75)\n",
    "IQR = Q3-Q1\n",
    "((num_songs_df < (Q1 - 1.5 * IQR)) | (num_songs_df > (Q3 + 1.5 * IQR))).sum()\n"
   ]
  },
  {
   "cell_type": "code",
   "execution_count": null,
   "id": "5f1ba8fe",
   "metadata": {},
   "outputs": [],
   "source": []
  }
 ],
 "metadata": {
  "kernelspec": {
   "display_name": "PythonData",
   "language": "python",
   "name": "pythondata"
  },
  "language_info": {
   "codemirror_mode": {
    "name": "ipython",
    "version": 3
   },
   "file_extension": ".py",
   "mimetype": "text/x-python",
   "name": "python",
   "nbconvert_exporter": "python",
   "pygments_lexer": "ipython3",
   "version": "3.8.8"
  }
 },
 "nbformat": 4,
 "nbformat_minor": 5
}
