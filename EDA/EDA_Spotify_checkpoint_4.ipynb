{
 "cells": [
  {
   "cell_type": "code",
   "execution_count": 1,
   "id": "8ab96727",
   "metadata": {},
   "outputs": [],
   "source": [
    "import pandas as pd\n",
    "import numpy as np\n",
    "import matplotlib.pyplot as plt\n",
    "import seaborn as sns"
   ]
  },
  {
   "cell_type": "code",
   "execution_count": 2,
   "id": "fd922eb8",
   "metadata": {},
   "outputs": [
    {
     "data": {
      "text/plain": [
       "Index(['track_name', 'artist_name', 'album_name', 'track_id', 'artist_id',\n",
       "       'album_id', 'track_natural_key', 'genre', 'popularity', 'release_date',\n",
       "       'release_season', 'duration_ms', 'duration_mins', 'explicit',\n",
       "       'danceability', 'energy', 'key', 'loudness', 'mode', 'speechiness',\n",
       "       'acousticness', 'instrumentalness', 'liveness', 'valence', 'tempo',\n",
       "       'time_signature'],\n",
       "      dtype='object')"
      ]
     },
     "execution_count": 2,
     "metadata": {},
     "output_type": "execute_result"
    }
   ],
   "source": [
    "songs_df = pd.read_csv('spotify_merged.csv')\n",
    "songs_df.head(10)\n",
    "songs_df.columns"
   ]
  },
  {
   "cell_type": "code",
   "execution_count": 3,
   "id": "64d5bd28",
   "metadata": {},
   "outputs": [
    {
     "data": {
      "text/plain": [
       "(44118, 26)"
      ]
     },
     "execution_count": 3,
     "metadata": {},
     "output_type": "execute_result"
    }
   ],
   "source": [
    "#Check the shape of the data\n",
    "songs_df.shape"
   ]
  },
  {
   "cell_type": "code",
   "execution_count": 4,
   "id": "b66c6937",
   "metadata": {},
   "outputs": [
    {
     "data": {
      "text/plain": [
       "<AxesSubplot:>"
      ]
     },
     "execution_count": 4,
     "metadata": {},
     "output_type": "execute_result"
    },
    {
     "data": {
      "image/png": "[encoded data removed]",
      "text/plain": [
       "<Figure size 432x288 with 1 Axes>"
      ]
     },
     "metadata": {
      "needs_background": "light"
     },
     "output_type": "display_data"
    }
   ],
   "source": [
    "#Visualize unique values in each column\n",
    "songs_df.nunique().plot(kind='bar')"
   ]
  },
  {
   "cell_type": "code",
   "execution_count": 5,
   "id": "bfc24fab",
   "metadata": {},
   "outputs": [
    {
     "data": {
      "text/plain": [
       "singer-songwriter    2894\n",
       "country              2868\n",
       "jazz                 2844\n",
       "folk                 2838\n",
       "funk                 2817\n",
       "soul                 2804\n",
       "motown               2761\n",
       "hip_hop              2727\n",
       "rap                  2723\n",
       "rock                 2627\n",
       "blues                2588\n",
       "classical            2542\n",
       "r&b                  2519\n",
       "pop                  2450\n",
       "metal                2308\n",
       "edm                  1928\n",
       "latin                1880\n",
       "Name: genre, dtype: int64"
      ]
     },
     "execution_count": 5,
     "metadata": {},
     "output_type": "execute_result"
    }
   ],
   "source": [
    "#Find the number of songs for each genre in the dataset\n",
    "songs_df['genre'].value_counts()"
   ]
  },
  {
   "cell_type": "code",
   "execution_count": 6,
   "id": "f8747114",
   "metadata": {},
   "outputs": [
    {
     "data": {
      "text/html": [
       "<div>\n",
       "<style scoped>\n",
       "    .dataframe tbody tr th:only-of-type {\n",
       "        vertical-align: middle;\n",
       "    }\n",
       "\n",
       "    .dataframe tbody tr th {\n",
       "        vertical-align: top;\n",
       "    }\n",
       "\n",
       "    .dataframe thead th {\n",
       "        text-align: right;\n",
       "    }\n",
       "</style>\n",
       "<table border=\"1\" class=\"dataframe\">\n",
       "  <thead>\n",
       "    <tr style=\"text-align: right;\">\n",
       "      <th></th>\n",
       "      <th>popularity</th>\n",
       "      <th>duration_ms</th>\n",
       "      <th>explicit</th>\n",
       "      <th>danceability</th>\n",
       "      <th>energy</th>\n",
       "      <th>key</th>\n",
       "      <th>loudness</th>\n",
       "      <th>mode</th>\n",
       "      <th>speechiness</th>\n",
       "      <th>acousticness</th>\n",
       "      <th>instrumentalness</th>\n",
       "      <th>liveness</th>\n",
       "      <th>valence</th>\n",
       "      <th>tempo</th>\n",
       "      <th>time_signature</th>\n",
       "    </tr>\n",
       "  </thead>\n",
       "  <tbody>\n",
       "    <tr>\n",
       "      <th>count</th>\n",
       "      <td>44118.000000</td>\n",
       "      <td>4.411800e+04</td>\n",
       "      <td>44118.000000</td>\n",
       "      <td>44118.000000</td>\n",
       "      <td>44118.000000</td>\n",
       "      <td>44118.000000</td>\n",
       "      <td>44118.000000</td>\n",
       "      <td>44118.000000</td>\n",
       "      <td>44118.000000</td>\n",
       "      <td>44118.000000</td>\n",
       "      <td>44118.000000</td>\n",
       "      <td>44118.000000</td>\n",
       "      <td>44118.000000</td>\n",
       "      <td>44118.000000</td>\n",
       "      <td>44118.000000</td>\n",
       "    </tr>\n",
       "    <tr>\n",
       "      <th>mean</th>\n",
       "      <td>47.904189</td>\n",
       "      <td>2.479298e+05</td>\n",
       "      <td>0.142754</td>\n",
       "      <td>0.579240</td>\n",
       "      <td>0.543723</td>\n",
       "      <td>5.239653</td>\n",
       "      <td>-10.426892</td>\n",
       "      <td>0.663516</td>\n",
       "      <td>0.080946</td>\n",
       "      <td>0.376979</td>\n",
       "      <td>0.108892</td>\n",
       "      <td>0.191689</td>\n",
       "      <td>0.533062</td>\n",
       "      <td>117.836212</td>\n",
       "      <td>3.903985</td>\n",
       "    </tr>\n",
       "    <tr>\n",
       "      <th>std</th>\n",
       "      <td>17.723238</td>\n",
       "      <td>1.037208e+05</td>\n",
       "      <td>0.349825</td>\n",
       "      <td>0.171471</td>\n",
       "      <td>0.252999</td>\n",
       "      <td>3.521319</td>\n",
       "      <td>5.535820</td>\n",
       "      <td>0.472512</td>\n",
       "      <td>0.089493</td>\n",
       "      <td>0.337222</td>\n",
       "      <td>0.257937</td>\n",
       "      <td>0.166980</td>\n",
       "      <td>0.254550</td>\n",
       "      <td>29.112924</td>\n",
       "      <td>0.393791</td>\n",
       "    </tr>\n",
       "    <tr>\n",
       "      <th>min</th>\n",
       "      <td>0.000000</td>\n",
       "      <td>1.470800e+04</td>\n",
       "      <td>0.000000</td>\n",
       "      <td>0.000000</td>\n",
       "      <td>0.000707</td>\n",
       "      <td>0.000000</td>\n",
       "      <td>-47.046000</td>\n",
       "      <td>0.000000</td>\n",
       "      <td>0.000000</td>\n",
       "      <td>0.000000</td>\n",
       "      <td>0.000000</td>\n",
       "      <td>0.009670</td>\n",
       "      <td>0.000000</td>\n",
       "      <td>0.000000</td>\n",
       "      <td>0.000000</td>\n",
       "    </tr>\n",
       "    <tr>\n",
       "      <th>25%</th>\n",
       "      <td>36.000000</td>\n",
       "      <td>1.884930e+05</td>\n",
       "      <td>0.000000</td>\n",
       "      <td>0.468000</td>\n",
       "      <td>0.357000</td>\n",
       "      <td>2.000000</td>\n",
       "      <td>-13.181000</td>\n",
       "      <td>0.000000</td>\n",
       "      <td>0.034800</td>\n",
       "      <td>0.060300</td>\n",
       "      <td>0.000000</td>\n",
       "      <td>0.092400</td>\n",
       "      <td>0.330000</td>\n",
       "      <td>95.321000</td>\n",
       "      <td>4.000000</td>\n",
       "    </tr>\n",
       "    <tr>\n",
       "      <th>50%</th>\n",
       "      <td>47.000000</td>\n",
       "      <td>2.307600e+05</td>\n",
       "      <td>0.000000</td>\n",
       "      <td>0.591000</td>\n",
       "      <td>0.562000</td>\n",
       "      <td>5.000000</td>\n",
       "      <td>-9.317000</td>\n",
       "      <td>1.000000</td>\n",
       "      <td>0.045500</td>\n",
       "      <td>0.276000</td>\n",
       "      <td>0.000064</td>\n",
       "      <td>0.125000</td>\n",
       "      <td>0.544000</td>\n",
       "      <td>115.734500</td>\n",
       "      <td>4.000000</td>\n",
       "    </tr>\n",
       "    <tr>\n",
       "      <th>75%</th>\n",
       "      <td>62.000000</td>\n",
       "      <td>2.841190e+05</td>\n",
       "      <td>0.000000</td>\n",
       "      <td>0.705000</td>\n",
       "      <td>0.745000</td>\n",
       "      <td>8.000000</td>\n",
       "      <td>-6.377250</td>\n",
       "      <td>1.000000</td>\n",
       "      <td>0.078100</td>\n",
       "      <td>0.678000</td>\n",
       "      <td>0.013475</td>\n",
       "      <td>0.235000</td>\n",
       "      <td>0.743000</td>\n",
       "      <td>135.277000</td>\n",
       "      <td>4.000000</td>\n",
       "    </tr>\n",
       "    <tr>\n",
       "      <th>max</th>\n",
       "      <td>100.000000</td>\n",
       "      <td>3.551689e+06</td>\n",
       "      <td>1.000000</td>\n",
       "      <td>0.988000</td>\n",
       "      <td>1.000000</td>\n",
       "      <td>11.000000</td>\n",
       "      <td>0.496000</td>\n",
       "      <td>1.000000</td>\n",
       "      <td>0.953000</td>\n",
       "      <td>0.996000</td>\n",
       "      <td>0.993000</td>\n",
       "      <td>0.997000</td>\n",
       "      <td>0.993000</td>\n",
       "      <td>243.507000</td>\n",
       "      <td>5.000000</td>\n",
       "    </tr>\n",
       "  </tbody>\n",
       "</table>\n",
       "</div>"
      ],
      "text/plain": [
       "         popularity   duration_ms      explicit  danceability        energy  \\\n",
       "count  44118.000000  4.411800e+04  44118.000000  44118.000000  44118.000000   \n",
       "mean      47.904189  2.479298e+05      0.142754      0.579240      0.543723   \n",
       "std       17.723238  1.037208e+05      0.349825      0.171471      0.252999   \n",
       "min        0.000000  1.470800e+04      0.000000      0.000000      0.000707   \n",
       "25%       36.000000  1.884930e+05      0.000000      0.468000      0.357000   \n",
       "50%       47.000000  2.307600e+05      0.000000      0.591000      0.562000   \n",
       "75%       62.000000  2.841190e+05      0.000000      0.705000      0.745000   \n",
       "max      100.000000  3.551689e+06      1.000000      0.988000      1.000000   \n",
       "\n",
       "                key      loudness          mode   speechiness  acousticness  \\\n",
       "count  44118.000000  44118.000000  44118.000000  44118.000000  44118.000000   \n",
       "mean       5.239653    -10.426892      0.663516      0.080946      0.376979   \n",
       "std        3.521319      5.535820      0.472512      0.089493      0.337222   \n",
       "min        0.000000    -47.046000      0.000000      0.000000      0.000000   \n",
       "25%        2.000000    -13.181000      0.000000      0.034800      0.060300   \n",
       "50%        5.000000     -9.317000      1.000000      0.045500      0.276000   \n",
       "75%        8.000000     -6.377250      1.000000      0.078100      0.678000   \n",
       "max       11.000000      0.496000      1.000000      0.953000      0.996000   \n",
       "\n",
       "       instrumentalness      liveness       valence         tempo  \\\n",
       "count      44118.000000  44118.000000  44118.000000  44118.000000   \n",
       "mean           0.108892      0.191689      0.533062    117.836212   \n",
       "std            0.257937      0.166980      0.254550     29.112924   \n",
       "min            0.000000      0.009670      0.000000      0.000000   \n",
       "25%            0.000000      0.092400      0.330000     95.321000   \n",
       "50%            0.000064      0.125000      0.544000    115.734500   \n",
       "75%            0.013475      0.235000      0.743000    135.277000   \n",
       "max            0.993000      0.997000      0.993000    243.507000   \n",
       "\n",
       "       time_signature  \n",
       "count    44118.000000  \n",
       "mean         3.903985  \n",
       "std          0.393791  \n",
       "min          0.000000  \n",
       "25%          4.000000  \n",
       "50%          4.000000  \n",
       "75%          4.000000  \n",
       "max          5.000000  "
      ]
     },
     "execution_count": 6,
     "metadata": {},
     "output_type": "execute_result"
    }
   ],
   "source": [
    "songs_df.describe()"
   ]
  },
  {
   "cell_type": "code",
   "execution_count": 7,
   "id": "3b291cfe",
   "metadata": {},
   "outputs": [
    {
     "data": {
      "image/png": "[encoded data removed]",
      "text/plain": [
       "<Figure size 432x288 with 1 Axes>"
      ]
     },
     "metadata": {
      "needs_background": "light"
     },
     "output_type": "display_data"
    }
   ],
   "source": [
    "#Check Distribution of values across columns\n",
    "plt.hist(songs_df['speechiness'])\n",
    "plt.xlabel('speechiness')\n",
    "plt.show()"
   ]
  },
  {
   "cell_type": "code",
   "execution_count": 8,
   "id": "ef60e7f2",
   "metadata": {},
   "outputs": [
    {
     "data": {
      "image/png": "[encoded data removed]",
      "text/plain": [
       "<Figure size 432x288 with 1 Axes>"
      ]
     },
     "metadata": {
      "needs_background": "light"
     },
     "output_type": "display_data"
    },
    {
     "name": "stdout",
     "output_type": "stream",
     "text": [
      "None\n"
     ]
    }
   ],
   "source": [
    "plt.hist(songs_df['instrumentalness'])\n",
    "plt.xlabel('instrumentalness')\n",
    "print(plt.show())"
   ]
  },
  {
   "cell_type": "code",
   "execution_count": 9,
   "id": "039cf587",
   "metadata": {},
   "outputs": [
    {
     "data": {
      "image/png": "[encoded data removed]",
      "text/plain": [
       "<Figure size 432x288 with 1 Axes>"
      ]
     },
     "metadata": {
      "needs_background": "light"
     },
     "output_type": "display_data"
    }
   ],
   "source": [
    "plt.hist(songs_df['danceability'])\n",
    "plt.xlabel('danceability')\n",
    "plt.show()"
   ]
  },
  {
   "cell_type": "code",
   "execution_count": 11,
   "id": "c57e2c6d",
   "metadata": {},
   "outputs": [
    {
     "data": {
      "image/png": "[encoded data removed]",
      "text/plain": [
       "<Figure size 432x288 with 1 Axes>"
      ]
     },
     "metadata": {
      "needs_background": "light"
     },
     "output_type": "display_data"
    }
   ],
   "source": [
    "plt.hist(songs_df['acousticness'])\n",
    "plt.xlabel('acousticness')\n",
    "plt.show()\n"
   ]
  },
  {
   "cell_type": "code",
   "execution_count": 12,
   "id": "813fd506",
   "metadata": {},
   "outputs": [
    {
     "data": {
      "image/png": "[encoded data removed]",
      "text/plain": [
       "<Figure size 432x288 with 1 Axes>"
      ]
     },
     "metadata": {
      "needs_background": "light"
     },
     "output_type": "display_data"
    }
   ],
   "source": [
    "plt.hist(songs_df['loudness'])\n",
    "plt.xlabel('loudness')\n",
    "plt.show()"
   ]
  },
  {
   "cell_type": "code",
   "execution_count": 13,
   "id": "5c917cba",
   "metadata": {},
   "outputs": [
    {
     "data": {
      "image/png": "[encoded data removed]",
      "text/plain": [
       "<Figure size 432x288 with 1 Axes>"
      ]
     },
     "metadata": {
      "needs_background": "light"
     },
     "output_type": "display_data"
    }
   ],
   "source": [
    "plt.hist(songs_df['liveness'])\n",
    "plt.xlabel('liveness')\n",
    "plt.show()"
   ]
  },
  {
   "cell_type": "code",
   "execution_count": 14,
   "id": "dffb295d",
   "metadata": {},
   "outputs": [
    {
     "data": {
      "image/png": "[encoded data removed]",
      "text/plain": [
       "<Figure size 432x288 with 1 Axes>"
      ]
     },
     "metadata": {
      "needs_background": "light"
     },
     "output_type": "display_data"
    }
   ],
   "source": [
    "plt.hist(songs_df['tempo'])\n",
    "plt.xlabel('tempo')\n",
    "plt.show()"
   ]
  },
  {
   "cell_type": "code",
   "execution_count": 15,
   "id": "35e94286",
   "metadata": {},
   "outputs": [
    {
     "data": {
      "image/png": "[encoded data removed]",
      "text/plain": [
       "<Figure size 432x288 with 1 Axes>"
      ]
     },
     "metadata": {
      "needs_background": "light"
     },
     "output_type": "display_data"
    }
   ],
   "source": [
    "plt.hist(songs_df['valence'])\n",
    "plt.xlabel('valence')\n",
    "plt.show()"
   ]
  },
  {
   "cell_type": "code",
   "execution_count": 16,
   "id": "febe543b",
   "metadata": {},
   "outputs": [
    {
     "data": {
      "image/png": "[encoded data removed]",
      "text/plain": [
       "<Figure size 432x288 with 1 Axes>"
      ]
     },
     "metadata": {
      "needs_background": "light"
     },
     "output_type": "display_data"
    }
   ],
   "source": [
    "plt.hist(songs_df['energy'])\n",
    "plt.xlabel('energy')\n",
    "plt.show()"
   ]
  },
  {
   "cell_type": "code",
   "execution_count": 17,
   "id": "b19a9819",
   "metadata": {},
   "outputs": [
    {
     "data": {
      "image/png": "[encoded data removed]",
      "text/plain": [
       "<Figure size 432x288 with 1 Axes>"
      ]
     },
     "metadata": {
      "needs_background": "light"
     },
     "output_type": "display_data"
    }
   ],
   "source": [
    "plt.hist(songs_df['popularity'])\n",
    "plt.xlabel('popularity')\n",
    "plt.show()"
   ]
  },
  {
   "cell_type": "code",
   "execution_count": null,
   "id": "c41e4f22",
   "metadata": {},
   "outputs": [],
   "source": []
  }
 ],
 "metadata": {
  "kernelspec": {
   "display_name": "PythonData",
   "language": "python",
   "name": "pythondata"
  },
  "language_info": {
   "codemirror_mode": {
    "name": "ipython",
    "version": 3
   },
   "file_extension": ".py",
   "mimetype": "text/x-python",
   "name": "python",
   "nbconvert_exporter": "python",
   "pygments_lexer": "ipython3",
   "version": "3.7.11"
  }
 },
 "nbformat": 4,
 "nbformat_minor": 5
}
