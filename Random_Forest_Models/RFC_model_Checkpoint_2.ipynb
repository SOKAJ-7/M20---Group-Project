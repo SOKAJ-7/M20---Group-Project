{
 "cells": [
  {
   "cell_type": "code",
   "execution_count": 1,
   "id": "68c832dc",
   "metadata": {},
   "outputs": [],
   "source": [
    "import pandas as pd\n",
    "import numpy as np\n",
    "import matplotlib.pyplot as plt\n",
    "from sklearn.ensemble import RandomForestClassifier\n",
    "from sklearn.model_selection import train_test_split, GridSearchCV, cross_val_score\n",
    "from sklearn.model_selection import RandomizedSearchCV\n",
    "from sklearn.metrics import multilabel_confusion_matrix, classification_report, confusion_matrix\n",
    "from sklearn.metrics import accuracy_score\n",
    "from sklearn.preprocessing import StandardScaler, LabelEncoder\n"
   ]
  },
  {
   "cell_type": "code",
   "execution_count": 2,
   "id": "aada5d01",
   "metadata": {},
   "outputs": [
    {
     "data": {
      "text/plain": [
       "(232725, 18)"
      ]
     },
     "execution_count": 2,
     "metadata": {},
     "output_type": "execute_result"
    }
   ],
   "source": [
    "#Import our data\n",
    "songs_df = pd.read_csv('SpotifyFeatures.csv')\n",
    "songs_df.shape"
   ]
  },
  {
   "cell_type": "code",
   "execution_count": 3,
   "id": "2a75459f",
   "metadata": {},
   "outputs": [
    {
     "data": {
      "text/plain": [
       "2"
      ]
     },
     "execution_count": 3,
     "metadata": {},
     "output_type": "execute_result"
    }
   ],
   "source": [
    "#Create subsetted dataframe for our genre\n",
    "genre_df = songs_df[songs_df['genre'] == 'Country']\n",
    "genre_df.sort_values('popularity')\n",
    "genre_df['popularity'][genre_df['popularity'] > 80].count()"
   ]
  },
  {
   "cell_type": "code",
   "execution_count": 4,
   "id": "fb3c35d6",
   "metadata": {},
   "outputs": [
    {
     "data": {
      "text/html": [
       "<div>\n",
       "<style scoped>\n",
       "    .dataframe tbody tr th:only-of-type {\n",
       "        vertical-align: middle;\n",
       "    }\n",
       "\n",
       "    .dataframe tbody tr th {\n",
       "        vertical-align: top;\n",
       "    }\n",
       "\n",
       "    .dataframe thead th {\n",
       "        text-align: right;\n",
       "    }\n",
       "</style>\n",
       "<table border=\"1\" class=\"dataframe\">\n",
       "  <thead>\n",
       "    <tr style=\"text-align: right;\">\n",
       "      <th></th>\n",
       "      <th>popularity</th>\n",
       "      <th>danceability</th>\n",
       "      <th>duration_ms</th>\n",
       "      <th>energy</th>\n",
       "      <th>instrumentalness</th>\n",
       "      <th>key</th>\n",
       "      <th>loudness</th>\n",
       "      <th>mode</th>\n",
       "      <th>tempo</th>\n",
       "      <th>valence</th>\n",
       "    </tr>\n",
       "  </thead>\n",
       "  <tbody>\n",
       "    <tr>\n",
       "      <th>688</th>\n",
       "      <td>45</td>\n",
       "      <td>0.551</td>\n",
       "      <td>200013</td>\n",
       "      <td>0.704</td>\n",
       "      <td>0.000002</td>\n",
       "      <td>G#</td>\n",
       "      <td>-5.426</td>\n",
       "      <td>Major</td>\n",
       "      <td>97.075</td>\n",
       "      <td>0.541</td>\n",
       "    </tr>\n",
       "    <tr>\n",
       "      <th>689</th>\n",
       "      <td>42</td>\n",
       "      <td>0.375</td>\n",
       "      <td>208187</td>\n",
       "      <td>0.859</td>\n",
       "      <td>0.000000</td>\n",
       "      <td>G</td>\n",
       "      <td>-3.243</td>\n",
       "      <td>Major</td>\n",
       "      <td>74.059</td>\n",
       "      <td>0.597</td>\n",
       "    </tr>\n",
       "    <tr>\n",
       "      <th>690</th>\n",
       "      <td>46</td>\n",
       "      <td>0.699</td>\n",
       "      <td>123360</td>\n",
       "      <td>0.408</td>\n",
       "      <td>0.000219</td>\n",
       "      <td>B</td>\n",
       "      <td>-11.460</td>\n",
       "      <td>Major</td>\n",
       "      <td>171.922</td>\n",
       "      <td>0.842</td>\n",
       "    </tr>\n",
       "    <tr>\n",
       "      <th>691</th>\n",
       "      <td>54</td>\n",
       "      <td>0.555</td>\n",
       "      <td>238600</td>\n",
       "      <td>0.726</td>\n",
       "      <td>0.000178</td>\n",
       "      <td>D</td>\n",
       "      <td>-8.939</td>\n",
       "      <td>Major</td>\n",
       "      <td>107.719</td>\n",
       "      <td>0.505</td>\n",
       "    </tr>\n",
       "    <tr>\n",
       "      <th>692</th>\n",
       "      <td>42</td>\n",
       "      <td>0.640</td>\n",
       "      <td>243000</td>\n",
       "      <td>0.478</td>\n",
       "      <td>0.000000</td>\n",
       "      <td>B</td>\n",
       "      <td>-6.960</td>\n",
       "      <td>Major</td>\n",
       "      <td>136.717</td>\n",
       "      <td>0.315</td>\n",
       "    </tr>\n",
       "  </tbody>\n",
       "</table>\n",
       "</div>"
      ],
      "text/plain": [
       "     popularity  danceability  duration_ms  energy  instrumentalness key  \\\n",
       "688          45         0.551       200013   0.704          0.000002  G#   \n",
       "689          42         0.375       208187   0.859          0.000000   G   \n",
       "690          46         0.699       123360   0.408          0.000219   B   \n",
       "691          54         0.555       238600   0.726          0.000178   D   \n",
       "692          42         0.640       243000   0.478          0.000000   B   \n",
       "\n",
       "     loudness   mode    tempo  valence  \n",
       "688    -5.426  Major   97.075    0.541  \n",
       "689    -3.243  Major   74.059    0.597  \n",
       "690   -11.460  Major  171.922    0.842  \n",
       "691    -8.939  Major  107.719    0.505  \n",
       "692    -6.960  Major  136.717    0.315  "
      ]
     },
     "execution_count": 4,
     "metadata": {},
     "output_type": "execute_result"
    }
   ],
   "source": [
    "#Start prepping data for our model\n",
    "#Drop columns not relevant to the model\n",
    "genre_df = genre_df.drop(columns=['genre','artist_name','track_name','track_id','time_signature','liveness','acousticness','speechiness'])\n",
    "\n",
    "genre_df.head()"
   ]
  },
  {
   "cell_type": "code",
   "execution_count": 5,
   "id": "3b89e822",
   "metadata": {},
   "outputs": [
    {
     "data": {
      "text/plain": [
       "Unpoopular          7221\n",
       "Somewhat Popular    1063\n",
       "Popular              200\n",
       "Very Popular         116\n",
       "Name: popularity_binned, dtype: int64"
      ]
     },
     "execution_count": 5,
     "metadata": {},
     "output_type": "execute_result"
    }
   ],
   "source": [
    "#bin target variable (popularity) into 5 classes: 'Very Unpopular', 'Unpopular', 'Somewhat popular', 'Popular', 'Very Popular'\n",
    "#bin target variable relative to genre of interest\n",
    "#drop old popularity \n",
    "bins_1 = [0,50,65,80,100]\n",
    "labels_1 = ['Unpopular','Somewhat Popular','Popular', 'Very Popular']\n",
    "\n",
    "bins_2 = [0,55,65,70,100]\n",
    "labels_2 = ['Unpoopular','Somewhat Popular', 'Popular','Very Popular']\n",
    "\n",
    "if genre_df['popularity'][genre_df['popularity'] > 80].count() <= 100:\n",
    "        genre_df['popularity_binned'] = pd.cut(genre_df['popularity'], bins = bins_2, labels = labels_2)\n",
    "        \n",
    "else:\n",
    "    genre_df['popularity_binned'] = pd.cut(genre_df['popularity'], bins = bins_1, labels = labels_1)\n",
    "    \n",
    "genre_df = genre_df.drop(columns = ['popularity'])\n",
    "\n",
    "genre_df['popularity_binned'].value_counts()"
   ]
  },
  {
   "cell_type": "code",
   "execution_count": 6,
   "id": "dd1e60fd",
   "metadata": {},
   "outputs": [
    {
     "data": {
      "text/plain": [
       "Unpoopular          7221\n",
       "Somewhat Popular    1063\n",
       "Popular              200\n",
       "Very Popular         116\n",
       "Name: popularity_binned, dtype: int64"
      ]
     },
     "execution_count": 6,
     "metadata": {},
     "output_type": "execute_result"
    }
   ],
   "source": [
    "#encode categorical variables\n",
    "genre_df = pd.get_dummies(genre_df, columns = ['mode','key'])\n",
    "genre_df['popularity_binned'].value_counts()"
   ]
  },
  {
   "cell_type": "code",
   "execution_count": 7,
   "id": "af72d1a2",
   "metadata": {},
   "outputs": [],
   "source": [
    "#Split our data into target and feature variables\n",
    "X = genre_df.drop(columns=['popularity_binned']).values\n",
    "y= genre_df['popularity_binned'].values\n"
   ]
  },
  {
   "cell_type": "code",
   "execution_count": 8,
   "id": "b391c757",
   "metadata": {},
   "outputs": [],
   "source": [
    "#Create Test/Train Splits\n",
    "from sklearn.model_selection import train_test_split\n",
    "X_test, X_train, y_test, y_train = train_test_split(X, y, train_size = 0.85, test_size = 0.15, random_state=1)\n"
   ]
  },
  {
   "cell_type": "code",
   "execution_count": 9,
   "id": "876c713a",
   "metadata": {},
   "outputs": [
    {
     "name": "stdout",
     "output_type": "stream",
     "text": [
      "(array([0, 1, 2, 3, 4]), array([  33,  171, 1063,   25,    8], dtype=int64))\n"
     ]
    }
   ],
   "source": [
    "#Encode our categorical variables\n",
    "encoder = LabelEncoder()\n",
    "encoder.fit(y_test)\n",
    "y_test = encoder.transform(y_test)\n",
    "\n",
    "encoder.fit(y_train)\n",
    "y_train = encoder.transform(y_train)\n",
    "\n",
    "print(np.unique(y_train, return_counts = True))"
   ]
  },
  {
   "cell_type": "code",
   "execution_count": 10,
   "id": "4ecc132e",
   "metadata": {},
   "outputs": [],
   "source": [
    "#Scale and Transform our data\n",
    "scaler = StandardScaler()\n",
    "X_train = scaler.fit_transform(X_train)\n",
    "X_test = scaler.fit_transform(X_test)\n"
   ]
  },
  {
   "cell_type": "code",
   "execution_count": 11,
   "id": "a3f871fe",
   "metadata": {},
   "outputs": [],
   "source": [
    "#Set up parameters\n",
    "n_estimators = [5,25,50]\n",
    "max_features = ['auto','sqrt']\n",
    "max_depth = [2,3,4]\n",
    "criterion = ['gain','entropy']\n",
    "min_samples_split = [2,5,10]\n",
    "min_samples_leaf = [1,2,3]\n",
    "bootstrap = [True,False]"
   ]
  },
  {
   "cell_type": "code",
   "execution_count": 12,
   "id": "477b2d1f",
   "metadata": {},
   "outputs": [
    {
     "data": {
      "text/plain": [
       "GridSearchCV(cv=5, estimator=RandomForestClassifier(),\n",
       "             param_grid={'bootstrap': [True, False], 'max_depth': [2, 3, 4],\n",
       "                         'min_samples_leaf': [1, 2, 3],\n",
       "                         'min_samples_split': [2, 5, 10],\n",
       "                         'n_estimators': [5, 25, 50]})"
      ]
     },
     "execution_count": 12,
     "metadata": {},
     "output_type": "execute_result"
    }
   ],
   "source": [
    "#create Random Forest Classifier model and optimize parameters\n",
    "rfc = RandomForestClassifier()\n",
    "parameters = {\n",
    "    \"n_estimators\": n_estimators,\n",
    "    \"max_depth\" : max_features,\n",
    "    \"max_depth\" : max_depth,\n",
    "    \"min_samples_split\" : min_samples_split,\n",
    "    \"min_samples_leaf\" : min_samples_leaf,\n",
    "    \"bootstrap\" : bootstrap\n",
    "    }\n",
    "cv = GridSearchCV(rfc,parameters,cv=5)\n",
    "cv.fit(X_train,y_train)"
   ]
  },
  {
   "cell_type": "code",
   "execution_count": 13,
   "id": "c3841cd6",
   "metadata": {},
   "outputs": [
    {
     "name": "stdout",
     "output_type": "stream",
     "text": [
      "The best parameters are {'bootstrap': True, 'max_depth': 2, 'min_samples_leaf': 1, 'min_samples_split': 2, 'n_estimators': 5}\n"
     ]
    }
   ],
   "source": [
    "print(f'The best parameters are {cv.best_params_}')"
   ]
  },
  {
   "cell_type": "code",
   "execution_count": 14,
   "id": "3bb1577c",
   "metadata": {},
   "outputs": [
    {
     "data": {
      "text/plain": [
       "RandomForestClassifier(max_depth=2, n_estimators=5, random_state=0)"
      ]
     },
     "execution_count": 14,
     "metadata": {},
     "output_type": "execute_result"
    }
   ],
   "source": [
    "#Fit the model with best parameters\n",
    "rfc = RandomForestClassifier(n_estimators = cv.best_params_['n_estimators'], \n",
    "                           max_depth = cv.best_params_['max_depth'], \n",
    "                           min_samples_split = cv.best_params_['min_samples_split'],\n",
    "                           min_samples_leaf =  cv.best_params_['min_samples_leaf'],\n",
    "                           bootstrap = cv.best_params_['bootstrap'],\n",
    "                           random_state = 0)\n",
    "rfc.fit(X_train, y_train)"
   ]
  },
  {
   "cell_type": "code",
   "execution_count": 15,
   "id": "e3427408",
   "metadata": {},
   "outputs": [
    {
     "data": {
      "text/plain": [
       "array([[0.02219463, 0.13132319, 0.81938647, 0.02138048, 0.00571523],\n",
       "       [0.03147014, 0.11918449, 0.82658417, 0.01370806, 0.00905313],\n",
       "       [0.03520307, 0.17565998, 0.74840839, 0.03013898, 0.01058957],\n",
       "       ...,\n",
       "       [0.02156276, 0.1562133 , 0.79240845, 0.017864  , 0.01195149],\n",
       "       [0.0295058 , 0.17502756, 0.76412783, 0.02600141, 0.0053374 ],\n",
       "       [0.04215866, 0.13894726, 0.78464881, 0.02520091, 0.00904436]])"
      ]
     },
     "execution_count": 15,
     "metadata": {},
     "output_type": "execute_result"
    }
   ],
   "source": [
    "#predictions\n",
    "y_pred = rfc.predict(X_test)\n",
    "y_pred\n",
    "y_probs = rfc.predict_proba(X_test)\n",
    "y_probs"
   ]
  },
  {
   "cell_type": "code",
   "execution_count": 16,
   "id": "833db1fd",
   "metadata": {},
   "outputs": [
    {
     "data": {
      "text/plain": [
       "array([[   0,    0,  167,    0,    0],\n",
       "       [   0,    0,  892,    0,    0],\n",
       "       [   0,    0, 6158,    0,    0],\n",
       "       [   0,    0,   91,    0,    0],\n",
       "       [   0,    0,   56,    0,    0]], dtype=int64)"
      ]
     },
     "execution_count": 16,
     "metadata": {},
     "output_type": "execute_result"
    }
   ],
   "source": [
    "mcm = multilabel_confusion_matrix(y_test, y_pred)\n",
    "cm = confusion_matrix(y_test, y_pred)\n",
    "cm"
   ]
  },
  {
   "cell_type": "code",
   "execution_count": 17,
   "id": "2edebcca",
   "metadata": {},
   "outputs": [],
   "source": [
    "mcm_dict = {}\n",
    "for i in np.arange(0,4):\n",
    "    mcm_dict.update({f'Confusion Matrix {i+1}': pd.DataFrame(mcm[i], columns = ['Pred_Pos','Pred_Neg'], index = ['Acc_Pos','Acc_Neg'])})\n"
   ]
  },
  {
   "cell_type": "code",
   "execution_count": 18,
   "id": "e0c6f832",
   "metadata": {},
   "outputs": [
    {
     "name": "stdout",
     "output_type": "stream",
     "text": [
      "Model Scoring for Unpopular songs\n",
      "         Pred_Pos  Pred_Neg\n",
      "Acc_Pos      7197         0\n",
      "Acc_Neg       167         0\n",
      "The precision score is 0.9773221075502444\n",
      "The recall score is 1.0\n",
      "The accuracy score is 0.9773221075502444\n",
      "-------------------------------------\n",
      "Model Scoring for Somewhat Popular songs\n",
      "         Pred_Pos  Pred_Neg\n",
      "Acc_Pos      6472         0\n",
      "Acc_Neg       892         0\n",
      "The precision score is 0.8788701792504073\n",
      "The recall score is 1.0\n",
      "The accuracy score is 0.8788701792504073\n",
      "-------------------------------------\n",
      "Model Scoring for Popular songs\n",
      "         Pred_Pos  Pred_Neg\n",
      "Acc_Pos         0      1206\n",
      "Acc_Neg         0      6158\n",
      "The precision score is nan\n",
      "The recall score is 0.0\n",
      "The accuracy score is 0.8362303096143401\n",
      "-------------------------------------\n",
      "Model Scoring for Very Popular songs\n",
      "         Pred_Pos  Pred_Neg\n",
      "Acc_Pos      7273         0\n",
      "Acc_Neg        91         0\n",
      "The precision score is 0.9876425855513308\n",
      "The recall score is 1.0\n",
      "The accuracy score is 0.9876425855513308\n",
      "-------------------------------------\n"
     ]
    },
    {
     "name": "stderr",
     "output_type": "stream",
     "text": [
      "C:\\Users\\jkova\\AppData\\Local\\Temp/ipykernel_5224/1994866534.py:11: RuntimeWarning: invalid value encountered in longlong_scalars\n",
      "  precision = TP / (FP + TP)\n"
     ]
    }
   ],
   "source": [
    "classes = ['Unpopular','Somewhat Popular','Popular', 'Very Popular']\n",
    "\n",
    "\n",
    "for i in np.arange(1,5):\n",
    "    print(f'Model Scoring for {classes[i-1]} songs')\n",
    "    TP = mcm_dict[f'Confusion Matrix {i}']['Pred_Pos'].values[0]                \n",
    "    TN = mcm_dict[f'Confusion Matrix {i}']['Pred_Neg'].values[1]\n",
    "    FP = mcm_dict[f'Confusion Matrix {i}']['Pred_Pos'].values[1]\n",
    "    FN = mcm_dict[f'Confusion Matrix {i}']['Pred_Neg'].values[0]\n",
    "    print(mcm_dict[f'Confusion Matrix {i}'])\n",
    "    precision = TP / (FP + TP)\n",
    "    recall = TP / (FN + TP)\n",
    "    accuracy = (TP + TN)/ (TP + FN + TN + FP)\n",
    "    \n",
    "    print(f'The precision score is {precision}')\n",
    "    print(f'The recall score is {recall}')\n",
    "    print(f'The accuracy score is {accuracy}')\n",
    "    print('-------------------------------------')\n",
    "          \n",
    "\n",
    "    \n",
    "    \n",
    "   "
   ]
  },
  {
   "cell_type": "code",
   "execution_count": 19,
   "id": "c7731b3c",
   "metadata": {},
   "outputs": [
    {
     "data": {
      "text/plain": [
       "Index(['danceability', 'duration_ms', 'energy', 'instrumentalness', 'loudness',\n",
       "       'tempo', 'valence', 'mode_Major', 'mode_Minor', 'key_A', 'key_A#',\n",
       "       'key_B', 'key_C', 'key_C#', 'key_D', 'key_D#', 'key_E', 'key_F',\n",
       "       'key_F#', 'key_G', 'key_G#'],\n",
       "      dtype='object')"
      ]
     },
     "execution_count": 19,
     "metadata": {},
     "output_type": "execute_result"
    }
   ],
   "source": [
    "X_df = genre_df.drop(columns=['popularity_binned'])\n",
    "X_df.columns"
   ]
  },
  {
   "cell_type": "code",
   "execution_count": 20,
   "id": "849c5a63",
   "metadata": {},
   "outputs": [
    {
     "data": {
      "text/plain": [
       "0.8362303096143401"
      ]
     },
     "execution_count": 20,
     "metadata": {},
     "output_type": "execute_result"
    }
   ],
   "source": [
    "acc_score = accuracy_score(y_test, y_pred)\n",
    "acc_score"
   ]
  },
  {
   "cell_type": "code",
   "execution_count": 21,
   "id": "37819719",
   "metadata": {},
   "outputs": [
    {
     "data": {
      "text/plain": [
       "[(0.2729317680179007, 'energy'),\n",
       " (0.25946943966518493, 'loudness'),\n",
       " (0.1246329713226541, 'duration_ms'),\n",
       " (0.0924810444992286, 'tempo'),\n",
       " (0.07688337399228949, 'valence'),\n",
       " (0.06835239965778477, 'danceability'),\n",
       " (0.056116949503348605, 'instrumentalness'),\n",
       " (0.023004075651060656, 'mode_Minor'),\n",
       " (0.01892770939572558, 'key_D#'),\n",
       " (0.007200268294822696, 'key_C'),\n",
       " (0.0, 'mode_Major'),\n",
       " (0.0, 'key_G#'),\n",
       " (0.0, 'key_G'),\n",
       " (0.0, 'key_F#'),\n",
       " (0.0, 'key_F'),\n",
       " (0.0, 'key_E'),\n",
       " (0.0, 'key_D'),\n",
       " (0.0, 'key_C#'),\n",
       " (0.0, 'key_B'),\n",
       " (0.0, 'key_A#'),\n",
       " (0.0, 'key_A')]"
      ]
     },
     "execution_count": 21,
     "metadata": {},
     "output_type": "execute_result"
    }
   ],
   "source": [
    "#Check feature importance\n",
    "feat_imp = rfc.feature_importances_\n",
    "\n",
    "# We can sort the features by their importance.\n",
    "sorted(zip(rfc.feature_importances_, X_df.columns), reverse=True)"
   ]
  },
  {
   "cell_type": "code",
   "execution_count": null,
   "id": "f8d68b80",
   "metadata": {},
   "outputs": [],
   "source": []
  },
  {
   "cell_type": "code",
   "execution_count": null,
   "id": "73e573f4",
   "metadata": {},
   "outputs": [],
   "source": []
  }
 ],
 "metadata": {
  "kernelspec": {
   "display_name": "mlenv",
   "language": "python",
   "name": "mlenv"
  },
  "language_info": {
   "codemirror_mode": {
    "name": "ipython",
    "version": 3
   },
   "file_extension": ".py",
   "mimetype": "text/x-python",
   "name": "python",
   "nbconvert_exporter": "python",
   "pygments_lexer": "ipython3",
   "version": "3.10.2"
  }
 },
 "nbformat": 4,
 "nbformat_minor": 5
}
