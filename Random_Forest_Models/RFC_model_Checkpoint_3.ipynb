{
 "cells": [
  {
   "cell_type": "code",
   "execution_count": 1,
   "id": "68c832dc",
   "metadata": {},
   "outputs": [],
   "source": [
    "import pandas as pd\n",
    "import numpy as np\n",
    "import matplotlib.pyplot as plt\n",
    "from sklearn.ensemble import RandomForestClassifier\n",
    "from sklearn.model_selection import train_test_split, GridSearchCV, cross_val_score\n",
    "from sklearn.model_selection import RandomizedSearchCV\n",
    "from sklearn.metrics import multilabel_confusion_matrix, classification_report, confusion_matrix\n",
    "from sklearn.metrics import accuracy_score\n",
    "from sklearn.preprocessing import StandardScaler, LabelEncoder\n",
    "from imblearn.combine import SMOTEENN\n"
   ]
  },
  {
   "cell_type": "code",
   "execution_count": 2,
   "id": "aada5d01",
   "metadata": {},
   "outputs": [
    {
     "data": {
      "text/plain": [
       "array(['rock', 'r&b', 'pop', 'edm', 'latin', 'rap'], dtype=object)"
      ]
     },
     "execution_count": 2,
     "metadata": {},
     "output_type": "execute_result"
    }
   ],
   "source": [
    "#Import our data\n",
    "songs_df = pd.read_csv('spotify_songs.csv')\n",
    "\n",
    "songs_df['playlist_genre'].unique()  "
   ]
  },
  {
   "cell_type": "code",
   "execution_count": null,
   "id": "7e0461f5",
   "metadata": {},
   "outputs": [],
   "source": []
  },
  {
   "cell_type": "code",
   "execution_count": 3,
   "id": "2a75459f",
   "metadata": {},
   "outputs": [
    {
     "data": {
      "text/plain": [
       "3521"
      ]
     },
     "execution_count": 3,
     "metadata": {},
     "output_type": "execute_result"
    }
   ],
   "source": [
    "#Create subsetted dataframe for our genre\n",
    "genre_df = songs_df[songs_df['playlist_genre'] == 'rock']\n",
    "\n",
    "genre_df['track_popularity'].count()\n",
    "\n"
   ]
  },
  {
   "cell_type": "code",
   "execution_count": 4,
   "id": "fb3c35d6",
   "metadata": {},
   "outputs": [
    {
     "data": {
      "text/plain": [
       "<bound method hist_series of 0        41\n",
       "1        28\n",
       "15       41\n",
       "50       50\n",
       "54       56\n",
       "         ..\n",
       "18430     7\n",
       "18437    50\n",
       "18439    57\n",
       "18447    64\n",
       "18453    61\n",
       "Name: track_popularity, Length: 3521, dtype: int64>"
      ]
     },
     "execution_count": 4,
     "metadata": {},
     "output_type": "execute_result"
    }
   ],
   "source": [
    "#Start prepping data for our model\n",
    "#Drop columns not relevant to the model\n",
    "genre_df = genre_df.drop(columns=['key','playlist_genre','playlist_name','track_artist','lyrics','track_album_name','track_name','track_album_id','track_id','track_album_release_date','playlist_id','language','playlist_subgenre','liveness','acousticness','speechiness'])\n",
    "\n",
    "genre_df['track_popularity'].hist"
   ]
  },
  {
   "cell_type": "code",
   "execution_count": 5,
   "id": "3b89e822",
   "metadata": {},
   "outputs": [
    {
     "data": {
      "text/plain": [
       "['swp', 'u', 'vu', NaN, 'p', 'vp']\n",
       "Categories (5, object): ['vu' < 'u' < 'swp' < 'p' < 'vp']"
      ]
     },
     "execution_count": 5,
     "metadata": {},
     "output_type": "execute_result"
    }
   ],
   "source": [
    "#bin target variable (popularity) into 5 classes: 'Very Unpopular', 'Unpopular', 'Somewhat popular', 'Popular', 'Very Popular'\n",
    "#bin target variable relative to genre of interest\n",
    "#drop old popularity \n",
    "bins_1 = [0,20,40,60,80,100]\n",
    "labels_1 = ['vu','u','swp','p','vp']\n",
    "\n",
    "bins_2 = [0,20,40,60,80,100]\n",
    "labels_2 = ['vu','u','swp','p','vp']\n",
    "\n",
    "if genre_df['track_popularity'][genre_df['track_popularity'] > 80].count() <= 100:\n",
    "        genre_df['popularity_binned'] = pd.cut(genre_df['track_popularity'], bins = bins_2, labels = labels_2)\n",
    "        \n",
    "else:\n",
    "    genre_df['popularity_binned'] = pd.cut(genre_df['popularity'], bins = bins_1, labels = labels_1)\n",
    "    \n",
    "genre_df = genre_df.drop(columns = ['track_popularity'])\n",
    "\n",
    "genre_df['popularity_binned'].unique()"
   ]
  },
  {
   "cell_type": "code",
   "execution_count": 6,
   "id": "dd1e60fd",
   "metadata": {},
   "outputs": [
    {
     "data": {
      "text/plain": [
       "(3233, 9)"
      ]
     },
     "execution_count": 6,
     "metadata": {},
     "output_type": "execute_result"
    }
   ],
   "source": [
    "#encode categorical variables\n",
    "#genre_df = pd.get_dummies(genre_df, columns = ['mode'])\n",
    "genre_df['popularity_binned'].value_counts()\n",
    "\n",
    "genre_df = genre_df.dropna(axis=0)\n",
    "\n",
    "genre_df.shape"
   ]
  },
  {
   "cell_type": "code",
   "execution_count": 7,
   "id": "af72d1a2",
   "metadata": {},
   "outputs": [],
   "source": [
    "#Split our data into target and feature variables\n",
    "X = genre_df.drop(columns=['popularity_binned']).values\n",
    "y= genre_df['popularity_binned'].dropna().values\n"
   ]
  },
  {
   "cell_type": "code",
   "execution_count": 8,
   "id": "b391c757",
   "metadata": {},
   "outputs": [],
   "source": [
    "#Create Test/Train Splits\n",
    "from sklearn.model_selection import train_test_split\n",
    "X_test, X_train, y_test, y_train = train_test_split(X, y, train_size = 0.70, test_size = 0.30, random_state=1)\n"
   ]
  },
  {
   "cell_type": "code",
   "execution_count": 9,
   "id": "b640d0de",
   "metadata": {},
   "outputs": [],
   "source": [
    "#Fix class imbalance by using SMOTEENN resampling\n",
    "smote_enn = SMOTEENN(random_state = 0)\n",
    "X_resampled, y_resampled = smote_enn.fit_resample(X,y)"
   ]
  },
  {
   "cell_type": "code",
   "execution_count": 10,
   "id": "876c713a",
   "metadata": {},
   "outputs": [
    {
     "name": "stdout",
     "output_type": "stream",
     "text": [
      "(array([0, 1, 2, 3, 4]), array([ 45,   9, 101, 115, 150], dtype=int64))\n"
     ]
    }
   ],
   "source": [
    "#Encode our categorical variables\n",
    "encoder = LabelEncoder()\n",
    "encoder.fit(y_test)\n",
    "y_test = encoder.transform(y_test)\n",
    "\n",
    "encoder.fit(y_resampled)\n",
    "y_train = encoder.transform(y_resampled)\n",
    "\n",
    "print(np.unique(y_train, return_counts = True))"
   ]
  },
  {
   "cell_type": "code",
   "execution_count": 11,
   "id": "4ecc132e",
   "metadata": {},
   "outputs": [],
   "source": [
    "#Scale and Transform our data\n",
    "scaler = StandardScaler()\n",
    "X_train = scaler.fit_transform(X_resampled)\n",
    "X_test = scaler.fit_transform(X_test)\n"
   ]
  },
  {
   "cell_type": "code",
   "execution_count": 12,
   "id": "a3f871fe",
   "metadata": {},
   "outputs": [],
   "source": [
    "#Set up parameters\n",
    "n_estimators = [5,25,50]\n",
    "max_features = ['auto','sqrt']\n",
    "max_depth = [2,3,4]\n",
    "criterion = ['gain','entropy']\n",
    "min_samples_split = [2,5,10]\n",
    "min_samples_leaf = [1,2,3]\n",
    "bootstrap = [True,False]"
   ]
  },
  {
   "cell_type": "code",
   "execution_count": 13,
   "id": "477b2d1f",
   "metadata": {},
   "outputs": [
    {
     "data": {
      "text/plain": [
       "GridSearchCV(cv=5, estimator=RandomForestClassifier(),\n",
       "             param_grid={'bootstrap': [True, False], 'max_depth': [2, 3, 4],\n",
       "                         'min_samples_leaf': [1, 2, 3],\n",
       "                         'min_samples_split': [2, 5, 10],\n",
       "                         'n_estimators': [5, 25, 50]})"
      ]
     },
     "execution_count": 13,
     "metadata": {},
     "output_type": "execute_result"
    }
   ],
   "source": [
    "#create Random Forest Classifier model and optimize parameters\n",
    "rfc = RandomForestClassifier()\n",
    "parameters = {\n",
    "    \"n_estimators\": n_estimators,\n",
    "    \"max_depth\" : max_features,\n",
    "    \"max_depth\" : max_depth,\n",
    "    \"min_samples_split\" : min_samples_split,\n",
    "    \"min_samples_leaf\" : min_samples_leaf,\n",
    "    \"bootstrap\" : bootstrap\n",
    "    }\n",
    "cv = GridSearchCV(rfc,parameters,cv=5)\n",
    "cv.fit(X_train,y_train)"
   ]
  },
  {
   "cell_type": "code",
   "execution_count": 14,
   "id": "c3841cd6",
   "metadata": {},
   "outputs": [
    {
     "name": "stdout",
     "output_type": "stream",
     "text": [
      "The best parameters are {'bootstrap': False, 'max_depth': 4, 'min_samples_leaf': 1, 'min_samples_split': 2, 'n_estimators': 50}\n"
     ]
    }
   ],
   "source": [
    "print(f'The best parameters are {cv.best_params_}')"
   ]
  },
  {
   "cell_type": "code",
   "execution_count": 15,
   "id": "3bb1577c",
   "metadata": {},
   "outputs": [
    {
     "data": {
      "text/plain": [
       "RandomForestClassifier(bootstrap=False, max_depth=4, n_estimators=50,\n",
       "                       random_state=0)"
      ]
     },
     "execution_count": 15,
     "metadata": {},
     "output_type": "execute_result"
    }
   ],
   "source": [
    "#Fit the model with best parameters\n",
    "rfc = RandomForestClassifier(n_estimators = cv.best_params_['n_estimators'], \n",
    "                           max_depth = cv.best_params_['max_depth'], \n",
    "                           min_samples_split = cv.best_params_['min_samples_split'],\n",
    "                           min_samples_leaf =  cv.best_params_['min_samples_leaf'],\n",
    "                           bootstrap = cv.best_params_['bootstrap'],\n",
    "                           random_state = 0)\n",
    "rfc.fit(X_train, y_train)"
   ]
  },
  {
   "cell_type": "code",
   "execution_count": 16,
   "id": "e3427408",
   "metadata": {},
   "outputs": [
    {
     "data": {
      "text/plain": [
       "array([[0.1922142 , 0.01297833, 0.28387639, 0.11184635, 0.39908473],\n",
       "       [0.08053922, 0.01258648, 0.30553014, 0.13075722, 0.47058694],\n",
       "       [0.07670898, 0.0159369 , 0.17297404, 0.22024728, 0.51413279],\n",
       "       ...,\n",
       "       [0.10030446, 0.07457692, 0.51935521, 0.0081208 , 0.29764261],\n",
       "       [0.16702219, 0.03842725, 0.263653  , 0.12125471, 0.40964285],\n",
       "       [0.11408851, 0.02505103, 0.379354  , 0.02362404, 0.45788243]])"
      ]
     },
     "execution_count": 16,
     "metadata": {},
     "output_type": "execute_result"
    }
   ],
   "source": [
    "#predictions\n",
    "y_pred = rfc.predict(X_test)\n",
    "y_pred\n"
   ]
  },
  {
   "cell_type": "code",
   "execution_count": 17,
   "id": "833db1fd",
   "metadata": {},
   "outputs": [
    {
     "data": {
      "text/plain": [
       "array([[  0,   0, 164, 153, 339],\n",
       "       [  0,   0, 230, 206, 395],\n",
       "       [  0,   0, 100,  86, 170],\n",
       "       [  0,   0,   1,  10,   3],\n",
       "       [  0,   0,  88,  87, 231]], dtype=int64)"
      ]
     },
     "execution_count": 17,
     "metadata": {},
     "output_type": "execute_result"
    }
   ],
   "source": [
    "mcm = multilabel_confusion_matrix(y_test, y_pred)\n",
    "cm = confusion_matrix(y_test, y_pred)\n",
    "cm"
   ]
  },
  {
   "cell_type": "code",
   "execution_count": 18,
   "id": "2edebcca",
   "metadata": {},
   "outputs": [],
   "source": [
    "mcm_dict = {}\n",
    "for i in np.arange(0,4):\n",
    "    mcm_dict.update({f'Confusion Matrix {i+1}': pd.DataFrame(mcm[i], columns = ['Pred_Pos','Pred_Neg'], index = ['Acc_Pos','Acc_Neg'])})\n"
   ]
  },
  {
   "cell_type": "code",
   "execution_count": 19,
   "id": "e0c6f832",
   "metadata": {},
   "outputs": [
    {
     "name": "stdout",
     "output_type": "stream",
     "text": [
      "Model Scoring for vu songs\n",
      "         Pred_Pos  Pred_Neg\n",
      "Acc_Pos      1607         0\n",
      "Acc_Neg       656         0\n",
      "The precision score is 0.7101193106495802\n",
      "The recall score is 1.0\n",
      "The accuracy score is 0.7101193106495802\n",
      "-------------------------------------\n",
      "Model Scoring for u songs\n",
      "         Pred_Pos  Pred_Neg\n",
      "Acc_Pos      1432         0\n",
      "Acc_Neg       831         0\n",
      "The precision score is 0.6327883340698188\n",
      "The recall score is 1.0\n",
      "The accuracy score is 0.6327883340698188\n",
      "-------------------------------------\n",
      "Model Scoring for swp songs\n",
      "         Pred_Pos  Pred_Neg\n",
      "Acc_Pos      1424       483\n",
      "Acc_Neg       256       100\n",
      "The precision score is 0.8476190476190476\n",
      "The recall score is 0.746722600943891\n",
      "The accuracy score is 0.6734423331860362\n",
      "-------------------------------------\n",
      "Model Scoring for p songs\n",
      "         Pred_Pos  Pred_Neg\n",
      "Acc_Pos      1717       532\n",
      "Acc_Neg         4        10\n",
      "The precision score is 0.9976757699012202\n",
      "The recall score is 0.76345042240996\n",
      "The accuracy score is 0.7631462660185594\n",
      "-------------------------------------\n"
     ]
    }
   ],
   "source": [
    "classes = ['vu','u','swp','p','vp']\n",
    "\n",
    "\n",
    "for i in np.arange(1,5):\n",
    "    print(f'Model Scoring for {classes[i-1]} songs')\n",
    "    TP = mcm_dict[f'Confusion Matrix {i}']['Pred_Pos'].values[0]                \n",
    "    TN = mcm_dict[f'Confusion Matrix {i}']['Pred_Neg'].values[1]\n",
    "    FP = mcm_dict[f'Confusion Matrix {i}']['Pred_Pos'].values[1]\n",
    "    FN = mcm_dict[f'Confusion Matrix {i}']['Pred_Neg'].values[0]\n",
    "    print(mcm_dict[f'Confusion Matrix {i}'])\n",
    "    precision = TP / (FP + TP)\n",
    "    recall = TP / (FN + TP)\n",
    "    accuracy = (TP + TN)/ (TP + FN + TN + FP)\n",
    "    \n",
    "    print(f'The precision score is {precision}')\n",
    "    print(f'The recall score is {recall}')\n",
    "    print(f'The accuracy score is {accuracy}')\n",
    "    print('-------------------------------------')\n",
    "          \n",
    "\n",
    "    \n",
    "    \n",
    "   "
   ]
  },
  {
   "cell_type": "code",
   "execution_count": 20,
   "id": "c7731b3c",
   "metadata": {},
   "outputs": [
    {
     "data": {
      "text/plain": [
       "4    1138\n",
       "2     583\n",
       "3     542\n",
       "dtype: int64"
      ]
     },
     "execution_count": 20,
     "metadata": {},
     "output_type": "execute_result"
    }
   ],
   "source": [
    "X_df = genre_df.drop(columns=['popularity_binned'])\n",
    "X_df.columns\n",
    "pd.DataFrame(y_pred).value_counts()"
   ]
  },
  {
   "cell_type": "code",
   "execution_count": 21,
   "id": "849c5a63",
   "metadata": {},
   "outputs": [
    {
     "name": "stdout",
     "output_type": "stream",
     "text": [
      "              precision    recall  f1-score   support\n",
      "\n",
      "          vu       0.00      0.00      0.00       656\n",
      "           u       0.00      0.00      0.00       831\n",
      "         swp       0.17      0.28      0.21       356\n",
      "           p       0.02      0.71      0.04        14\n",
      "          vp       0.20      0.57      0.30       406\n",
      "\n",
      "    accuracy                           0.15      2263\n",
      "   macro avg       0.08      0.31      0.11      2263\n",
      "weighted avg       0.06      0.15      0.09      2263\n",
      "\n"
     ]
    },
    {
     "name": "stderr",
     "output_type": "stream",
     "text": [
      "C:\\Users\\jkova\\anaconda3\\envs\\mlenv\\lib\\site-packages\\sklearn\\metrics\\_classification.py:1318: UndefinedMetricWarning: Precision and F-score are ill-defined and being set to 0.0 in labels with no predicted samples. Use `zero_division` parameter to control this behavior.\n",
      "  _warn_prf(average, modifier, msg_start, len(result))\n",
      "C:\\Users\\jkova\\anaconda3\\envs\\mlenv\\lib\\site-packages\\sklearn\\metrics\\_classification.py:1318: UndefinedMetricWarning: Precision and F-score are ill-defined and being set to 0.0 in labels with no predicted samples. Use `zero_division` parameter to control this behavior.\n",
      "  _warn_prf(average, modifier, msg_start, len(result))\n",
      "C:\\Users\\jkova\\anaconda3\\envs\\mlenv\\lib\\site-packages\\sklearn\\metrics\\_classification.py:1318: UndefinedMetricWarning: Precision and F-score are ill-defined and being set to 0.0 in labels with no predicted samples. Use `zero_division` parameter to control this behavior.\n",
      "  _warn_prf(average, modifier, msg_start, len(result))\n"
     ]
    }
   ],
   "source": [
    "#Evaluate the model\n",
    "cr = classification_report(y_test, y_pred, target_names = classes)\n",
    "print(cr)"
   ]
  },
  {
   "cell_type": "code",
   "execution_count": 22,
   "id": "37819719",
   "metadata": {},
   "outputs": [
    {
     "data": {
      "text/plain": [
       "[(0.271748926042901, 'duration_ms'),\n",
       " (0.23806271885893637, 'danceability'),\n",
       " (0.2026314292119361, 'tempo'),\n",
       " (0.08186871753593997, 'valence'),\n",
       " (0.07728623476855973, 'instrumentalness'),\n",
       " (0.06599211462180031, 'loudness'),\n",
       " (0.04890070068383018, 'energy'),\n",
       " (0.0135091582760964, 'mode')]"
      ]
     },
     "execution_count": 22,
     "metadata": {},
     "output_type": "execute_result"
    }
   ],
   "source": [
    "#Check feature importance\n",
    "feat_imp = rfc.feature_importances_\n",
    "\n",
    "# We can sort the features by their importance.\n",
    "sorted(zip(rfc.feature_importances_, X_df.columns), reverse=True)"
   ]
  },
  {
   "cell_type": "code",
   "execution_count": null,
   "id": "f8d68b80",
   "metadata": {},
   "outputs": [],
   "source": []
  },
  {
   "cell_type": "code",
   "execution_count": null,
   "id": "73e573f4",
   "metadata": {},
   "outputs": [],
   "source": []
  }
 ],
 "metadata": {
  "kernelspec": {
   "display_name": "mlenv",
   "language": "python",
   "name": "mlenv"
  },
  "language_info": {
   "codemirror_mode": {
    "name": "ipython",
    "version": 3
   },
   "file_extension": ".py",
   "mimetype": "text/x-python",
   "name": "python",
   "nbconvert_exporter": "python",
   "pygments_lexer": "ipython3",
   "version": "3.10.2"
  }
 },
 "nbformat": 4,
 "nbformat_minor": 5
}
