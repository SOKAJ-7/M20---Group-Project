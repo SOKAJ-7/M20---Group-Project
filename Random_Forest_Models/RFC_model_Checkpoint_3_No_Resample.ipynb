{
 "cells": [
  {
   "cell_type": "code",
   "execution_count": 1,
   "id": "68c832dc",
   "metadata": {},
   "outputs": [],
   "source": [
    "import pandas as pd\n",
    "import numpy as np\n",
    "import matplotlib.pyplot as plt\n",
    "from sklearn.ensemble import RandomForestClassifier\n",
    "from sklearn.model_selection import train_test_split, GridSearchCV, cross_val_score\n",
    "from sklearn.model_selection import RandomizedSearchCV\n",
    "from sklearn.metrics import multilabel_confusion_matrix, classification_report, confusion_matrix\n",
    "from sklearn.metrics import accuracy_score\n",
    "from sklearn.preprocessing import StandardScaler, LabelEncoder\n",
    "from imblearn.combine import SMOTEENN\n"
   ]
  },
  {
   "cell_type": "code",
   "execution_count": 2,
   "id": "aada5d01",
   "metadata": {},
   "outputs": [
    {
     "data": {
      "text/plain": [
       "array(['rock', 'r&b', 'pop', 'edm', 'latin', 'rap'], dtype=object)"
      ]
     },
     "execution_count": 2,
     "metadata": {},
     "output_type": "execute_result"
    }
   ],
   "source": [
    "#Import our data\n",
    "songs_df = pd.read_csv('spotify_songs.csv')\n",
    "\n",
    "songs_df['playlist_genre'].unique()  "
   ]
  },
  {
   "cell_type": "code",
   "execution_count": 3,
   "id": "2a75459f",
   "metadata": {},
   "outputs": [
    {
     "data": {
      "text/plain": [
       "2178"
      ]
     },
     "execution_count": 3,
     "metadata": {},
     "output_type": "execute_result"
    }
   ],
   "source": [
    "#Create subsetted dataframe for our genre\n",
    "genre_df = songs_df[songs_df['playlist_genre'] == 'latin']\n",
    "\n",
    "genre_df['track_popularity'].count()\n",
    "\n"
   ]
  },
  {
   "cell_type": "code",
   "execution_count": 4,
   "id": "fb3c35d6",
   "metadata": {},
   "outputs": [
    {
     "data": {
      "text/plain": [
       "<bound method hist_series of 10        1\n",
       "12       69\n",
       "14       74\n",
       "19       62\n",
       "24       32\n",
       "         ..\n",
       "18425    54\n",
       "18427     3\n",
       "18441    61\n",
       "18444     0\n",
       "18445    57\n",
       "Name: track_popularity, Length: 2178, dtype: int64>"
      ]
     },
     "execution_count": 4,
     "metadata": {},
     "output_type": "execute_result"
    }
   ],
   "source": [
    "#Start prepping data for our model\n",
    "#Drop columns not relevant to the model\n",
    "genre_df = genre_df.drop(columns=['key','playlist_genre','playlist_name','track_artist','lyrics','track_album_name','track_name','track_album_id','track_id','track_album_release_date','playlist_id','language','playlist_subgenre','liveness','acousticness','speechiness'])\n",
    "\n",
    "genre_df['track_popularity'].hist"
   ]
  },
  {
   "cell_type": "code",
   "execution_count": 5,
   "id": "3b89e822",
   "metadata": {},
   "outputs": [
    {
     "data": {
      "text/plain": [
       "['U', 'P', 'A', NaN]\n",
       "Categories (3, object): ['U' < 'A' < 'P']"
      ]
     },
     "execution_count": 5,
     "metadata": {},
     "output_type": "execute_result"
    }
   ],
   "source": [
    "#bin target variable (popularity) into 5 classes: 'Very Unpopular', 'Unpopular', 'Somewhat popular', 'Popular', 'Very Popular'\n",
    "#bin target variable relative to genre of interest\n",
    "#drop old popularity \n",
    "bins_1 = [0,35,60,100]\n",
    "labels_1 = ['U','A','P']\n",
    "\n",
    "bins_2 = [0,20,40,60,100]\n",
    "labels_2 = ['vu','u','swp','p']\n",
    "\n",
    "#if genre_df['track_popularity'][genre_df['track_popularity'] > 80].count() <= 100:\n",
    "        #genre_df['popularity_binned'] = pd.cut(genre_df['track_popularity'], bins = bins_2, labels = labels_2)\n",
    "        \n",
    "#else:\n",
    "genre_df['popularity_binned'] = pd.cut(genre_df['track_popularity'], bins = bins_1, labels = labels_1)\n",
    "    \n",
    "genre_df = genre_df.drop(columns = ['track_popularity'])\n",
    "\n",
    "genre_df['popularity_binned'].unique()"
   ]
  },
  {
   "cell_type": "code",
   "execution_count": 6,
   "id": "dd1e60fd",
   "metadata": {},
   "outputs": [
    {
     "data": {
      "text/plain": [
       "(2018, 9)"
      ]
     },
     "execution_count": 6,
     "metadata": {},
     "output_type": "execute_result"
    }
   ],
   "source": [
    "#encode categorical variables\n",
    "#genre_df = pd.get_dummies(genre_df, columns = ['mode'])\n",
    "genre_df['popularity_binned'].value_counts()\n",
    "\n",
    "genre_df = genre_df.dropna(axis=0)\n",
    "\n",
    "genre_df.shape"
   ]
  },
  {
   "cell_type": "code",
   "execution_count": 7,
   "id": "af72d1a2",
   "metadata": {},
   "outputs": [],
   "source": [
    "#Split our data into target and feature variables\n",
    "X = genre_df.drop(columns=['popularity_binned']).values\n",
    "y= genre_df['popularity_binned'].dropna().values\n"
   ]
  },
  {
   "cell_type": "code",
   "execution_count": 8,
   "id": "b391c757",
   "metadata": {},
   "outputs": [],
   "source": [
    "#Create Test/Train Splits\n",
    "from sklearn.model_selection import train_test_split\n",
    "X_test, X_train, y_test, y_train = train_test_split(X, y, train_size = 0.50, test_size = 0.50, random_state=1)\n"
   ]
  },
  {
   "cell_type": "code",
   "execution_count": 9,
   "id": "b640d0de",
   "metadata": {},
   "outputs": [],
   "source": [
    "#Fix class imbalance by using SMOTEENN resampling\n",
    "#smote_enn = SMOTEENN(random_state = 0)\n",
    "#X_resampled, y_resampled = smote_enn.fit_resample(X,y)"
   ]
  },
  {
   "cell_type": "code",
   "execution_count": 10,
   "id": "876c713a",
   "metadata": {},
   "outputs": [
    {
     "name": "stdout",
     "output_type": "stream",
     "text": [
      "(array([0, 1, 2]), array([450, 351, 208], dtype=int64))\n"
     ]
    }
   ],
   "source": [
    "#Encode our categorical variables\n",
    "encoder = LabelEncoder()\n",
    "encoder.fit(y_test)\n",
    "y_test = encoder.transform(y_test)\n",
    "\n",
    "encoder.fit(y_train)\n",
    "y_train = encoder.transform(y_train)\n",
    "\n",
    "print(np.unique(y_train, return_counts = True))"
   ]
  },
  {
   "cell_type": "code",
   "execution_count": 11,
   "id": "4ecc132e",
   "metadata": {},
   "outputs": [],
   "source": [
    "#Scale and Transform our data\n",
    "scaler = StandardScaler()\n",
    "X_train = scaler.fit_transform(X_train)\n",
    "X_test = scaler.fit_transform(X_test)\n"
   ]
  },
  {
   "cell_type": "code",
   "execution_count": 12,
   "id": "a3f871fe",
   "metadata": {},
   "outputs": [],
   "source": [
    "#Set up parameters\n",
    "n_estimators = [5,25,50,100]\n",
    "max_features = ['auto','sqrt']\n",
    "max_depth = [2,3,4,5]\n",
    "criterion = ['gain','entropy']\n",
    "min_samples_split = [2,5,10]\n",
    "min_samples_leaf = [1,2,3]\n",
    "bootstrap = [True,False]"
   ]
  },
  {
   "cell_type": "code",
   "execution_count": 13,
   "id": "477b2d1f",
   "metadata": {},
   "outputs": [
    {
     "data": {
      "text/plain": [
       "GridSearchCV(cv=5, estimator=RandomForestClassifier(),\n",
       "             param_grid={'bootstrap': [True, False], 'max_depth': [2, 3, 4, 5],\n",
       "                         'min_samples_leaf': [1, 2, 3],\n",
       "                         'min_samples_split': [2, 5, 10],\n",
       "                         'n_estimators': [5, 25, 50, 100]})"
      ]
     },
     "execution_count": 13,
     "metadata": {},
     "output_type": "execute_result"
    }
   ],
   "source": [
    "#create Random Forest Classifier model and optimize parameters\n",
    "rfc = RandomForestClassifier()\n",
    "parameters = {\n",
    "    \"n_estimators\": n_estimators,\n",
    "    \"max_depth\" : max_features,\n",
    "    \"max_depth\" : max_depth,\n",
    "    \"min_samples_split\" : min_samples_split,\n",
    "    \"min_samples_leaf\" : min_samples_leaf,\n",
    "    \"bootstrap\" : bootstrap\n",
    "    }\n",
    "cv = GridSearchCV(rfc,parameters,cv=5)\n",
    "cv.fit(X_train,y_train)"
   ]
  },
  {
   "cell_type": "code",
   "execution_count": 14,
   "id": "c3841cd6",
   "metadata": {},
   "outputs": [
    {
     "name": "stdout",
     "output_type": "stream",
     "text": [
      "The best parameters are {'bootstrap': False, 'max_depth': 5, 'min_samples_leaf': 3, 'min_samples_split': 2, 'n_estimators': 50}\n"
     ]
    }
   ],
   "source": [
    "print(f'The best parameters are {cv.best_params_}')"
   ]
  },
  {
   "cell_type": "code",
   "execution_count": 15,
   "id": "3bb1577c",
   "metadata": {},
   "outputs": [
    {
     "data": {
      "text/plain": [
       "RandomForestClassifier(bootstrap=False, max_depth=5, min_samples_leaf=3,\n",
       "                       n_estimators=50, random_state=0)"
      ]
     },
     "execution_count": 15,
     "metadata": {},
     "output_type": "execute_result"
    }
   ],
   "source": [
    "#Fit the model with best parameters\n",
    "rfc = RandomForestClassifier(n_estimators = cv.best_params_['n_estimators'], \n",
    "                           max_depth = cv.best_params_['max_depth'], \n",
    "                           min_samples_split = cv.best_params_['min_samples_split'],\n",
    "                           min_samples_leaf =  cv.best_params_['min_samples_leaf'],\n",
    "                           bootstrap = cv.best_params_['bootstrap'],\n",
    "                           random_state = 0)\n",
    "rfc.fit(X_train, y_train)"
   ]
  },
  {
   "cell_type": "code",
   "execution_count": 16,
   "id": "e3427408",
   "metadata": {},
   "outputs": [
    {
     "data": {
      "text/plain": [
       "array([0, 0, 1, ..., 0, 1, 1])"
      ]
     },
     "execution_count": 16,
     "metadata": {},
     "output_type": "execute_result"
    }
   ],
   "source": [
    "#predictions\n",
    "y_pred = rfc.predict(X_test)\n",
    "y_pred\n"
   ]
  },
  {
   "cell_type": "code",
   "execution_count": 17,
   "id": "833db1fd",
   "metadata": {},
   "outputs": [],
   "source": [
    "mcm = multilabel_confusion_matrix(y_test, y_pred)\n",
    "cm = confusion_matrix(y_test, y_pred)\n"
   ]
  },
  {
   "cell_type": "code",
   "execution_count": 18,
   "id": "944cbd09",
   "metadata": {},
   "outputs": [
    {
     "data": {
      "text/html": [
       "<div>\n",
       "<style scoped>\n",
       "    .dataframe tbody tr th:only-of-type {\n",
       "        vertical-align: middle;\n",
       "    }\n",
       "\n",
       "    .dataframe tbody tr th {\n",
       "        vertical-align: top;\n",
       "    }\n",
       "\n",
       "    .dataframe thead th {\n",
       "        text-align: right;\n",
       "    }\n",
       "</style>\n",
       "<table border=\"1\" class=\"dataframe\">\n",
       "  <thead>\n",
       "    <tr style=\"text-align: right;\">\n",
       "      <th></th>\n",
       "      <th>Pred_U</th>\n",
       "      <th>Actual_A</th>\n",
       "      <th>Pred_P</th>\n",
       "    </tr>\n",
       "  </thead>\n",
       "  <tbody>\n",
       "    <tr>\n",
       "      <th>Actual_U</th>\n",
       "      <td>308</td>\n",
       "      <td>131</td>\n",
       "      <td>8</td>\n",
       "    </tr>\n",
       "    <tr>\n",
       "      <th>Actual_A</th>\n",
       "      <td>188</td>\n",
       "      <td>131</td>\n",
       "      <td>1</td>\n",
       "    </tr>\n",
       "    <tr>\n",
       "      <th>Actual_P</th>\n",
       "      <td>180</td>\n",
       "      <td>53</td>\n",
       "      <td>9</td>\n",
       "    </tr>\n",
       "  </tbody>\n",
       "</table>\n",
       "</div>"
      ],
      "text/plain": [
       "          Pred_U  Actual_A  Pred_P\n",
       "Actual_U     308       131       8\n",
       "Actual_A     188       131       1\n",
       "Actual_P     180        53       9"
      ]
     },
     "execution_count": 18,
     "metadata": {},
     "output_type": "execute_result"
    }
   ],
   "source": [
    "cm_df = pd.DataFrame(cm, index = ['Actual_U','Actual_A','Actual_P'], columns = ['Pred_U','Actual_A','Pred_P'])\n",
    "\n",
    "cm_df"
   ]
  },
  {
   "cell_type": "code",
   "execution_count": 19,
   "id": "2edebcca",
   "metadata": {},
   "outputs": [],
   "source": [
    "mcm_dict = {}\n",
    "for i in np.arange(0,3):\n",
    "    mcm_dict.update({f'Confusion Matrix {i+1}': pd.DataFrame(mcm[i], columns = ['Pred_Neg','Pred_Pos'], index = ['Acc_Neg','Acc_Pos'])})\n"
   ]
  },
  {
   "cell_type": "code",
   "execution_count": 20,
   "id": "ac941df0",
   "metadata": {},
   "outputs": [
    {
     "data": {
      "text/plain": [
       "array([0, 1])"
      ]
     },
     "execution_count": 20,
     "metadata": {},
     "output_type": "execute_result"
    }
   ],
   "source": [
    "np.arange(0,2)"
   ]
  },
  {
   "cell_type": "code",
   "execution_count": 21,
   "id": "e0c6f832",
   "metadata": {},
   "outputs": [
    {
     "name": "stdout",
     "output_type": "stream",
     "text": [
      "Model Scoring for Unpopular songs\n",
      "         Pred_Neg  Pred_Pos\n",
      "Acc_Neg       194       368\n",
      "Acc_Pos       139       308\n",
      "The precision score is 0.5443786982248521\n",
      "The recall score is 0.6548042704626335\n",
      "The accuracy score is 0.5024777006937562\n",
      "-------------------------------------\n",
      "Model Scoring for Average songs\n",
      "         Pred_Neg  Pred_Pos\n",
      "Acc_Neg       505       184\n",
      "Acc_Pos       189       131\n",
      "The precision score is 0.5841269841269842\n",
      "The recall score is 0.26705370101596515\n",
      "The accuracy score is 0.36967294350842417\n",
      "-------------------------------------\n",
      "Model Scoring for Popular songs\n",
      "         Pred_Neg  Pred_Pos\n",
      "Acc_Neg       758         9\n",
      "Acc_Pos       233         9\n",
      "The precision score is 0.5\n",
      "The recall score is 0.011734028683181226\n",
      "The accuracy score is 0.2398414271555996\n",
      "-------------------------------------\n"
     ]
    }
   ],
   "source": [
    "classes = ['Unpopular','Average','Popular']\n",
    "\n",
    "\n",
    "for i in np.arange(1,4):\n",
    "    print(f'Model Scoring for {classes[i-1]} songs')\n",
    "    TP = mcm_dict[f'Confusion Matrix {i}']['Pred_Pos'].values[0]                \n",
    "    TN = mcm_dict[f'Confusion Matrix {i}']['Pred_Neg'].values[1]\n",
    "    FP = mcm_dict[f'Confusion Matrix {i}']['Pred_Pos'].values[1]\n",
    "    FN = mcm_dict[f'Confusion Matrix {i}']['Pred_Neg'].values[0]\n",
    "    print(mcm_dict[f'Confusion Matrix {i}'])\n",
    "    precision = TP / (FP + TP)\n",
    "    recall = TP / (FN + TP)\n",
    "    accuracy = (TP + TN)/ (TP + FN + TN + FP)\n",
    "    \n",
    "    print(f'The precision score is {precision}')\n",
    "    print(f'The recall score is {recall}')\n",
    "    print(f'The accuracy score is {accuracy}')\n",
    "    print('-------------------------------------')\n",
    "          \n",
    "\n",
    "    \n",
    "    \n",
    "   "
   ]
  },
  {
   "cell_type": "code",
   "execution_count": 22,
   "id": "99b72680",
   "metadata": {},
   "outputs": [
    {
     "data": {
      "text/plain": [
       "0.44400396432111"
      ]
     },
     "execution_count": 22,
     "metadata": {},
     "output_type": "execute_result"
    }
   ],
   "source": [
    "acc_score = accuracy_score(y_test, y_pred)\n",
    "acc_score"
   ]
  },
  {
   "cell_type": "code",
   "execution_count": 23,
   "id": "c7731b3c",
   "metadata": {},
   "outputs": [
    {
     "data": {
      "text/plain": [
       "0    676\n",
       "1    315\n",
       "2     18\n",
       "dtype: int64"
      ]
     },
     "execution_count": 23,
     "metadata": {},
     "output_type": "execute_result"
    }
   ],
   "source": [
    "X_df = genre_df.drop(columns=['popularity_binned'])\n",
    "X_df.columns\n",
    "pd.DataFrame(y_pred).value_counts()"
   ]
  },
  {
   "cell_type": "code",
   "execution_count": 24,
   "id": "849c5a63",
   "metadata": {},
   "outputs": [
    {
     "name": "stdout",
     "output_type": "stream",
     "text": [
      "              precision    recall  f1-score   support\n",
      "\n",
      "   Unpopular       0.46      0.69      0.55       447\n",
      "     Average       0.42      0.41      0.41       320\n",
      "     Popular       0.50      0.04      0.07       242\n",
      "\n",
      "    accuracy                           0.44      1009\n",
      "   macro avg       0.46      0.38      0.34      1009\n",
      "weighted avg       0.45      0.44      0.39      1009\n",
      "\n"
     ]
    }
   ],
   "source": [
    "#Evaluate the model\n",
    "cr = classification_report(y_test, y_pred, target_names = classes)\n",
    "print(cr)"
   ]
  },
  {
   "cell_type": "code",
   "execution_count": 25,
   "id": "37819719",
   "metadata": {},
   "outputs": [
    {
     "data": {
      "text/plain": [
       "[(0.243309393537558, 'loudness'),\n",
       " (0.14303531753106857, 'tempo'),\n",
       " (0.13180711450644836, 'duration_ms'),\n",
       " (0.12130193116723936, 'valence'),\n",
       " (0.11281485537788823, 'danceability'),\n",
       " (0.1103883195393008, 'energy'),\n",
       " (0.10222640524620873, 'instrumentalness'),\n",
       " (0.03511666309428789, 'mode')]"
      ]
     },
     "execution_count": 25,
     "metadata": {},
     "output_type": "execute_result"
    }
   ],
   "source": [
    "#Check feature importance\n",
    "feat_imp = rfc.feature_importances_\n",
    "\n",
    "# We can sort the features by their importance.\n",
    "sorted(zip(rfc.feature_importances_, X_df.columns), reverse=True)"
   ]
  },
  {
   "cell_type": "code",
   "execution_count": null,
   "id": "f8d68b80",
   "metadata": {},
   "outputs": [],
   "source": []
  },
  {
   "cell_type": "code",
   "execution_count": null,
   "id": "73e573f4",
   "metadata": {},
   "outputs": [],
   "source": []
  }
 ],
 "metadata": {
  "kernelspec": {
   "display_name": "mlenv",
   "language": "python",
   "name": "mlenv"
  },
  "language_info": {
   "codemirror_mode": {
    "name": "ipython",
    "version": 3
   },
   "file_extension": ".py",
   "mimetype": "text/x-python",
   "name": "python",
   "nbconvert_exporter": "python",
   "pygments_lexer": "ipython3",
   "version": "3.10.2"
  }
 },
 "nbformat": 4,
 "nbformat_minor": 5
}
