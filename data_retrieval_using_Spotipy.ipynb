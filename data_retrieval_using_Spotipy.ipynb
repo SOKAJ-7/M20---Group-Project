{
 "cells": [
  {
   "cell_type": "code",
   "execution_count": 1,
   "id": "536d8537",
   "metadata": {},
   "outputs": [],
   "source": [
    "import spotipy\n",
    "from spotipy.oauth2 import SpotifyClientCredentials\n",
    "from config import cid, secret\n",
    "import pandas as pd\n",
    "import numpy as np\n",
    "import matplotlib.pyplot as plt\n",
    "import seaborn as sns\n",
    "import datetime as dt\n",
    "import time\n",
    "\n",
    "import timeit\n",
    "\n",
    "auth_manager = SpotifyClientCredentials(client_id=cid, client_secret=secret)\n",
    "sp = spotipy.Spotify(auth_manager=auth_manager)"
   ]
  },
  {
   "cell_type": "markdown",
   "id": "d67a75d2",
   "metadata": {},
   "source": [
    "In a separate .py file, set your own credentials (CID and secret). I think using the Web API requires a paid subscription to Spotify. Log into developer.spotify.com, navigate to Dashboards and create an app (give an app name, description, accept the ToS) to generate your credentials."
   ]
  },
  {
   "cell_type": "markdown",
   "id": "d58b09cc",
   "metadata": {},
   "source": [
    "#### Example list of genres we're interested in:"
   ]
  },
  {
   "cell_type": "code",
   "execution_count": 2,
   "id": "eb60c498",
   "metadata": {},
   "outputs": [
    {
     "name": "stdout",
     "output_type": "stream",
     "text": [
      "We have 5 genres.\n"
     ]
    }
   ],
   "source": [
    "genre_list = [\n",
    "#     'soundtrack','indie','jazz','pop','electronic',\n",
    "#     'folk','hip-hop','rock','alternative','classical',\n",
    "#     'rap','world','soul','blues','R&B',\n",
    "    'reggae','ska','dance','country','opera'\n",
    "]\n",
    "print(f'We have {len(genre_list)} genres.')"
   ]
  },
  {
   "cell_type": "markdown",
   "id": "5c6a695f",
   "metadata": {},
   "source": [
    "## Get the track/artist/album data"
   ]
  },
  {
   "cell_type": "code",
   "execution_count": 3,
   "id": "12ac7e72",
   "metadata": {},
   "outputs": [
    {
     "name": "stdout",
     "output_type": "stream",
     "text": [
      "This took 25.702692000000003 seconds to complete.\n"
     ]
    }
   ],
   "source": [
    "# Start timer\n",
    "start = timeit.default_timer()\n",
    "\n",
    "# Set empty lists for each feature\n",
    "track_name = []\n",
    "popularity = []\n",
    "track_id = []\n",
    "artist_name = []\n",
    "artist_id = []\n",
    "artist_genre = []\n",
    "album_name = []\n",
    "album_id = []\n",
    "release_date = []\n",
    "followers = []\n",
    "\n",
    "# Loop through the genre list and use each genre as a parameter when running the track-type search \n",
    "\n",
    "for genre in genre_list:\n",
    "    # save track-type search in variable\n",
    "    track_looped = sp.search(q='genre:'+genre, type='track',limit=2) # set limit to number of songs to grab per genre.\n",
    "    time.sleep(10)        \n",
    "\n",
    "    # loop through saved search results, append according to their index/position within the nested levels of dictionaries/lists\n",
    "    for i, t in enumerate(track_looped['tracks']['items']):\n",
    "        artist_name.append(t['artists'][0]['name'])\n",
    "        artist_id.append(t['artists'][0]['id'])\n",
    "        album_name.append(t['album']['name'])\n",
    "        album_id.append(t['album']['id'])\n",
    "        track_name.append(t['name'])\n",
    "        track_id.append(t['id'])\n",
    "        popularity.append(t['popularity'])\n",
    "        release_date.append(t['album']['release_date'])\n",
    "        artist_genre.append(genre)\n",
    "\n",
    "stop = timeit.default_timer()\n",
    "print(f'This took {stop - start} seconds to complete.')"
   ]
  },
  {
   "cell_type": "code",
   "execution_count": 4,
   "id": "4223e478",
   "metadata": {
    "scrolled": false
   },
   "outputs": [
    {
     "name": "stdout",
     "output_type": "stream",
     "text": [
      "Total number of track IDs: 10\n"
     ]
    }
   ],
   "source": [
    "print(f'Total number of track IDs: {len(track_id)}')"
   ]
  },
  {
   "cell_type": "code",
   "execution_count": 5,
   "id": "d718d3f0",
   "metadata": {
    "scrolled": false
   },
   "outputs": [
    {
     "data": {
      "text/plain": [
       "['4obzFoKoKRHIphyHzJ35G3',\n",
       " '4q3ewBCX7sLwd24euuV69X',\n",
       " '0EdvGhlC1FkGItLOWQzG4J',\n",
       " '5LfGQac0EIXyAN8aUwmNAQ',\n",
       " '5cj0lLjcoR7YOSnhnX0Po5',\n",
       " '5cj0lLjcoR7YOSnhnX0Po5',\n",
       " '4oUHIQIBe0LHzYfvXNW4QM',\n",
       " '4oUHIQIBe0LHzYfvXNW4QM',\n",
       " '6cXMpsP9x0SH4kFfMyVezF',\n",
       " '4JSWO1Pf2zV991fq64uAce']"
      ]
     },
     "execution_count": 5,
     "metadata": {},
     "output_type": "execute_result"
    }
   ],
   "source": [
    "artist_id"
   ]
  },
  {
   "cell_type": "code",
   "execution_count": 6,
   "id": "54ea761f",
   "metadata": {},
   "outputs": [],
   "source": [
    "# # Lastly, using the artist names collected from first search, conduct artist-type search to retrieve number of followers per artist (only found with artist search)\n",
    "# artist_looped = []\n",
    "# artist_looped = sp.artists(artists=artist_id)\n",
    "# for i, n in enumerate(artist_looped['artists']):\n",
    "#     followers.append(n['followers']['total'])\n",
    "# print(followers)\n",
    "# print(f'Total: {len(followers)}')"
   ]
  },
  {
   "cell_type": "markdown",
   "id": "69a96231",
   "metadata": {},
   "source": [
    "#### Checking total tracks gathered:"
   ]
  },
  {
   "cell_type": "code",
   "execution_count": 22,
   "id": "6646f527",
   "metadata": {},
   "outputs": [
    {
     "name": "stdout",
     "output_type": "stream",
     "text": [
      "10 10 10 10 10 10 10 10 10\n"
     ]
    }
   ],
   "source": [
    "print(\n",
    "    len(artist_genre),\n",
    "    len(artist_name),\n",
    "    len(artist_id),\n",
    "    len(track_name),\n",
    "    len(track_id),\n",
    "    len(popularity),\n",
    "    len(album_name),\n",
    "    len(album_id),\n",
    "    len(release_date)\n",
    "     )"
   ]
  },
  {
   "cell_type": "markdown",
   "id": "8b34d15e",
   "metadata": {},
   "source": [
    "#### Load the lists as a DataFrame:"
   ]
  },
  {
   "cell_type": "code",
   "execution_count": 23,
   "id": "48fc8904",
   "metadata": {
    "scrolled": true
   },
   "outputs": [
    {
     "data": {
      "text/html": [
       "<div>\n",
       "<style scoped>\n",
       "    .dataframe tbody tr th:only-of-type {\n",
       "        vertical-align: middle;\n",
       "    }\n",
       "\n",
       "    .dataframe tbody tr th {\n",
       "        vertical-align: top;\n",
       "    }\n",
       "\n",
       "    .dataframe thead th {\n",
       "        text-align: right;\n",
       "    }\n",
       "</style>\n",
       "<table border=\"1\" class=\"dataframe\">\n",
       "  <thead>\n",
       "    <tr style=\"text-align: right;\">\n",
       "      <th></th>\n",
       "      <th>genre</th>\n",
       "      <th>artist_name</th>\n",
       "      <th>artist_id</th>\n",
       "      <th>track_name</th>\n",
       "      <th>track_id</th>\n",
       "      <th>popularity</th>\n",
       "      <th>album_name</th>\n",
       "      <th>album_id</th>\n",
       "      <th>release_date</th>\n",
       "    </tr>\n",
       "  </thead>\n",
       "  <tbody>\n",
       "    <tr>\n",
       "      <th>0</th>\n",
       "      <td>reggae</td>\n",
       "      <td>Becky G</td>\n",
       "      <td>4obzFoKoKRHIphyHzJ35G3</td>\n",
       "      <td>MAMIII</td>\n",
       "      <td>1ri9ZUkBJVFUdgwzCnfcYs</td>\n",
       "      <td>98</td>\n",
       "      <td>MAMIII</td>\n",
       "      <td>6GHUywBU0u92lg0Dhrt40R</td>\n",
       "      <td>2022-02-10</td>\n",
       "    </tr>\n",
       "    <tr>\n",
       "      <th>1</th>\n",
       "      <td>reggae</td>\n",
       "      <td>Bad Bunny</td>\n",
       "      <td>4q3ewBCX7sLwd24euuV69X</td>\n",
       "      <td>Yonaguni</td>\n",
       "      <td>2JPLbjOn0wPCngEot2STUS</td>\n",
       "      <td>95</td>\n",
       "      <td>Yonaguni</td>\n",
       "      <td>6VSOIs13DaSG2IPilNviX5</td>\n",
       "      <td>2021-06-04</td>\n",
       "    </tr>\n",
       "    <tr>\n",
       "      <th>2</th>\n",
       "      <td>ska</td>\n",
       "      <td>Sublime</td>\n",
       "      <td>0EdvGhlC1FkGItLOWQzG4J</td>\n",
       "      <td>Santeria</td>\n",
       "      <td>2hnMS47jN0etwvFPzYk11f</td>\n",
       "      <td>81</td>\n",
       "      <td>Sublime</td>\n",
       "      <td>14eK347GdWO4mBBx78tsut</td>\n",
       "      <td>1996-07-30</td>\n",
       "    </tr>\n",
       "    <tr>\n",
       "      <th>3</th>\n",
       "      <td>ska</td>\n",
       "      <td>The Offspring</td>\n",
       "      <td>5LfGQac0EIXyAN8aUwmNAQ</td>\n",
       "      <td>You're Gonna Go Far, Kid</td>\n",
       "      <td>6TfBA04WJ3X1d1wXhaCFVT</td>\n",
       "      <td>84</td>\n",
       "      <td>Rise And Fall, Rage And Grace</td>\n",
       "      <td>67v63ubEsvDUQkYMzI7A9t</td>\n",
       "      <td>2008-06-17</td>\n",
       "    </tr>\n",
       "    <tr>\n",
       "      <th>4</th>\n",
       "      <td>dance</td>\n",
       "      <td>Doja Cat</td>\n",
       "      <td>5cj0lLjcoR7YOSnhnX0Po5</td>\n",
       "      <td>Woman</td>\n",
       "      <td>6Uj1ctrBOjOas8xZXGqKk4</td>\n",
       "      <td>97</td>\n",
       "      <td>Planet Her</td>\n",
       "      <td>1nAQbHeOWTfQzbOoFrvndW</td>\n",
       "      <td>2021-06-25</td>\n",
       "    </tr>\n",
       "    <tr>\n",
       "      <th>5</th>\n",
       "      <td>dance</td>\n",
       "      <td>Doja Cat</td>\n",
       "      <td>5cj0lLjcoR7YOSnhnX0Po5</td>\n",
       "      <td>Need to Know</td>\n",
       "      <td>3Vi5XqYrmQgOYBajMWSvCi</td>\n",
       "      <td>94</td>\n",
       "      <td>Planet Her</td>\n",
       "      <td>1nAQbHeOWTfQzbOoFrvndW</td>\n",
       "      <td>2021-06-25</td>\n",
       "    </tr>\n",
       "    <tr>\n",
       "      <th>6</th>\n",
       "      <td>country</td>\n",
       "      <td>Morgan Wallen</td>\n",
       "      <td>4oUHIQIBe0LHzYfvXNW4QM</td>\n",
       "      <td>Wasted On You</td>\n",
       "      <td>3cBsEDNhFI9E82vPj3kvi3</td>\n",
       "      <td>83</td>\n",
       "      <td>Dangerous: The Double Album</td>\n",
       "      <td>6JlCkqkqobGirPsaleJpFr</td>\n",
       "      <td>2021-01-08</td>\n",
       "    </tr>\n",
       "    <tr>\n",
       "      <th>7</th>\n",
       "      <td>country</td>\n",
       "      <td>Morgan Wallen</td>\n",
       "      <td>4oUHIQIBe0LHzYfvXNW4QM</td>\n",
       "      <td>Whiskey Glasses</td>\n",
       "      <td>6foY66mWZN0pSRjZ408c00</td>\n",
       "      <td>83</td>\n",
       "      <td>If I Know Me</td>\n",
       "      <td>1IR2nlwX6YVTXXeu2qzoWO</td>\n",
       "      <td>2018-04-27</td>\n",
       "    </tr>\n",
       "    <tr>\n",
       "      <th>8</th>\n",
       "      <td>opera</td>\n",
       "      <td>Josh Groban</td>\n",
       "      <td>6cXMpsP9x0SH4kFfMyVezF</td>\n",
       "      <td>You Raise Me Up</td>\n",
       "      <td>4TbNLKRLKlxZDlS0pu7Lsy</td>\n",
       "      <td>61</td>\n",
       "      <td>Closer</td>\n",
       "      <td>6Uj9VARQcRBOQZ2uBywlrH</td>\n",
       "      <td>2003-11-11</td>\n",
       "    </tr>\n",
       "    <tr>\n",
       "      <th>9</th>\n",
       "      <td>opera</td>\n",
       "      <td>Jean-Philippe Rameau</td>\n",
       "      <td>4JSWO1Pf2zV991fq64uAce</td>\n",
       "      <td>The Arts and the Hours</td>\n",
       "      <td>1G3QPQkoXvpChjNUhd6Tfs</td>\n",
       "      <td>65</td>\n",
       "      <td>Rameau, Ólafsson: The Arts and the Hours</td>\n",
       "      <td>4omnRCjOvnHa3ETQlqZpd1</td>\n",
       "      <td>2020-03-06</td>\n",
       "    </tr>\n",
       "  </tbody>\n",
       "</table>\n",
       "</div>"
      ],
      "text/plain": [
       "     genre           artist_name               artist_id  \\\n",
       "0   reggae               Becky G  4obzFoKoKRHIphyHzJ35G3   \n",
       "1   reggae             Bad Bunny  4q3ewBCX7sLwd24euuV69X   \n",
       "2      ska               Sublime  0EdvGhlC1FkGItLOWQzG4J   \n",
       "3      ska         The Offspring  5LfGQac0EIXyAN8aUwmNAQ   \n",
       "4    dance              Doja Cat  5cj0lLjcoR7YOSnhnX0Po5   \n",
       "5    dance              Doja Cat  5cj0lLjcoR7YOSnhnX0Po5   \n",
       "6  country         Morgan Wallen  4oUHIQIBe0LHzYfvXNW4QM   \n",
       "7  country         Morgan Wallen  4oUHIQIBe0LHzYfvXNW4QM   \n",
       "8    opera           Josh Groban  6cXMpsP9x0SH4kFfMyVezF   \n",
       "9    opera  Jean-Philippe Rameau  4JSWO1Pf2zV991fq64uAce   \n",
       "\n",
       "                 track_name                track_id  popularity  \\\n",
       "0                    MAMIII  1ri9ZUkBJVFUdgwzCnfcYs          98   \n",
       "1                  Yonaguni  2JPLbjOn0wPCngEot2STUS          95   \n",
       "2                  Santeria  2hnMS47jN0etwvFPzYk11f          81   \n",
       "3  You're Gonna Go Far, Kid  6TfBA04WJ3X1d1wXhaCFVT          84   \n",
       "4                     Woman  6Uj1ctrBOjOas8xZXGqKk4          97   \n",
       "5              Need to Know  3Vi5XqYrmQgOYBajMWSvCi          94   \n",
       "6             Wasted On You  3cBsEDNhFI9E82vPj3kvi3          83   \n",
       "7           Whiskey Glasses  6foY66mWZN0pSRjZ408c00          83   \n",
       "8           You Raise Me Up  4TbNLKRLKlxZDlS0pu7Lsy          61   \n",
       "9    The Arts and the Hours  1G3QPQkoXvpChjNUhd6Tfs          65   \n",
       "\n",
       "                                 album_name                album_id  \\\n",
       "0                                    MAMIII  6GHUywBU0u92lg0Dhrt40R   \n",
       "1                                  Yonaguni  6VSOIs13DaSG2IPilNviX5   \n",
       "2                                   Sublime  14eK347GdWO4mBBx78tsut   \n",
       "3             Rise And Fall, Rage And Grace  67v63ubEsvDUQkYMzI7A9t   \n",
       "4                                Planet Her  1nAQbHeOWTfQzbOoFrvndW   \n",
       "5                                Planet Her  1nAQbHeOWTfQzbOoFrvndW   \n",
       "6               Dangerous: The Double Album  6JlCkqkqobGirPsaleJpFr   \n",
       "7                              If I Know Me  1IR2nlwX6YVTXXeu2qzoWO   \n",
       "8                                    Closer  6Uj9VARQcRBOQZ2uBywlrH   \n",
       "9  Rameau, Ólafsson: The Arts and the Hours  4omnRCjOvnHa3ETQlqZpd1   \n",
       "\n",
       "  release_date  \n",
       "0   2022-02-10  \n",
       "1   2021-06-04  \n",
       "2   1996-07-30  \n",
       "3   2008-06-17  \n",
       "4   2021-06-25  \n",
       "5   2021-06-25  \n",
       "6   2021-01-08  \n",
       "7   2018-04-27  \n",
       "8   2003-11-11  \n",
       "9   2020-03-06  "
      ]
     },
     "execution_count": 23,
     "metadata": {},
     "output_type": "execute_result"
    }
   ],
   "source": [
    "df_tracks = pd.DataFrame({\n",
    "    'genre':artist_genre,\n",
    "    'artist_name':artist_name, \n",
    "    'artist_id':artist_id,\n",
    "#     'followers':followers,\n",
    "    'track_name':track_name, \n",
    "    'track_id':track_id,\n",
    "    'popularity':popularity,\n",
    "    'album_name':album_name,\n",
    "    'album_id':album_id,\n",
    "    'release_date':release_date\n",
    "})\n",
    "df_tracks"
   ]
  },
  {
   "cell_type": "code",
   "execution_count": 15,
   "id": "cfe852c8",
   "metadata": {},
   "outputs": [
    {
     "data": {
      "text/html": [
       "<div>\n",
       "<style scoped>\n",
       "    .dataframe tbody tr th:only-of-type {\n",
       "        vertical-align: middle;\n",
       "    }\n",
       "\n",
       "    .dataframe tbody tr th {\n",
       "        vertical-align: top;\n",
       "    }\n",
       "\n",
       "    .dataframe thead th {\n",
       "        text-align: right;\n",
       "    }\n",
       "</style>\n",
       "<table border=\"1\" class=\"dataframe\">\n",
       "  <thead>\n",
       "    <tr style=\"text-align: right;\">\n",
       "      <th></th>\n",
       "      <th>genre</th>\n",
       "      <th>artist_name</th>\n",
       "      <th>artist_id</th>\n",
       "      <th>followers</th>\n",
       "      <th>track_name</th>\n",
       "      <th>track_id</th>\n",
       "      <th>popularity</th>\n",
       "      <th>album_name</th>\n",
       "      <th>album_id</th>\n",
       "      <th>release_date</th>\n",
       "    </tr>\n",
       "  </thead>\n",
       "  <tbody>\n",
       "    <tr>\n",
       "      <th>1</th>\n",
       "      <td>reggae</td>\n",
       "      <td>Bad Bunny</td>\n",
       "      <td>4q3ewBCX7sLwd24euuV69X</td>\n",
       "      <td>45995488</td>\n",
       "      <td>Yonaguni</td>\n",
       "      <td>2JPLbjOn0wPCngEot2STUS</td>\n",
       "      <td>95</td>\n",
       "      <td>Yonaguni</td>\n",
       "      <td>6VSOIs13DaSG2IPilNviX5</td>\n",
       "      <td>2021-06-04</td>\n",
       "    </tr>\n",
       "    <tr>\n",
       "      <th>0</th>\n",
       "      <td>reggae</td>\n",
       "      <td>Becky G</td>\n",
       "      <td>4obzFoKoKRHIphyHzJ35G3</td>\n",
       "      <td>11174590</td>\n",
       "      <td>MAMIII</td>\n",
       "      <td>1ri9ZUkBJVFUdgwzCnfcYs</td>\n",
       "      <td>98</td>\n",
       "      <td>MAMIII</td>\n",
       "      <td>6GHUywBU0u92lg0Dhrt40R</td>\n",
       "      <td>2022-02-10</td>\n",
       "    </tr>\n",
       "    <tr>\n",
       "      <th>5</th>\n",
       "      <td>dance</td>\n",
       "      <td>Doja Cat</td>\n",
       "      <td>5cj0lLjcoR7YOSnhnX0Po5</td>\n",
       "      <td>17232250</td>\n",
       "      <td>Need to Know</td>\n",
       "      <td>3Vi5XqYrmQgOYBajMWSvCi</td>\n",
       "      <td>94</td>\n",
       "      <td>Planet Her</td>\n",
       "      <td>1nAQbHeOWTfQzbOoFrvndW</td>\n",
       "      <td>2021-06-25</td>\n",
       "    </tr>\n",
       "    <tr>\n",
       "      <th>4</th>\n",
       "      <td>dance</td>\n",
       "      <td>Doja Cat</td>\n",
       "      <td>5cj0lLjcoR7YOSnhnX0Po5</td>\n",
       "      <td>17232250</td>\n",
       "      <td>Woman</td>\n",
       "      <td>6Uj1ctrBOjOas8xZXGqKk4</td>\n",
       "      <td>97</td>\n",
       "      <td>Planet Her</td>\n",
       "      <td>1nAQbHeOWTfQzbOoFrvndW</td>\n",
       "      <td>2021-06-25</td>\n",
       "    </tr>\n",
       "    <tr>\n",
       "      <th>9</th>\n",
       "      <td>opera</td>\n",
       "      <td>Jean-Philippe Rameau</td>\n",
       "      <td>4JSWO1Pf2zV991fq64uAce</td>\n",
       "      <td>60381</td>\n",
       "      <td>The Arts and the Hours</td>\n",
       "      <td>1G3QPQkoXvpChjNUhd6Tfs</td>\n",
       "      <td>65</td>\n",
       "      <td>Rameau, Ólafsson: The Arts and the Hours</td>\n",
       "      <td>4omnRCjOvnHa3ETQlqZpd1</td>\n",
       "      <td>2020-03-06</td>\n",
       "    </tr>\n",
       "    <tr>\n",
       "      <th>8</th>\n",
       "      <td>opera</td>\n",
       "      <td>Josh Groban</td>\n",
       "      <td>6cXMpsP9x0SH4kFfMyVezF</td>\n",
       "      <td>777889</td>\n",
       "      <td>You Raise Me Up</td>\n",
       "      <td>4TbNLKRLKlxZDlS0pu7Lsy</td>\n",
       "      <td>61</td>\n",
       "      <td>Closer</td>\n",
       "      <td>6Uj9VARQcRBOQZ2uBywlrH</td>\n",
       "      <td>2003-11-11</td>\n",
       "    </tr>\n",
       "    <tr>\n",
       "      <th>6</th>\n",
       "      <td>country</td>\n",
       "      <td>Morgan Wallen</td>\n",
       "      <td>4oUHIQIBe0LHzYfvXNW4QM</td>\n",
       "      <td>3127931</td>\n",
       "      <td>Wasted On You</td>\n",
       "      <td>3cBsEDNhFI9E82vPj3kvi3</td>\n",
       "      <td>83</td>\n",
       "      <td>Dangerous: The Double Album</td>\n",
       "      <td>6JlCkqkqobGirPsaleJpFr</td>\n",
       "      <td>2021-01-08</td>\n",
       "    </tr>\n",
       "    <tr>\n",
       "      <th>7</th>\n",
       "      <td>country</td>\n",
       "      <td>Morgan Wallen</td>\n",
       "      <td>4oUHIQIBe0LHzYfvXNW4QM</td>\n",
       "      <td>3127931</td>\n",
       "      <td>Whiskey Glasses</td>\n",
       "      <td>6foY66mWZN0pSRjZ408c00</td>\n",
       "      <td>83</td>\n",
       "      <td>If I Know Me</td>\n",
       "      <td>1IR2nlwX6YVTXXeu2qzoWO</td>\n",
       "      <td>2018-04-27</td>\n",
       "    </tr>\n",
       "    <tr>\n",
       "      <th>2</th>\n",
       "      <td>ska</td>\n",
       "      <td>Sublime</td>\n",
       "      <td>0EdvGhlC1FkGItLOWQzG4J</td>\n",
       "      <td>2186497</td>\n",
       "      <td>Santeria</td>\n",
       "      <td>2hnMS47jN0etwvFPzYk11f</td>\n",
       "      <td>81</td>\n",
       "      <td>Sublime</td>\n",
       "      <td>14eK347GdWO4mBBx78tsut</td>\n",
       "      <td>1996-07-30</td>\n",
       "    </tr>\n",
       "    <tr>\n",
       "      <th>3</th>\n",
       "      <td>ska</td>\n",
       "      <td>The Offspring</td>\n",
       "      <td>5LfGQac0EIXyAN8aUwmNAQ</td>\n",
       "      <td>4605992</td>\n",
       "      <td>You're Gonna Go Far, Kid</td>\n",
       "      <td>6TfBA04WJ3X1d1wXhaCFVT</td>\n",
       "      <td>84</td>\n",
       "      <td>Rise And Fall, Rage And Grace</td>\n",
       "      <td>67v63ubEsvDUQkYMzI7A9t</td>\n",
       "      <td>2008-06-17</td>\n",
       "    </tr>\n",
       "  </tbody>\n",
       "</table>\n",
       "</div>"
      ],
      "text/plain": [
       "     genre           artist_name               artist_id  followers  \\\n",
       "1   reggae             Bad Bunny  4q3ewBCX7sLwd24euuV69X   45995488   \n",
       "0   reggae               Becky G  4obzFoKoKRHIphyHzJ35G3   11174590   \n",
       "5    dance              Doja Cat  5cj0lLjcoR7YOSnhnX0Po5   17232250   \n",
       "4    dance              Doja Cat  5cj0lLjcoR7YOSnhnX0Po5   17232250   \n",
       "9    opera  Jean-Philippe Rameau  4JSWO1Pf2zV991fq64uAce      60381   \n",
       "8    opera           Josh Groban  6cXMpsP9x0SH4kFfMyVezF     777889   \n",
       "6  country         Morgan Wallen  4oUHIQIBe0LHzYfvXNW4QM    3127931   \n",
       "7  country         Morgan Wallen  4oUHIQIBe0LHzYfvXNW4QM    3127931   \n",
       "2      ska               Sublime  0EdvGhlC1FkGItLOWQzG4J    2186497   \n",
       "3      ska         The Offspring  5LfGQac0EIXyAN8aUwmNAQ    4605992   \n",
       "\n",
       "                 track_name                track_id  popularity  \\\n",
       "1                  Yonaguni  2JPLbjOn0wPCngEot2STUS          95   \n",
       "0                    MAMIII  1ri9ZUkBJVFUdgwzCnfcYs          98   \n",
       "5              Need to Know  3Vi5XqYrmQgOYBajMWSvCi          94   \n",
       "4                     Woman  6Uj1ctrBOjOas8xZXGqKk4          97   \n",
       "9    The Arts and the Hours  1G3QPQkoXvpChjNUhd6Tfs          65   \n",
       "8           You Raise Me Up  4TbNLKRLKlxZDlS0pu7Lsy          61   \n",
       "6             Wasted On You  3cBsEDNhFI9E82vPj3kvi3          83   \n",
       "7           Whiskey Glasses  6foY66mWZN0pSRjZ408c00          83   \n",
       "2                  Santeria  2hnMS47jN0etwvFPzYk11f          81   \n",
       "3  You're Gonna Go Far, Kid  6TfBA04WJ3X1d1wXhaCFVT          84   \n",
       "\n",
       "                                 album_name                album_id  \\\n",
       "1                                  Yonaguni  6VSOIs13DaSG2IPilNviX5   \n",
       "0                                    MAMIII  6GHUywBU0u92lg0Dhrt40R   \n",
       "5                                Planet Her  1nAQbHeOWTfQzbOoFrvndW   \n",
       "4                                Planet Her  1nAQbHeOWTfQzbOoFrvndW   \n",
       "9  Rameau, Ólafsson: The Arts and the Hours  4omnRCjOvnHa3ETQlqZpd1   \n",
       "8                                    Closer  6Uj9VARQcRBOQZ2uBywlrH   \n",
       "6               Dangerous: The Double Album  6JlCkqkqobGirPsaleJpFr   \n",
       "7                              If I Know Me  1IR2nlwX6YVTXXeu2qzoWO   \n",
       "2                                   Sublime  14eK347GdWO4mBBx78tsut   \n",
       "3             Rise And Fall, Rage And Grace  67v63ubEsvDUQkYMzI7A9t   \n",
       "\n",
       "  release_date  \n",
       "1   2021-06-04  \n",
       "0   2022-02-10  \n",
       "5   2021-06-25  \n",
       "4   2021-06-25  \n",
       "9   2020-03-06  \n",
       "8   2003-11-11  \n",
       "6   2021-01-08  \n",
       "7   2018-04-27  \n",
       "2   1996-07-30  \n",
       "3   2008-06-17  "
      ]
     },
     "execution_count": 15,
     "metadata": {},
     "output_type": "execute_result"
    }
   ],
   "source": [
    "group_track_artist_id = df_tracks.sort_values(by=['artist_name','track_name'])\n",
    "group_track_artist_id\n",
    "# concatenate artist_id and track_id and assess unique values\n",
    "# one to many relationship between track and genre\n",
    "# store all songs in table PK=track_id, another table with just genre, artist table\n",
    "# if spotify classifies multiple genres for a song, it could \n",
    "# aggregate popular songs to genres they're associated to"
   ]
  },
  {
   "cell_type": "code",
   "execution_count": 16,
   "id": "a4334662",
   "metadata": {},
   "outputs": [
    {
     "data": {
      "text/plain": [
       "(10, 10)"
      ]
     },
     "execution_count": 16,
     "metadata": {},
     "output_type": "execute_result"
    }
   ],
   "source": [
    "df_tracks.shape"
   ]
  },
  {
   "cell_type": "code",
   "execution_count": 17,
   "id": "d23f9be8",
   "metadata": {},
   "outputs": [
    {
     "data": {
      "text/plain": [
       "(10, 10)"
      ]
     },
     "execution_count": 17,
     "metadata": {},
     "output_type": "execute_result"
    }
   ],
   "source": [
    "df_tracks.drop_duplicates(inplace=True)\n",
    "df_tracks.shape"
   ]
  },
  {
   "cell_type": "markdown",
   "id": "6f31efbd",
   "metadata": {},
   "source": [
    "#### Create natural key "
   ]
  },
  {
   "cell_type": "code",
   "execution_count": 18,
   "id": "20e67952",
   "metadata": {
    "scrolled": true
   },
   "outputs": [
    {
     "data": {
      "text/html": [
       "<div>\n",
       "<style scoped>\n",
       "    .dataframe tbody tr th:only-of-type {\n",
       "        vertical-align: middle;\n",
       "    }\n",
       "\n",
       "    .dataframe tbody tr th {\n",
       "        vertical-align: top;\n",
       "    }\n",
       "\n",
       "    .dataframe thead th {\n",
       "        text-align: right;\n",
       "    }\n",
       "</style>\n",
       "<table border=\"1\" class=\"dataframe\">\n",
       "  <thead>\n",
       "    <tr style=\"text-align: right;\">\n",
       "      <th></th>\n",
       "      <th>genre</th>\n",
       "      <th>artist_name</th>\n",
       "      <th>artist_id</th>\n",
       "      <th>followers</th>\n",
       "      <th>track_name</th>\n",
       "      <th>track_id</th>\n",
       "      <th>popularity</th>\n",
       "      <th>album_name</th>\n",
       "      <th>album_id</th>\n",
       "      <th>release_date</th>\n",
       "      <th>natural_key</th>\n",
       "    </tr>\n",
       "  </thead>\n",
       "  <tbody>\n",
       "    <tr>\n",
       "      <th>0</th>\n",
       "      <td>reggae</td>\n",
       "      <td>Becky G</td>\n",
       "      <td>4obzFoKoKRHIphyHzJ35G3</td>\n",
       "      <td>11174590</td>\n",
       "      <td>MAMIII</td>\n",
       "      <td>1ri9ZUkBJVFUdgwzCnfcYs</td>\n",
       "      <td>98</td>\n",
       "      <td>MAMIII</td>\n",
       "      <td>6GHUywBU0u92lg0Dhrt40R</td>\n",
       "      <td>2022-02-10</td>\n",
       "      <td>Becky G_MAMIII</td>\n",
       "    </tr>\n",
       "    <tr>\n",
       "      <th>1</th>\n",
       "      <td>reggae</td>\n",
       "      <td>Bad Bunny</td>\n",
       "      <td>4q3ewBCX7sLwd24euuV69X</td>\n",
       "      <td>45995488</td>\n",
       "      <td>Yonaguni</td>\n",
       "      <td>2JPLbjOn0wPCngEot2STUS</td>\n",
       "      <td>95</td>\n",
       "      <td>Yonaguni</td>\n",
       "      <td>6VSOIs13DaSG2IPilNviX5</td>\n",
       "      <td>2021-06-04</td>\n",
       "      <td>Bad Bunny_Yonaguni</td>\n",
       "    </tr>\n",
       "    <tr>\n",
       "      <th>2</th>\n",
       "      <td>ska</td>\n",
       "      <td>Sublime</td>\n",
       "      <td>0EdvGhlC1FkGItLOWQzG4J</td>\n",
       "      <td>2186497</td>\n",
       "      <td>Santeria</td>\n",
       "      <td>2hnMS47jN0etwvFPzYk11f</td>\n",
       "      <td>81</td>\n",
       "      <td>Sublime</td>\n",
       "      <td>14eK347GdWO4mBBx78tsut</td>\n",
       "      <td>1996-07-30</td>\n",
       "      <td>Sublime_Santeria</td>\n",
       "    </tr>\n",
       "    <tr>\n",
       "      <th>3</th>\n",
       "      <td>ska</td>\n",
       "      <td>The Offspring</td>\n",
       "      <td>5LfGQac0EIXyAN8aUwmNAQ</td>\n",
       "      <td>4605992</td>\n",
       "      <td>You're Gonna Go Far, Kid</td>\n",
       "      <td>6TfBA04WJ3X1d1wXhaCFVT</td>\n",
       "      <td>84</td>\n",
       "      <td>Rise And Fall, Rage And Grace</td>\n",
       "      <td>67v63ubEsvDUQkYMzI7A9t</td>\n",
       "      <td>2008-06-17</td>\n",
       "      <td>The Offspring_You're Gonna Go Far, Kid</td>\n",
       "    </tr>\n",
       "    <tr>\n",
       "      <th>4</th>\n",
       "      <td>dance</td>\n",
       "      <td>Doja Cat</td>\n",
       "      <td>5cj0lLjcoR7YOSnhnX0Po5</td>\n",
       "      <td>17232250</td>\n",
       "      <td>Woman</td>\n",
       "      <td>6Uj1ctrBOjOas8xZXGqKk4</td>\n",
       "      <td>97</td>\n",
       "      <td>Planet Her</td>\n",
       "      <td>1nAQbHeOWTfQzbOoFrvndW</td>\n",
       "      <td>2021-06-25</td>\n",
       "      <td>Doja Cat_Woman</td>\n",
       "    </tr>\n",
       "    <tr>\n",
       "      <th>5</th>\n",
       "      <td>dance</td>\n",
       "      <td>Doja Cat</td>\n",
       "      <td>5cj0lLjcoR7YOSnhnX0Po5</td>\n",
       "      <td>17232250</td>\n",
       "      <td>Need to Know</td>\n",
       "      <td>3Vi5XqYrmQgOYBajMWSvCi</td>\n",
       "      <td>94</td>\n",
       "      <td>Planet Her</td>\n",
       "      <td>1nAQbHeOWTfQzbOoFrvndW</td>\n",
       "      <td>2021-06-25</td>\n",
       "      <td>Doja Cat_Need to Know</td>\n",
       "    </tr>\n",
       "    <tr>\n",
       "      <th>6</th>\n",
       "      <td>country</td>\n",
       "      <td>Morgan Wallen</td>\n",
       "      <td>4oUHIQIBe0LHzYfvXNW4QM</td>\n",
       "      <td>3127931</td>\n",
       "      <td>Wasted On You</td>\n",
       "      <td>3cBsEDNhFI9E82vPj3kvi3</td>\n",
       "      <td>83</td>\n",
       "      <td>Dangerous: The Double Album</td>\n",
       "      <td>6JlCkqkqobGirPsaleJpFr</td>\n",
       "      <td>2021-01-08</td>\n",
       "      <td>Morgan Wallen_Wasted On You</td>\n",
       "    </tr>\n",
       "    <tr>\n",
       "      <th>7</th>\n",
       "      <td>country</td>\n",
       "      <td>Morgan Wallen</td>\n",
       "      <td>4oUHIQIBe0LHzYfvXNW4QM</td>\n",
       "      <td>3127931</td>\n",
       "      <td>Whiskey Glasses</td>\n",
       "      <td>6foY66mWZN0pSRjZ408c00</td>\n",
       "      <td>83</td>\n",
       "      <td>If I Know Me</td>\n",
       "      <td>1IR2nlwX6YVTXXeu2qzoWO</td>\n",
       "      <td>2018-04-27</td>\n",
       "      <td>Morgan Wallen_Whiskey Glasses</td>\n",
       "    </tr>\n",
       "    <tr>\n",
       "      <th>8</th>\n",
       "      <td>opera</td>\n",
       "      <td>Josh Groban</td>\n",
       "      <td>6cXMpsP9x0SH4kFfMyVezF</td>\n",
       "      <td>777889</td>\n",
       "      <td>You Raise Me Up</td>\n",
       "      <td>4TbNLKRLKlxZDlS0pu7Lsy</td>\n",
       "      <td>61</td>\n",
       "      <td>Closer</td>\n",
       "      <td>6Uj9VARQcRBOQZ2uBywlrH</td>\n",
       "      <td>2003-11-11</td>\n",
       "      <td>Josh Groban_You Raise Me Up</td>\n",
       "    </tr>\n",
       "    <tr>\n",
       "      <th>9</th>\n",
       "      <td>opera</td>\n",
       "      <td>Jean-Philippe Rameau</td>\n",
       "      <td>4JSWO1Pf2zV991fq64uAce</td>\n",
       "      <td>60381</td>\n",
       "      <td>The Arts and the Hours</td>\n",
       "      <td>1G3QPQkoXvpChjNUhd6Tfs</td>\n",
       "      <td>65</td>\n",
       "      <td>Rameau, Ólafsson: The Arts and the Hours</td>\n",
       "      <td>4omnRCjOvnHa3ETQlqZpd1</td>\n",
       "      <td>2020-03-06</td>\n",
       "      <td>Jean-Philippe Rameau_The Arts and the Hours</td>\n",
       "    </tr>\n",
       "  </tbody>\n",
       "</table>\n",
       "</div>"
      ],
      "text/plain": [
       "     genre           artist_name               artist_id  followers  \\\n",
       "0   reggae               Becky G  4obzFoKoKRHIphyHzJ35G3   11174590   \n",
       "1   reggae             Bad Bunny  4q3ewBCX7sLwd24euuV69X   45995488   \n",
       "2      ska               Sublime  0EdvGhlC1FkGItLOWQzG4J    2186497   \n",
       "3      ska         The Offspring  5LfGQac0EIXyAN8aUwmNAQ    4605992   \n",
       "4    dance              Doja Cat  5cj0lLjcoR7YOSnhnX0Po5   17232250   \n",
       "5    dance              Doja Cat  5cj0lLjcoR7YOSnhnX0Po5   17232250   \n",
       "6  country         Morgan Wallen  4oUHIQIBe0LHzYfvXNW4QM    3127931   \n",
       "7  country         Morgan Wallen  4oUHIQIBe0LHzYfvXNW4QM    3127931   \n",
       "8    opera           Josh Groban  6cXMpsP9x0SH4kFfMyVezF     777889   \n",
       "9    opera  Jean-Philippe Rameau  4JSWO1Pf2zV991fq64uAce      60381   \n",
       "\n",
       "                 track_name                track_id  popularity  \\\n",
       "0                    MAMIII  1ri9ZUkBJVFUdgwzCnfcYs          98   \n",
       "1                  Yonaguni  2JPLbjOn0wPCngEot2STUS          95   \n",
       "2                  Santeria  2hnMS47jN0etwvFPzYk11f          81   \n",
       "3  You're Gonna Go Far, Kid  6TfBA04WJ3X1d1wXhaCFVT          84   \n",
       "4                     Woman  6Uj1ctrBOjOas8xZXGqKk4          97   \n",
       "5              Need to Know  3Vi5XqYrmQgOYBajMWSvCi          94   \n",
       "6             Wasted On You  3cBsEDNhFI9E82vPj3kvi3          83   \n",
       "7           Whiskey Glasses  6foY66mWZN0pSRjZ408c00          83   \n",
       "8           You Raise Me Up  4TbNLKRLKlxZDlS0pu7Lsy          61   \n",
       "9    The Arts and the Hours  1G3QPQkoXvpChjNUhd6Tfs          65   \n",
       "\n",
       "                                 album_name                album_id  \\\n",
       "0                                    MAMIII  6GHUywBU0u92lg0Dhrt40R   \n",
       "1                                  Yonaguni  6VSOIs13DaSG2IPilNviX5   \n",
       "2                                   Sublime  14eK347GdWO4mBBx78tsut   \n",
       "3             Rise And Fall, Rage And Grace  67v63ubEsvDUQkYMzI7A9t   \n",
       "4                                Planet Her  1nAQbHeOWTfQzbOoFrvndW   \n",
       "5                                Planet Her  1nAQbHeOWTfQzbOoFrvndW   \n",
       "6               Dangerous: The Double Album  6JlCkqkqobGirPsaleJpFr   \n",
       "7                              If I Know Me  1IR2nlwX6YVTXXeu2qzoWO   \n",
       "8                                    Closer  6Uj9VARQcRBOQZ2uBywlrH   \n",
       "9  Rameau, Ólafsson: The Arts and the Hours  4omnRCjOvnHa3ETQlqZpd1   \n",
       "\n",
       "  release_date                                  natural_key  \n",
       "0   2022-02-10                               Becky G_MAMIII  \n",
       "1   2021-06-04                           Bad Bunny_Yonaguni  \n",
       "2   1996-07-30                             Sublime_Santeria  \n",
       "3   2008-06-17       The Offspring_You're Gonna Go Far, Kid  \n",
       "4   2021-06-25                               Doja Cat_Woman  \n",
       "5   2021-06-25                        Doja Cat_Need to Know  \n",
       "6   2021-01-08                  Morgan Wallen_Wasted On You  \n",
       "7   2018-04-27                Morgan Wallen_Whiskey Glasses  \n",
       "8   2003-11-11                  Josh Groban_You Raise Me Up  \n",
       "9   2020-03-06  Jean-Philippe Rameau_The Arts and the Hours  "
      ]
     },
     "execution_count": 18,
     "metadata": {},
     "output_type": "execute_result"
    }
   ],
   "source": [
    "df_tracks['natural_key'] = df_tracks.artist_name.map(str) + \"_\" + df_tracks.track_name\n",
    "\n",
    "df_tracks"
   ]
  },
  {
   "cell_type": "code",
   "execution_count": 24,
   "id": "2a9eea7f",
   "metadata": {},
   "outputs": [
    {
     "data": {
      "text/plain": [
       "genre           object\n",
       "artist_name     object\n",
       "artist_id       object\n",
       "track_name      object\n",
       "track_id        object\n",
       "popularity       int64\n",
       "album_name      object\n",
       "album_id        object\n",
       "release_date    object\n",
       "dtype: object"
      ]
     },
     "execution_count": 24,
     "metadata": {},
     "output_type": "execute_result"
    }
   ],
   "source": [
    "df_tracks.dtypes"
   ]
  },
  {
   "cell_type": "markdown",
   "id": "55c7ca94",
   "metadata": {},
   "source": [
    "#### Create new column to bin dates to seasons"
   ]
  },
  {
   "cell_type": "code",
   "execution_count": null,
   "id": "990e885d",
   "metadata": {},
   "outputs": [],
   "source": [
    "df_tracks['release_season'] = "
   ]
  },
  {
   "cell_type": "markdown",
   "id": "033890a9",
   "metadata": {},
   "source": [
    "#### Are there duplicates?"
   ]
  },
  {
   "cell_type": "code",
   "execution_count": 21,
   "id": "b7d9f543",
   "metadata": {},
   "outputs": [
    {
     "data": {
      "text/plain": [
       "0"
      ]
     },
     "execution_count": 21,
     "metadata": {},
     "output_type": "execute_result"
    }
   ],
   "source": [
    "len(df_tracks[df_tracks.duplicated('natural_key')])"
   ]
  },
  {
   "cell_type": "markdown",
   "id": "9bc34dec",
   "metadata": {},
   "source": [
    "## Get the audio features per track"
   ]
  },
  {
   "cell_type": "code",
   "execution_count": null,
   "id": "f39d56e0",
   "metadata": {},
   "outputs": [],
   "source": [
    "# The audio features search has a limit of 100 track IDs that can be submitted per query.\n",
    "start = timeit.default_timer()\n",
    "\n",
    "# empty list for rows, define the batchsize as the limit per query, zeroing the None_counter\n",
    "rows = []\n",
    "batchsize = 100\n",
    "None_counter = 0\n",
    "\n",
    "for i in range(0, len(df_tracks['track_id']), batchsize):\n",
    "    if (i % 10 == 0 and i >= 10):\n",
    "        set_count += 1\n",
    "        record_count = 1\n",
    "        \n",
    "    print(f'Processing record {record_count} of Set {set_count} | {genre}')\n",
    "    record_count += 1\n",
    "    batch = df_tracks['track_id'][i:i+batchsize]\n",
    "    feature_results = sp.audio_features(batch)\n",
    "    time.sleep(60)\n",
    "    for i, t in enumerate(feature_results):\n",
    "        if t == None:\n",
    "            None_counter = None_counter +1\n",
    "        else:\n",
    "            rows.append(t)\n",
    "\n",
    "print(f'Number of tracks where no audio features were available:', None_counter)\n",
    "\n",
    "stop = timeit.default_timer()\n",
    "print(f'This took {stop - start} seconds to complete.')"
   ]
  },
  {
   "cell_type": "markdown",
   "id": "bb01732c",
   "metadata": {},
   "source": [
    "#### Inspect the audio features dataset"
   ]
  },
  {
   "cell_type": "code",
   "execution_count": null,
   "id": "a4ea6dd2",
   "metadata": {},
   "outputs": [],
   "source": [
    "print(f'Number of elements in audio features dataset: {len(rows)}')"
   ]
  },
  {
   "cell_type": "code",
   "execution_count": null,
   "id": "d106869f",
   "metadata": {},
   "outputs": [],
   "source": [
    "df_audio_features = pd.DataFrame.from_dict(rows,orient='columns')\n",
    "df_audio_features.head()"
   ]
  },
  {
   "cell_type": "code",
   "execution_count": null,
   "id": "5408c53b",
   "metadata": {},
   "outputs": [],
   "source": [
    "df_audio_features.columns"
   ]
  },
  {
   "cell_type": "code",
   "execution_count": null,
   "id": "64a129b0",
   "metadata": {},
   "outputs": [],
   "source": [
    "df_tracks.columns"
   ]
  },
  {
   "cell_type": "markdown",
   "id": "1f6bfcd5",
   "metadata": {},
   "source": [
    "#### Transform audio features DataFrame"
   ]
  },
  {
   "cell_type": "code",
   "execution_count": null,
   "id": "8f8e5607",
   "metadata": {},
   "outputs": [],
   "source": [
    "df_audio_features.drop(['track_href','analysis_url','uri','type'], axis=1, inplace=True)\n",
    "df_audio_features.rename(columns={'id':'track_id'}, inplace=True)"
   ]
  },
  {
   "cell_type": "markdown",
   "id": "7ebc76a9",
   "metadata": {},
   "source": [
    "### Generate the dataframes in the format of tables in ERD"
   ]
  },
  {
   "cell_type": "code",
   "execution_count": null,
   "id": "3c59cdf7",
   "metadata": {},
   "outputs": [],
   "source": [
    "df_all = pd.merge(df_tracks, df_audio_features, on='track_id', how='inner')\n",
    "df_all"
   ]
  },
  {
   "cell_type": "code",
   "execution_count": null,
   "id": "bd4c5b10",
   "metadata": {},
   "outputs": [],
   "source": [
    "df_all.shape"
   ]
  },
  {
   "cell_type": "code",
   "execution_count": null,
   "id": "f8f8d73b",
   "metadata": {},
   "outputs": [],
   "source": [
    "df_all.columns"
   ]
  },
  {
   "cell_type": "code",
   "execution_count": null,
   "id": "f19115fd",
   "metadata": {
    "scrolled": true
   },
   "outputs": [],
   "source": [
    "genre_data = df_all[['artist_name','artist_id','followers']]\n",
    "album_data = df_all[['album_name','album_id','release_date']]\n",
    "track_features = df_all[[\n",
    "    'track_name',\n",
    "    'track_id',\n",
    "    'artist_id',\n",
    "    'album_id',\n",
    "    'acousticness',\n",
    "    'danceability',\n",
    "    'duration_ms',\n",
    "    'energy',\n",
    "    'genre',\n",
    "    'instrumentalness',\n",
    "    'key',\n",
    "    'liveness',\n",
    "    'loudness',\n",
    "    'mode',\n",
    "    'popularity',\n",
    "    'speechiness',\n",
    "    'tempo',\n",
    "    'time_signature',\n",
    "    'valence'\n",
    "]]"
   ]
  },
  {
   "cell_type": "code",
   "execution_count": null,
   "id": "7bfab475",
   "metadata": {},
   "outputs": [],
   "source": [
    "print(f'DataFrames artist_data has shape {artist_data.shape}, album_data has shape {album_data.shape} and track_features has shape {track_features.shape}')"
   ]
  },
  {
   "cell_type": "code",
   "execution_count": null,
   "id": "de8ac721",
   "metadata": {},
   "outputs": [],
   "source": [
    "# # Imports\n",
    "# from sqlalchemy import create_engine\n",
    "# import psycopg2 \n",
    "# from config import db_password\n",
    "\n",
    "# # Create connection to database (endpoint to be decided)\n",
    "# db_string = f\"postgresql://postgres:{db_password}@{endpoint}\"\n",
    "\n",
    "# # instantiate engine\n",
    "# engine = create_engine(db_string)\n",
    "\n",
    "# genre_data.to_sql(name='genre_data', con=engine, if_exists='replace', index=False)\n",
    "# album_data.to_sql(name='album_data', con=engine, if_exists='replace', index=False)\n",
    "# track_features.to_sql(name='track_features', con=engine, if_exists='replace', index=False)"
   ]
  }
 ],
 "metadata": {
  "kernelspec": {
   "display_name": "PythonData",
   "language": "python",
   "name": "pythondata"
  },
  "language_info": {
   "codemirror_mode": {
    "name": "ipython",
    "version": 3
   },
   "file_extension": ".py",
   "mimetype": "text/x-python",
   "name": "python",
   "nbconvert_exporter": "python",
   "pygments_lexer": "ipython3",
   "version": "3.7.10"
  }
 },
 "nbformat": 4,
 "nbformat_minor": 5
}
