{
 "cells": [
  {
   "cell_type": "code",
   "execution_count": 1,
   "id": "4da6d17b",
   "metadata": {},
   "outputs": [],
   "source": [
    "import pandas as pd\n",
    "import numpy as np\n",
    "import datetime as dt"
   ]
  },
  {
   "cell_type": "code",
   "execution_count": 2,
   "id": "0ae2748b",
   "metadata": {},
   "outputs": [
    {
     "data": {
      "text/html": [
       "<div>\n",
       "<style scoped>\n",
       "    .dataframe tbody tr th:only-of-type {\n",
       "        vertical-align: middle;\n",
       "    }\n",
       "\n",
       "    .dataframe tbody tr th {\n",
       "        vertical-align: top;\n",
       "    }\n",
       "\n",
       "    .dataframe thead th {\n",
       "        text-align: right;\n",
       "    }\n",
       "</style>\n",
       "<table border=\"1\" class=\"dataframe\">\n",
       "  <thead>\n",
       "    <tr style=\"text-align: right;\">\n",
       "      <th></th>\n",
       "      <th>id</th>\n",
       "      <th>name</th>\n",
       "      <th>popularity</th>\n",
       "      <th>duration_ms</th>\n",
       "      <th>explicit</th>\n",
       "      <th>artists</th>\n",
       "      <th>id_artists</th>\n",
       "      <th>release_date</th>\n",
       "      <th>danceability</th>\n",
       "      <th>energy</th>\n",
       "      <th>...</th>\n",
       "      <th>instrumentalness</th>\n",
       "      <th>liveness</th>\n",
       "      <th>valence</th>\n",
       "      <th>tempo</th>\n",
       "      <th>time_signature</th>\n",
       "      <th>artists_upd_v1</th>\n",
       "      <th>artists_upd_v2</th>\n",
       "      <th>artists_upd</th>\n",
       "      <th>artists_song</th>\n",
       "      <th>consolidates_genre_lists</th>\n",
       "    </tr>\n",
       "  </thead>\n",
       "  <tbody>\n",
       "    <tr>\n",
       "      <th>0</th>\n",
       "      <td>35iwgR4jXetI318WEWsa1Q</td>\n",
       "      <td>Carve</td>\n",
       "      <td>6</td>\n",
       "      <td>126903</td>\n",
       "      <td>0</td>\n",
       "      <td>['Uli']</td>\n",
       "      <td>['45tIt06XoI0Iio4LBEVpls']</td>\n",
       "      <td>1922-02-22</td>\n",
       "      <td>0.645</td>\n",
       "      <td>0.4450</td>\n",
       "      <td>...</td>\n",
       "      <td>0.7440</td>\n",
       "      <td>0.151</td>\n",
       "      <td>0.127</td>\n",
       "      <td>104.851</td>\n",
       "      <td>3</td>\n",
       "      <td>['Uli']</td>\n",
       "      <td>[]</td>\n",
       "      <td>['Uli']</td>\n",
       "      <td>UliCarve</td>\n",
       "      <td>['nuevo_regional_mexicano', 'sierreno', 'regio...</td>\n",
       "    </tr>\n",
       "    <tr>\n",
       "      <th>1</th>\n",
       "      <td>021ht4sdgPcrDgSk7JTbKY</td>\n",
       "      <td>Capítulo 2.16 - Banquero Anarquista</td>\n",
       "      <td>0</td>\n",
       "      <td>98200</td>\n",
       "      <td>0</td>\n",
       "      <td>['Fernando Pessoa']</td>\n",
       "      <td>['14jtPCOoNZwquk5wd9DxrY']</td>\n",
       "      <td>1922-06-01</td>\n",
       "      <td>0.695</td>\n",
       "      <td>0.2630</td>\n",
       "      <td>...</td>\n",
       "      <td>0.0000</td>\n",
       "      <td>0.148</td>\n",
       "      <td>0.655</td>\n",
       "      <td>102.009</td>\n",
       "      <td>1</td>\n",
       "      <td>['Fernando Pessoa']</td>\n",
       "      <td>[]</td>\n",
       "      <td>['Fernando Pessoa']</td>\n",
       "      <td>Fernando PessoaCapítulo 2.16 - Banquero Anarqu...</td>\n",
       "      <td>NaN</td>\n",
       "    </tr>\n",
       "    <tr>\n",
       "      <th>2</th>\n",
       "      <td>07A5yehtSnoedViJAZkNnc</td>\n",
       "      <td>Vivo para Quererte - Remasterizado</td>\n",
       "      <td>0</td>\n",
       "      <td>181640</td>\n",
       "      <td>0</td>\n",
       "      <td>['Ignacio Corsini']</td>\n",
       "      <td>['5LiOoJbxVSAMkBS2fUm3X2']</td>\n",
       "      <td>1922-03-21</td>\n",
       "      <td>0.434</td>\n",
       "      <td>0.1770</td>\n",
       "      <td>...</td>\n",
       "      <td>0.0218</td>\n",
       "      <td>0.212</td>\n",
       "      <td>0.457</td>\n",
       "      <td>130.418</td>\n",
       "      <td>5</td>\n",
       "      <td>['Ignacio Corsini']</td>\n",
       "      <td>[]</td>\n",
       "      <td>['Ignacio Corsini']</td>\n",
       "      <td>Ignacio CorsiniVivo para Quererte - Remasterizado</td>\n",
       "      <td>['vintage_tango', 'tango']</td>\n",
       "    </tr>\n",
       "    <tr>\n",
       "      <th>3</th>\n",
       "      <td>08FmqUhxtyLTn6pAh6bk45</td>\n",
       "      <td>El Prisionero - Remasterizado</td>\n",
       "      <td>0</td>\n",
       "      <td>176907</td>\n",
       "      <td>0</td>\n",
       "      <td>['Ignacio Corsini']</td>\n",
       "      <td>['5LiOoJbxVSAMkBS2fUm3X2']</td>\n",
       "      <td>1922-03-21</td>\n",
       "      <td>0.321</td>\n",
       "      <td>0.0946</td>\n",
       "      <td>...</td>\n",
       "      <td>0.9180</td>\n",
       "      <td>0.104</td>\n",
       "      <td>0.397</td>\n",
       "      <td>169.980</td>\n",
       "      <td>3</td>\n",
       "      <td>['Ignacio Corsini']</td>\n",
       "      <td>[]</td>\n",
       "      <td>['Ignacio Corsini']</td>\n",
       "      <td>Ignacio CorsiniEl Prisionero - Remasterizado</td>\n",
       "      <td>['vintage_tango', 'tango']</td>\n",
       "    </tr>\n",
       "    <tr>\n",
       "      <th>4</th>\n",
       "      <td>08y9GfoqCWfOGsKdwojr5e</td>\n",
       "      <td>Lady of the Evening</td>\n",
       "      <td>0</td>\n",
       "      <td>163080</td>\n",
       "      <td>0</td>\n",
       "      <td>['Dick Haymes']</td>\n",
       "      <td>['3BiJGZsyX9sJchTqcSA7Su']</td>\n",
       "      <td>1922</td>\n",
       "      <td>0.402</td>\n",
       "      <td>0.1580</td>\n",
       "      <td>...</td>\n",
       "      <td>0.1300</td>\n",
       "      <td>0.311</td>\n",
       "      <td>0.196</td>\n",
       "      <td>103.220</td>\n",
       "      <td>4</td>\n",
       "      <td>['Dick Haymes']</td>\n",
       "      <td>[]</td>\n",
       "      <td>['Dick Haymes']</td>\n",
       "      <td>Dick HaymesLady of the Evening</td>\n",
       "      <td>['lounge', 'big_band', 'deep_adult_standards',...</td>\n",
       "    </tr>\n",
       "  </tbody>\n",
       "</table>\n",
       "<p>5 rows × 25 columns</p>\n",
       "</div>"
      ],
      "text/plain": [
       "                       id                                 name  popularity  \\\n",
       "0  35iwgR4jXetI318WEWsa1Q                                Carve           6   \n",
       "1  021ht4sdgPcrDgSk7JTbKY  Capítulo 2.16 - Banquero Anarquista           0   \n",
       "2  07A5yehtSnoedViJAZkNnc   Vivo para Quererte - Remasterizado           0   \n",
       "3  08FmqUhxtyLTn6pAh6bk45        El Prisionero - Remasterizado           0   \n",
       "4  08y9GfoqCWfOGsKdwojr5e                  Lady of the Evening           0   \n",
       "\n",
       "   duration_ms  explicit              artists                  id_artists  \\\n",
       "0       126903         0              ['Uli']  ['45tIt06XoI0Iio4LBEVpls']   \n",
       "1        98200         0  ['Fernando Pessoa']  ['14jtPCOoNZwquk5wd9DxrY']   \n",
       "2       181640         0  ['Ignacio Corsini']  ['5LiOoJbxVSAMkBS2fUm3X2']   \n",
       "3       176907         0  ['Ignacio Corsini']  ['5LiOoJbxVSAMkBS2fUm3X2']   \n",
       "4       163080         0      ['Dick Haymes']  ['3BiJGZsyX9sJchTqcSA7Su']   \n",
       "\n",
       "  release_date  danceability  energy  ...  instrumentalness  liveness  \\\n",
       "0   1922-02-22         0.645  0.4450  ...            0.7440     0.151   \n",
       "1   1922-06-01         0.695  0.2630  ...            0.0000     0.148   \n",
       "2   1922-03-21         0.434  0.1770  ...            0.0218     0.212   \n",
       "3   1922-03-21         0.321  0.0946  ...            0.9180     0.104   \n",
       "4         1922         0.402  0.1580  ...            0.1300     0.311   \n",
       "\n",
       "   valence    tempo  time_signature       artists_upd_v1  artists_upd_v2  \\\n",
       "0    0.127  104.851               3              ['Uli']              []   \n",
       "1    0.655  102.009               1  ['Fernando Pessoa']              []   \n",
       "2    0.457  130.418               5  ['Ignacio Corsini']              []   \n",
       "3    0.397  169.980               3  ['Ignacio Corsini']              []   \n",
       "4    0.196  103.220               4      ['Dick Haymes']              []   \n",
       "\n",
       "           artists_upd                                       artists_song  \\\n",
       "0              ['Uli']                                           UliCarve   \n",
       "1  ['Fernando Pessoa']  Fernando PessoaCapítulo 2.16 - Banquero Anarqu...   \n",
       "2  ['Ignacio Corsini']  Ignacio CorsiniVivo para Quererte - Remasterizado   \n",
       "3  ['Ignacio Corsini']       Ignacio CorsiniEl Prisionero - Remasterizado   \n",
       "4      ['Dick Haymes']                     Dick HaymesLady of the Evening   \n",
       "\n",
       "                            consolidates_genre_lists  \n",
       "0  ['nuevo_regional_mexicano', 'sierreno', 'regio...  \n",
       "1                                                NaN  \n",
       "2                         ['vintage_tango', 'tango']  \n",
       "3                         ['vintage_tango', 'tango']  \n",
       "4  ['lounge', 'big_band', 'deep_adult_standards',...  \n",
       "\n",
       "[5 rows x 25 columns]"
      ]
     },
     "execution_count": 2,
     "metadata": {},
     "output_type": "execute_result"
    }
   ],
   "source": [
    "df = pd.read_csv('Dataset_with_Genres.csv', index_col=0)\n",
    "df.head()"
   ]
  },
  {
   "cell_type": "code",
   "execution_count": 3,
   "id": "da46d071",
   "metadata": {},
   "outputs": [],
   "source": [
    "col_list = df.columns"
   ]
  },
  {
   "cell_type": "code",
   "execution_count": 4,
   "id": "d6934a46",
   "metadata": {},
   "outputs": [
    {
     "data": {
      "text/plain": [
       "Index(['id', 'name', 'popularity', 'duration_ms', 'explicit', 'artists',\n",
       "       'id_artists', 'release_date', 'danceability', 'energy', 'key',\n",
       "       'loudness', 'mode', 'speechiness', 'acousticness', 'instrumentalness',\n",
       "       'liveness', 'valence', 'tempo', 'time_signature', 'artists_upd_v1',\n",
       "       'artists_upd_v2', 'artists_upd', 'artists_song',\n",
       "       'consolidates_genre_lists'],\n",
       "      dtype='object')"
      ]
     },
     "execution_count": 4,
     "metadata": {},
     "output_type": "execute_result"
    }
   ],
   "source": [
    "col_list"
   ]
  },
  {
   "cell_type": "code",
   "execution_count": 5,
   "id": "30d50d34",
   "metadata": {
    "scrolled": true
   },
   "outputs": [
    {
     "data": {
      "text/plain": [
       "id                           object\n",
       "name                         object\n",
       "popularity                    int64\n",
       "duration_ms                   int64\n",
       "explicit                      int64\n",
       "artists                      object\n",
       "id_artists                   object\n",
       "release_date                 object\n",
       "danceability                float64\n",
       "energy                      float64\n",
       "key                           int64\n",
       "loudness                    float64\n",
       "mode                          int64\n",
       "speechiness                 float64\n",
       "acousticness                float64\n",
       "instrumentalness            float64\n",
       "liveness                    float64\n",
       "valence                     float64\n",
       "tempo                       float64\n",
       "time_signature                int64\n",
       "artists_upd_v1               object\n",
       "artists_upd_v2               object\n",
       "artists_upd                  object\n",
       "artists_song                 object\n",
       "consolidates_genre_lists     object\n",
       "dtype: object"
      ]
     },
     "execution_count": 5,
     "metadata": {},
     "output_type": "execute_result"
    }
   ],
   "source": [
    "df.dtypes"
   ]
  },
  {
   "cell_type": "code",
   "execution_count": 6,
   "id": "d8ee1d1a",
   "metadata": {},
   "outputs": [
    {
     "data": {
      "text/plain": [
       "(523475, 25)"
      ]
     },
     "execution_count": 6,
     "metadata": {},
     "output_type": "execute_result"
    }
   ],
   "source": [
    "df.shape"
   ]
  },
  {
   "cell_type": "code",
   "execution_count": 7,
   "id": "92d3c884",
   "metadata": {},
   "outputs": [],
   "source": [
    "# remove the unnecessary [''] from any useful entries (they weren't lists)\n",
    "# credit for solution: https://stackoverflow.com/questions/38147447/how-to-remove-square-bracket-from-pandas-dataframe\n",
    "df['artists'] = df['artists'].str.strip(\"[' ']\").astype(object)\n",
    "df['id_artists'] = df['id_artists'].str.strip(\"[' ']\").astype(object)\n",
    "df['consolidates_genre_lists'] = df['consolidates_genre_lists'].str.strip(\"[' ']\").astype(str)"
   ]
  },
  {
   "cell_type": "code",
   "execution_count": 8,
   "id": "dc525daf",
   "metadata": {},
   "outputs": [],
   "source": [
    "# drop unnecessary columns\n",
    "to_drop = ['artists_upd_v1', 'artists_upd_v2','artists_upd', 'artists_song']\n",
    "df.drop(to_drop, axis=1, inplace=True)"
   ]
  },
  {
   "cell_type": "code",
   "execution_count": 9,
   "id": "b6c7f3ef",
   "metadata": {},
   "outputs": [
    {
     "data": {
      "text/plain": [
       "(523475, 21)"
      ]
     },
     "execution_count": 9,
     "metadata": {},
     "output_type": "execute_result"
    }
   ],
   "source": [
    "df.shape"
   ]
  },
  {
   "cell_type": "code",
   "execution_count": 10,
   "id": "7f876d16",
   "metadata": {},
   "outputs": [],
   "source": [
    "# rename columns\n",
    "df.rename(columns={'id': 'track_id', \n",
    "                   'name': 'track_name',\n",
    "                   'artists':'artist_name',\n",
    "                   'id_artists':'artist_id',\n",
    "                   'genres':'genre',\n",
    "                   'consolidates_genre_lists':'genres'}, inplace=True)"
   ]
  },
  {
   "cell_type": "code",
   "execution_count": 11,
   "id": "bf482dcd",
   "metadata": {},
   "outputs": [
    {
     "data": {
      "text/plain": [
       "track_id            0\n",
       "track_name          1\n",
       "popularity          0\n",
       "duration_ms         0\n",
       "explicit            0\n",
       "artist_name         0\n",
       "artist_id           0\n",
       "release_date        0\n",
       "danceability        0\n",
       "energy              0\n",
       "key                 0\n",
       "loudness            0\n",
       "mode                0\n",
       "speechiness         0\n",
       "acousticness        0\n",
       "instrumentalness    0\n",
       "liveness            0\n",
       "valence             0\n",
       "tempo               0\n",
       "time_signature      0\n",
       "genres              0\n",
       "dtype: int64"
      ]
     },
     "execution_count": 11,
     "metadata": {},
     "output_type": "execute_result"
    }
   ],
   "source": [
    "# pre NaN-drop check\n",
    "df.isna().sum()"
   ]
  },
  {
   "cell_type": "code",
   "execution_count": 12,
   "id": "1e1d3c18",
   "metadata": {},
   "outputs": [
    {
     "data": {
      "text/plain": [
       "track_id            0\n",
       "track_name          0\n",
       "popularity          0\n",
       "duration_ms         0\n",
       "explicit            0\n",
       "artist_name         0\n",
       "artist_id           0\n",
       "release_date        0\n",
       "danceability        0\n",
       "energy              0\n",
       "key                 0\n",
       "loudness            0\n",
       "mode                0\n",
       "speechiness         0\n",
       "acousticness        0\n",
       "instrumentalness    0\n",
       "liveness            0\n",
       "valence             0\n",
       "tempo               0\n",
       "time_signature      0\n",
       "genres              0\n",
       "dtype: int64"
      ]
     },
     "execution_count": 12,
     "metadata": {},
     "output_type": "execute_result"
    }
   ],
   "source": [
    "# drop NaN\n",
    "df.dropna(axis=0, inplace=True)\n",
    "df.isna().sum()"
   ]
  },
  {
   "cell_type": "code",
   "execution_count": 13,
   "id": "b032d1fb",
   "metadata": {},
   "outputs": [
    {
     "data": {
      "text/plain": [
       "(523474, 21)"
      ]
     },
     "execution_count": 13,
     "metadata": {},
     "output_type": "execute_result"
    }
   ],
   "source": [
    "df.shape"
   ]
  },
  {
   "cell_type": "code",
   "execution_count": 14,
   "id": "8d18dba7",
   "metadata": {},
   "outputs": [],
   "source": [
    "# create natural key \n",
    "df['track_natural_key'] = df.track_name + \"_\" + df.artist_name.map(str)\n"
   ]
  },
  {
   "cell_type": "code",
   "execution_count": 15,
   "id": "6080d696",
   "metadata": {},
   "outputs": [
    {
     "data": {
      "text/html": [
       "<div>\n",
       "<style scoped>\n",
       "    .dataframe tbody tr th:only-of-type {\n",
       "        vertical-align: middle;\n",
       "    }\n",
       "\n",
       "    .dataframe tbody tr th {\n",
       "        vertical-align: top;\n",
       "    }\n",
       "\n",
       "    .dataframe thead th {\n",
       "        text-align: right;\n",
       "    }\n",
       "</style>\n",
       "<table border=\"1\" class=\"dataframe\">\n",
       "  <thead>\n",
       "    <tr style=\"text-align: right;\">\n",
       "      <th></th>\n",
       "      <th>track_id</th>\n",
       "      <th>track_name</th>\n",
       "      <th>popularity</th>\n",
       "      <th>duration_ms</th>\n",
       "      <th>explicit</th>\n",
       "      <th>artist_name</th>\n",
       "      <th>artist_id</th>\n",
       "      <th>release_date</th>\n",
       "      <th>danceability</th>\n",
       "      <th>energy</th>\n",
       "      <th>...</th>\n",
       "      <th>speechiness</th>\n",
       "      <th>acousticness</th>\n",
       "      <th>instrumentalness</th>\n",
       "      <th>liveness</th>\n",
       "      <th>valence</th>\n",
       "      <th>tempo</th>\n",
       "      <th>time_signature</th>\n",
       "      <th>genres</th>\n",
       "      <th>track_natural_key</th>\n",
       "      <th>duration_mins</th>\n",
       "    </tr>\n",
       "  </thead>\n",
       "  <tbody>\n",
       "    <tr>\n",
       "      <th>0</th>\n",
       "      <td>35iwgR4jXetI318WEWsa1Q</td>\n",
       "      <td>Carve</td>\n",
       "      <td>6</td>\n",
       "      <td>126903</td>\n",
       "      <td>0</td>\n",
       "      <td>Uli</td>\n",
       "      <td>45tIt06XoI0Iio4LBEVpls</td>\n",
       "      <td>1922-02-22</td>\n",
       "      <td>0.645</td>\n",
       "      <td>0.4450</td>\n",
       "      <td>...</td>\n",
       "      <td>0.4510</td>\n",
       "      <td>0.674</td>\n",
       "      <td>0.7440</td>\n",
       "      <td>0.151</td>\n",
       "      <td>0.127</td>\n",
       "      <td>104.851</td>\n",
       "      <td>3</td>\n",
       "      <td>nuevo_regional_mexicano', 'sierreno', 'regiona...</td>\n",
       "      <td>Carve_Uli</td>\n",
       "      <td>00:02:06</td>\n",
       "    </tr>\n",
       "    <tr>\n",
       "      <th>1</th>\n",
       "      <td>021ht4sdgPcrDgSk7JTbKY</td>\n",
       "      <td>Capítulo 2.16 - Banquero Anarquista</td>\n",
       "      <td>0</td>\n",
       "      <td>98200</td>\n",
       "      <td>0</td>\n",
       "      <td>Fernando Pessoa</td>\n",
       "      <td>14jtPCOoNZwquk5wd9DxrY</td>\n",
       "      <td>1922-06-01</td>\n",
       "      <td>0.695</td>\n",
       "      <td>0.2630</td>\n",
       "      <td>...</td>\n",
       "      <td>0.9570</td>\n",
       "      <td>0.797</td>\n",
       "      <td>0.0000</td>\n",
       "      <td>0.148</td>\n",
       "      <td>0.655</td>\n",
       "      <td>102.009</td>\n",
       "      <td>1</td>\n",
       "      <td>nan</td>\n",
       "      <td>Capítulo 2.16 - Banquero Anarquista_Fernando P...</td>\n",
       "      <td>00:01:38</td>\n",
       "    </tr>\n",
       "    <tr>\n",
       "      <th>2</th>\n",
       "      <td>07A5yehtSnoedViJAZkNnc</td>\n",
       "      <td>Vivo para Quererte - Remasterizado</td>\n",
       "      <td>0</td>\n",
       "      <td>181640</td>\n",
       "      <td>0</td>\n",
       "      <td>Ignacio Corsini</td>\n",
       "      <td>5LiOoJbxVSAMkBS2fUm3X2</td>\n",
       "      <td>1922-03-21</td>\n",
       "      <td>0.434</td>\n",
       "      <td>0.1770</td>\n",
       "      <td>...</td>\n",
       "      <td>0.0512</td>\n",
       "      <td>0.994</td>\n",
       "      <td>0.0218</td>\n",
       "      <td>0.212</td>\n",
       "      <td>0.457</td>\n",
       "      <td>130.418</td>\n",
       "      <td>5</td>\n",
       "      <td>vintage_tango', 'tango</td>\n",
       "      <td>Vivo para Quererte - Remasterizado_Ignacio Cor...</td>\n",
       "      <td>00:03:01</td>\n",
       "    </tr>\n",
       "    <tr>\n",
       "      <th>3</th>\n",
       "      <td>08FmqUhxtyLTn6pAh6bk45</td>\n",
       "      <td>El Prisionero - Remasterizado</td>\n",
       "      <td>0</td>\n",
       "      <td>176907</td>\n",
       "      <td>0</td>\n",
       "      <td>Ignacio Corsini</td>\n",
       "      <td>5LiOoJbxVSAMkBS2fUm3X2</td>\n",
       "      <td>1922-03-21</td>\n",
       "      <td>0.321</td>\n",
       "      <td>0.0946</td>\n",
       "      <td>...</td>\n",
       "      <td>0.0504</td>\n",
       "      <td>0.995</td>\n",
       "      <td>0.9180</td>\n",
       "      <td>0.104</td>\n",
       "      <td>0.397</td>\n",
       "      <td>169.980</td>\n",
       "      <td>3</td>\n",
       "      <td>vintage_tango', 'tango</td>\n",
       "      <td>El Prisionero - Remasterizado_Ignacio Corsini</td>\n",
       "      <td>00:02:56</td>\n",
       "    </tr>\n",
       "    <tr>\n",
       "      <th>4</th>\n",
       "      <td>08y9GfoqCWfOGsKdwojr5e</td>\n",
       "      <td>Lady of the Evening</td>\n",
       "      <td>0</td>\n",
       "      <td>163080</td>\n",
       "      <td>0</td>\n",
       "      <td>Dick Haymes</td>\n",
       "      <td>3BiJGZsyX9sJchTqcSA7Su</td>\n",
       "      <td>1922</td>\n",
       "      <td>0.402</td>\n",
       "      <td>0.1580</td>\n",
       "      <td>...</td>\n",
       "      <td>0.0390</td>\n",
       "      <td>0.989</td>\n",
       "      <td>0.1300</td>\n",
       "      <td>0.311</td>\n",
       "      <td>0.196</td>\n",
       "      <td>103.220</td>\n",
       "      <td>4</td>\n",
       "      <td>lounge', 'big_band', 'deep_adult_standards', '...</td>\n",
       "      <td>Lady of the Evening_Dick Haymes</td>\n",
       "      <td>00:02:43</td>\n",
       "    </tr>\n",
       "  </tbody>\n",
       "</table>\n",
       "<p>5 rows × 23 columns</p>\n",
       "</div>"
      ],
      "text/plain": [
       "                 track_id                           track_name  popularity  \\\n",
       "0  35iwgR4jXetI318WEWsa1Q                                Carve           6   \n",
       "1  021ht4sdgPcrDgSk7JTbKY  Capítulo 2.16 - Banquero Anarquista           0   \n",
       "2  07A5yehtSnoedViJAZkNnc   Vivo para Quererte - Remasterizado           0   \n",
       "3  08FmqUhxtyLTn6pAh6bk45        El Prisionero - Remasterizado           0   \n",
       "4  08y9GfoqCWfOGsKdwojr5e                  Lady of the Evening           0   \n",
       "\n",
       "   duration_ms  explicit      artist_name               artist_id  \\\n",
       "0       126903         0              Uli  45tIt06XoI0Iio4LBEVpls   \n",
       "1        98200         0  Fernando Pessoa  14jtPCOoNZwquk5wd9DxrY   \n",
       "2       181640         0  Ignacio Corsini  5LiOoJbxVSAMkBS2fUm3X2   \n",
       "3       176907         0  Ignacio Corsini  5LiOoJbxVSAMkBS2fUm3X2   \n",
       "4       163080         0      Dick Haymes  3BiJGZsyX9sJchTqcSA7Su   \n",
       "\n",
       "  release_date  danceability  energy  ...  speechiness  acousticness  \\\n",
       "0   1922-02-22         0.645  0.4450  ...       0.4510         0.674   \n",
       "1   1922-06-01         0.695  0.2630  ...       0.9570         0.797   \n",
       "2   1922-03-21         0.434  0.1770  ...       0.0512         0.994   \n",
       "3   1922-03-21         0.321  0.0946  ...       0.0504         0.995   \n",
       "4         1922         0.402  0.1580  ...       0.0390         0.989   \n",
       "\n",
       "   instrumentalness  liveness  valence    tempo  time_signature  \\\n",
       "0            0.7440     0.151    0.127  104.851               3   \n",
       "1            0.0000     0.148    0.655  102.009               1   \n",
       "2            0.0218     0.212    0.457  130.418               5   \n",
       "3            0.9180     0.104    0.397  169.980               3   \n",
       "4            0.1300     0.311    0.196  103.220               4   \n",
       "\n",
       "                                              genres  \\\n",
       "0  nuevo_regional_mexicano', 'sierreno', 'regiona...   \n",
       "1                                                nan   \n",
       "2                             vintage_tango', 'tango   \n",
       "3                             vintage_tango', 'tango   \n",
       "4  lounge', 'big_band', 'deep_adult_standards', '...   \n",
       "\n",
       "                                   track_natural_key  duration_mins  \n",
       "0                                          Carve_Uli       00:02:06  \n",
       "1  Capítulo 2.16 - Banquero Anarquista_Fernando P...       00:01:38  \n",
       "2  Vivo para Quererte - Remasterizado_Ignacio Cor...       00:03:01  \n",
       "3      El Prisionero - Remasterizado_Ignacio Corsini       00:02:56  \n",
       "4                    Lady of the Evening_Dick Haymes       00:02:43  \n",
       "\n",
       "[5 rows x 23 columns]"
      ]
     },
     "execution_count": 15,
     "metadata": {},
     "output_type": "execute_result"
    }
   ],
   "source": [
    "# Transform duration_ms to duration_mins\n",
    "# credit to drop milliseconds from datetime format https://stackoverflow.com/questions/31487732/simple-way-to-drop-milliseconds-from-python-datetime-datetime-object\n",
    "\n",
    "converted = pd.to_datetime(df['duration_ms'], unit='ms')\n",
    "df['duration_mins'] = pd.Series([val.time().replace(microsecond=0) for val in converted])\n",
    "\n",
    "df.head()"
   ]
  },
  {
   "cell_type": "code",
   "execution_count": 16,
   "id": "382b1aca",
   "metadata": {},
   "outputs": [
    {
     "data": {
      "text/html": [
       "<div>\n",
       "<style scoped>\n",
       "    .dataframe tbody tr th:only-of-type {\n",
       "        vertical-align: middle;\n",
       "    }\n",
       "\n",
       "    .dataframe tbody tr th {\n",
       "        vertical-align: top;\n",
       "    }\n",
       "\n",
       "    .dataframe thead th {\n",
       "        text-align: right;\n",
       "    }\n",
       "</style>\n",
       "<table border=\"1\" class=\"dataframe\">\n",
       "  <thead>\n",
       "    <tr style=\"text-align: right;\">\n",
       "      <th></th>\n",
       "      <th>track_id</th>\n",
       "      <th>track_name</th>\n",
       "      <th>popularity</th>\n",
       "      <th>duration_ms</th>\n",
       "      <th>explicit</th>\n",
       "      <th>artist_name</th>\n",
       "      <th>artist_id</th>\n",
       "      <th>release_date</th>\n",
       "      <th>danceability</th>\n",
       "      <th>energy</th>\n",
       "      <th>...</th>\n",
       "      <th>acousticness</th>\n",
       "      <th>instrumentalness</th>\n",
       "      <th>liveness</th>\n",
       "      <th>valence</th>\n",
       "      <th>tempo</th>\n",
       "      <th>time_signature</th>\n",
       "      <th>genres</th>\n",
       "      <th>track_natural_key</th>\n",
       "      <th>duration_mins</th>\n",
       "      <th>release_season</th>\n",
       "    </tr>\n",
       "  </thead>\n",
       "  <tbody>\n",
       "    <tr>\n",
       "      <th>0</th>\n",
       "      <td>35iwgR4jXetI318WEWsa1Q</td>\n",
       "      <td>Carve</td>\n",
       "      <td>6</td>\n",
       "      <td>126903</td>\n",
       "      <td>0</td>\n",
       "      <td>Uli</td>\n",
       "      <td>45tIt06XoI0Iio4LBEVpls</td>\n",
       "      <td>1922-02-22</td>\n",
       "      <td>0.645</td>\n",
       "      <td>0.4450</td>\n",
       "      <td>...</td>\n",
       "      <td>0.674</td>\n",
       "      <td>0.7440</td>\n",
       "      <td>0.151</td>\n",
       "      <td>0.127</td>\n",
       "      <td>104.851</td>\n",
       "      <td>3</td>\n",
       "      <td>nuevo_regional_mexicano', 'sierreno', 'regiona...</td>\n",
       "      <td>Carve_Uli</td>\n",
       "      <td>00:02:06</td>\n",
       "      <td>winter</td>\n",
       "    </tr>\n",
       "    <tr>\n",
       "      <th>1</th>\n",
       "      <td>021ht4sdgPcrDgSk7JTbKY</td>\n",
       "      <td>Capítulo 2.16 - Banquero Anarquista</td>\n",
       "      <td>0</td>\n",
       "      <td>98200</td>\n",
       "      <td>0</td>\n",
       "      <td>Fernando Pessoa</td>\n",
       "      <td>14jtPCOoNZwquk5wd9DxrY</td>\n",
       "      <td>1922-06-01</td>\n",
       "      <td>0.695</td>\n",
       "      <td>0.2630</td>\n",
       "      <td>...</td>\n",
       "      <td>0.797</td>\n",
       "      <td>0.0000</td>\n",
       "      <td>0.148</td>\n",
       "      <td>0.655</td>\n",
       "      <td>102.009</td>\n",
       "      <td>1</td>\n",
       "      <td>nan</td>\n",
       "      <td>Capítulo 2.16 - Banquero Anarquista_Fernando P...</td>\n",
       "      <td>00:01:38</td>\n",
       "      <td>spring</td>\n",
       "    </tr>\n",
       "    <tr>\n",
       "      <th>2</th>\n",
       "      <td>07A5yehtSnoedViJAZkNnc</td>\n",
       "      <td>Vivo para Quererte - Remasterizado</td>\n",
       "      <td>0</td>\n",
       "      <td>181640</td>\n",
       "      <td>0</td>\n",
       "      <td>Ignacio Corsini</td>\n",
       "      <td>5LiOoJbxVSAMkBS2fUm3X2</td>\n",
       "      <td>1922-03-21</td>\n",
       "      <td>0.434</td>\n",
       "      <td>0.1770</td>\n",
       "      <td>...</td>\n",
       "      <td>0.994</td>\n",
       "      <td>0.0218</td>\n",
       "      <td>0.212</td>\n",
       "      <td>0.457</td>\n",
       "      <td>130.418</td>\n",
       "      <td>5</td>\n",
       "      <td>vintage_tango', 'tango</td>\n",
       "      <td>Vivo para Quererte - Remasterizado_Ignacio Cor...</td>\n",
       "      <td>00:03:01</td>\n",
       "      <td>spring</td>\n",
       "    </tr>\n",
       "    <tr>\n",
       "      <th>3</th>\n",
       "      <td>08FmqUhxtyLTn6pAh6bk45</td>\n",
       "      <td>El Prisionero - Remasterizado</td>\n",
       "      <td>0</td>\n",
       "      <td>176907</td>\n",
       "      <td>0</td>\n",
       "      <td>Ignacio Corsini</td>\n",
       "      <td>5LiOoJbxVSAMkBS2fUm3X2</td>\n",
       "      <td>1922-03-21</td>\n",
       "      <td>0.321</td>\n",
       "      <td>0.0946</td>\n",
       "      <td>...</td>\n",
       "      <td>0.995</td>\n",
       "      <td>0.9180</td>\n",
       "      <td>0.104</td>\n",
       "      <td>0.397</td>\n",
       "      <td>169.980</td>\n",
       "      <td>3</td>\n",
       "      <td>vintage_tango', 'tango</td>\n",
       "      <td>El Prisionero - Remasterizado_Ignacio Corsini</td>\n",
       "      <td>00:02:56</td>\n",
       "      <td>spring</td>\n",
       "    </tr>\n",
       "    <tr>\n",
       "      <th>4</th>\n",
       "      <td>08y9GfoqCWfOGsKdwojr5e</td>\n",
       "      <td>Lady of the Evening</td>\n",
       "      <td>0</td>\n",
       "      <td>163080</td>\n",
       "      <td>0</td>\n",
       "      <td>Dick Haymes</td>\n",
       "      <td>3BiJGZsyX9sJchTqcSA7Su</td>\n",
       "      <td>1922-01-01</td>\n",
       "      <td>0.402</td>\n",
       "      <td>0.1580</td>\n",
       "      <td>...</td>\n",
       "      <td>0.989</td>\n",
       "      <td>0.1300</td>\n",
       "      <td>0.311</td>\n",
       "      <td>0.196</td>\n",
       "      <td>103.220</td>\n",
       "      <td>4</td>\n",
       "      <td>lounge', 'big_band', 'deep_adult_standards', '...</td>\n",
       "      <td>Lady of the Evening_Dick Haymes</td>\n",
       "      <td>00:02:43</td>\n",
       "      <td>winter</td>\n",
       "    </tr>\n",
       "  </tbody>\n",
       "</table>\n",
       "<p>5 rows × 24 columns</p>\n",
       "</div>"
      ],
      "text/plain": [
       "                 track_id                           track_name  popularity  \\\n",
       "0  35iwgR4jXetI318WEWsa1Q                                Carve           6   \n",
       "1  021ht4sdgPcrDgSk7JTbKY  Capítulo 2.16 - Banquero Anarquista           0   \n",
       "2  07A5yehtSnoedViJAZkNnc   Vivo para Quererte - Remasterizado           0   \n",
       "3  08FmqUhxtyLTn6pAh6bk45        El Prisionero - Remasterizado           0   \n",
       "4  08y9GfoqCWfOGsKdwojr5e                  Lady of the Evening           0   \n",
       "\n",
       "   duration_ms  explicit      artist_name               artist_id  \\\n",
       "0       126903         0              Uli  45tIt06XoI0Iio4LBEVpls   \n",
       "1        98200         0  Fernando Pessoa  14jtPCOoNZwquk5wd9DxrY   \n",
       "2       181640         0  Ignacio Corsini  5LiOoJbxVSAMkBS2fUm3X2   \n",
       "3       176907         0  Ignacio Corsini  5LiOoJbxVSAMkBS2fUm3X2   \n",
       "4       163080         0      Dick Haymes  3BiJGZsyX9sJchTqcSA7Su   \n",
       "\n",
       "  release_date  danceability  energy  ...  acousticness  instrumentalness  \\\n",
       "0   1922-02-22         0.645  0.4450  ...         0.674            0.7440   \n",
       "1   1922-06-01         0.695  0.2630  ...         0.797            0.0000   \n",
       "2   1922-03-21         0.434  0.1770  ...         0.994            0.0218   \n",
       "3   1922-03-21         0.321  0.0946  ...         0.995            0.9180   \n",
       "4   1922-01-01         0.402  0.1580  ...         0.989            0.1300   \n",
       "\n",
       "   liveness  valence    tempo  time_signature  \\\n",
       "0     0.151    0.127  104.851               3   \n",
       "1     0.148    0.655  102.009               1   \n",
       "2     0.212    0.457  130.418               5   \n",
       "3     0.104    0.397  169.980               3   \n",
       "4     0.311    0.196  103.220               4   \n",
       "\n",
       "                                              genres  \\\n",
       "0  nuevo_regional_mexicano', 'sierreno', 'regiona...   \n",
       "1                                                nan   \n",
       "2                             vintage_tango', 'tango   \n",
       "3                             vintage_tango', 'tango   \n",
       "4  lounge', 'big_band', 'deep_adult_standards', '...   \n",
       "\n",
       "                                   track_natural_key  duration_mins  \\\n",
       "0                                          Carve_Uli       00:02:06   \n",
       "1  Capítulo 2.16 - Banquero Anarquista_Fernando P...       00:01:38   \n",
       "2  Vivo para Quererte - Remasterizado_Ignacio Cor...       00:03:01   \n",
       "3      El Prisionero - Remasterizado_Ignacio Corsini       00:02:56   \n",
       "4                    Lady of the Evening_Dick Haymes       00:02:43   \n",
       "\n",
       "   release_season  \n",
       "0          winter  \n",
       "1          spring  \n",
       "2          spring  \n",
       "3          spring  \n",
       "4          winter  \n",
       "\n",
       "[5 rows x 24 columns]"
      ]
     },
     "execution_count": 16,
     "metadata": {},
     "output_type": "execute_result"
    }
   ],
   "source": [
    "# convert release_date to datetime object\n",
    "df['release_date'] = pd.to_datetime(df.release_date, format='%Y-%m-%d')\n",
    "\n",
    "# add new column for seasons (borrowed from https://stackoverflow.com/questions/60285557/extract-seasons-from-datetime-pandas)\n",
    "    # numeric trick is to wasp the winter separation at 12-31 / 01-01. \n",
    "    # By subtracting the end of winter, which is 03-21, and take modulo, you effectively change 01-01 to - 320 = 980 mod 1300, \n",
    "    # which is larger than the last day of autumn. So now your winter season is in one chunk instead of two.\n",
    "\n",
    "date_offset = (df.release_date.dt.month*100 + df.release_date.dt.day - 320)%1300\n",
    "\n",
    "df['release_season'] = pd.cut(date_offset, [0, 300, 602, 900, 1300], \n",
    "                                     labels=['spring', 'summer', 'autumn', 'winter'],\n",
    "                                     include_lowest = True)\n",
    "df.head()"
   ]
  },
  {
   "cell_type": "code",
   "execution_count": 17,
   "id": "d5a672a4",
   "metadata": {},
   "outputs": [
    {
     "data": {
      "text/plain": [
       "0"
      ]
     },
     "execution_count": 17,
     "metadata": {},
     "output_type": "execute_result"
    }
   ],
   "source": [
    "t_dup = df[df.duplicated('track_natural_key')]\n",
    "len(t_dup)"
   ]
  },
  {
   "cell_type": "code",
   "execution_count": 19,
   "id": "c0813606",
   "metadata": {
    "scrolled": true
   },
   "outputs": [
    {
     "data": {
      "text/plain": [
       "81500    Shut Up and Dance\n",
       "Name: track_name, dtype: object"
      ]
     },
     "execution_count": 19,
     "metadata": {},
     "output_type": "execute_result"
    }
   ],
   "source": [
    "df[df['track_id'] == '4kbj5MwxO1bq9wjT5g9HaA']['track_name']"
   ]
  },
  {
   "cell_type": "code",
   "execution_count": 20,
   "id": "579ba738",
   "metadata": {
    "scrolled": true
   },
   "outputs": [
    {
     "data": {
      "text/plain": [
       "(523474, 24)"
      ]
     },
     "execution_count": 20,
     "metadata": {},
     "output_type": "execute_result"
    }
   ],
   "source": [
    "df.shape"
   ]
  },
  {
   "cell_type": "code",
   "execution_count": 21,
   "id": "fb676de0",
   "metadata": {},
   "outputs": [
    {
     "data": {
      "text/plain": [
       "track_id                     object\n",
       "track_name                   object\n",
       "popularity                    int64\n",
       "duration_ms                   int64\n",
       "explicit                      int64\n",
       "artist_name                  object\n",
       "artist_id                    object\n",
       "release_date         datetime64[ns]\n",
       "danceability                float64\n",
       "energy                      float64\n",
       "key                           int64\n",
       "loudness                    float64\n",
       "mode                          int64\n",
       "speechiness                 float64\n",
       "acousticness                float64\n",
       "instrumentalness            float64\n",
       "liveness                    float64\n",
       "valence                     float64\n",
       "tempo                       float64\n",
       "time_signature                int64\n",
       "genres                       object\n",
       "track_natural_key            object\n",
       "duration_mins                object\n",
       "release_season             category\n",
       "dtype: object"
      ]
     },
     "execution_count": 21,
     "metadata": {},
     "output_type": "execute_result"
    }
   ],
   "source": [
    "df.dtypes"
   ]
  },
  {
   "cell_type": "code",
   "execution_count": 22,
   "id": "4d3260c3",
   "metadata": {},
   "outputs": [
    {
     "ename": "KeyError",
     "evalue": "'genre'",
     "output_type": "error",
     "traceback": [
      "\u001b[1;31m---------------------------------------------------------------------------\u001b[0m",
      "\u001b[1;31mKeyError\u001b[0m                                  Traceback (most recent call last)",
      "\u001b[1;32m~\\anaconda3\\envs\\PythonData\\lib\\site-packages\\pandas\\core\\indexes\\base.py\u001b[0m in \u001b[0;36mget_loc\u001b[1;34m(self, key, method, tolerance)\u001b[0m\n\u001b[0;32m   3079\u001b[0m             \u001b[1;32mtry\u001b[0m\u001b[1;33m:\u001b[0m\u001b[1;33m\u001b[0m\u001b[1;33m\u001b[0m\u001b[0m\n\u001b[1;32m-> 3080\u001b[1;33m                 \u001b[1;32mreturn\u001b[0m \u001b[0mself\u001b[0m\u001b[1;33m.\u001b[0m\u001b[0m_engine\u001b[0m\u001b[1;33m.\u001b[0m\u001b[0mget_loc\u001b[0m\u001b[1;33m(\u001b[0m\u001b[0mcasted_key\u001b[0m\u001b[1;33m)\u001b[0m\u001b[1;33m\u001b[0m\u001b[1;33m\u001b[0m\u001b[0m\n\u001b[0m\u001b[0;32m   3081\u001b[0m             \u001b[1;32mexcept\u001b[0m \u001b[0mKeyError\u001b[0m \u001b[1;32mas\u001b[0m \u001b[0merr\u001b[0m\u001b[1;33m:\u001b[0m\u001b[1;33m\u001b[0m\u001b[1;33m\u001b[0m\u001b[0m\n",
      "\u001b[1;32mpandas\\_libs\\index.pyx\u001b[0m in \u001b[0;36mpandas._libs.index.IndexEngine.get_loc\u001b[1;34m()\u001b[0m\n",
      "\u001b[1;32mpandas\\_libs\\index.pyx\u001b[0m in \u001b[0;36mpandas._libs.index.IndexEngine.get_loc\u001b[1;34m()\u001b[0m\n",
      "\u001b[1;32mpandas\\_libs\\hashtable_class_helper.pxi\u001b[0m in \u001b[0;36mpandas._libs.hashtable.PyObjectHashTable.get_item\u001b[1;34m()\u001b[0m\n",
      "\u001b[1;32mpandas\\_libs\\hashtable_class_helper.pxi\u001b[0m in \u001b[0;36mpandas._libs.hashtable.PyObjectHashTable.get_item\u001b[1;34m()\u001b[0m\n",
      "\u001b[1;31mKeyError\u001b[0m: 'genre'",
      "\nThe above exception was the direct cause of the following exception:\n",
      "\u001b[1;31mKeyError\u001b[0m                                  Traceback (most recent call last)",
      "\u001b[1;32m<ipython-input-22-725e9e8d33b4>\u001b[0m in \u001b[0;36m<module>\u001b[1;34m\u001b[0m\n\u001b[1;32m----> 1\u001b[1;33m \u001b[0mdf\u001b[0m\u001b[1;33m[\u001b[0m\u001b[1;34m'genre'\u001b[0m\u001b[1;33m]\u001b[0m\u001b[1;33m.\u001b[0m\u001b[0mvalue_counts\u001b[0m\u001b[1;33m(\u001b[0m\u001b[0mascending\u001b[0m\u001b[1;33m=\u001b[0m\u001b[1;32mFalse\u001b[0m\u001b[1;33m)\u001b[0m\u001b[1;33m.\u001b[0m\u001b[0mrename_axis\u001b[0m\u001b[1;33m(\u001b[0m\u001b[1;34m'genre'\u001b[0m\u001b[1;33m)\u001b[0m\u001b[1;33m.\u001b[0m\u001b[0mreset_index\u001b[0m\u001b[1;33m(\u001b[0m\u001b[0mname\u001b[0m\u001b[1;33m=\u001b[0m\u001b[1;34m'count'\u001b[0m\u001b[1;33m)\u001b[0m\u001b[1;33m\u001b[0m\u001b[1;33m\u001b[0m\u001b[0m\n\u001b[0m",
      "\u001b[1;32m~\\anaconda3\\envs\\PythonData\\lib\\site-packages\\pandas\\core\\frame.py\u001b[0m in \u001b[0;36m__getitem__\u001b[1;34m(self, key)\u001b[0m\n\u001b[0;32m   3022\u001b[0m             \u001b[1;32mif\u001b[0m \u001b[0mself\u001b[0m\u001b[1;33m.\u001b[0m\u001b[0mcolumns\u001b[0m\u001b[1;33m.\u001b[0m\u001b[0mnlevels\u001b[0m \u001b[1;33m>\u001b[0m \u001b[1;36m1\u001b[0m\u001b[1;33m:\u001b[0m\u001b[1;33m\u001b[0m\u001b[1;33m\u001b[0m\u001b[0m\n\u001b[0;32m   3023\u001b[0m                 \u001b[1;32mreturn\u001b[0m \u001b[0mself\u001b[0m\u001b[1;33m.\u001b[0m\u001b[0m_getitem_multilevel\u001b[0m\u001b[1;33m(\u001b[0m\u001b[0mkey\u001b[0m\u001b[1;33m)\u001b[0m\u001b[1;33m\u001b[0m\u001b[1;33m\u001b[0m\u001b[0m\n\u001b[1;32m-> 3024\u001b[1;33m             \u001b[0mindexer\u001b[0m \u001b[1;33m=\u001b[0m \u001b[0mself\u001b[0m\u001b[1;33m.\u001b[0m\u001b[0mcolumns\u001b[0m\u001b[1;33m.\u001b[0m\u001b[0mget_loc\u001b[0m\u001b[1;33m(\u001b[0m\u001b[0mkey\u001b[0m\u001b[1;33m)\u001b[0m\u001b[1;33m\u001b[0m\u001b[1;33m\u001b[0m\u001b[0m\n\u001b[0m\u001b[0;32m   3025\u001b[0m             \u001b[1;32mif\u001b[0m \u001b[0mis_integer\u001b[0m\u001b[1;33m(\u001b[0m\u001b[0mindexer\u001b[0m\u001b[1;33m)\u001b[0m\u001b[1;33m:\u001b[0m\u001b[1;33m\u001b[0m\u001b[1;33m\u001b[0m\u001b[0m\n\u001b[0;32m   3026\u001b[0m                 \u001b[0mindexer\u001b[0m \u001b[1;33m=\u001b[0m \u001b[1;33m[\u001b[0m\u001b[0mindexer\u001b[0m\u001b[1;33m]\u001b[0m\u001b[1;33m\u001b[0m\u001b[1;33m\u001b[0m\u001b[0m\n",
      "\u001b[1;32m~\\anaconda3\\envs\\PythonData\\lib\\site-packages\\pandas\\core\\indexes\\base.py\u001b[0m in \u001b[0;36mget_loc\u001b[1;34m(self, key, method, tolerance)\u001b[0m\n\u001b[0;32m   3080\u001b[0m                 \u001b[1;32mreturn\u001b[0m \u001b[0mself\u001b[0m\u001b[1;33m.\u001b[0m\u001b[0m_engine\u001b[0m\u001b[1;33m.\u001b[0m\u001b[0mget_loc\u001b[0m\u001b[1;33m(\u001b[0m\u001b[0mcasted_key\u001b[0m\u001b[1;33m)\u001b[0m\u001b[1;33m\u001b[0m\u001b[1;33m\u001b[0m\u001b[0m\n\u001b[0;32m   3081\u001b[0m             \u001b[1;32mexcept\u001b[0m \u001b[0mKeyError\u001b[0m \u001b[1;32mas\u001b[0m \u001b[0merr\u001b[0m\u001b[1;33m:\u001b[0m\u001b[1;33m\u001b[0m\u001b[1;33m\u001b[0m\u001b[0m\n\u001b[1;32m-> 3082\u001b[1;33m                 \u001b[1;32mraise\u001b[0m \u001b[0mKeyError\u001b[0m\u001b[1;33m(\u001b[0m\u001b[0mkey\u001b[0m\u001b[1;33m)\u001b[0m \u001b[1;32mfrom\u001b[0m \u001b[0merr\u001b[0m\u001b[1;33m\u001b[0m\u001b[1;33m\u001b[0m\u001b[0m\n\u001b[0m\u001b[0;32m   3083\u001b[0m \u001b[1;33m\u001b[0m\u001b[0m\n\u001b[0;32m   3084\u001b[0m         \u001b[1;32mif\u001b[0m \u001b[0mtolerance\u001b[0m \u001b[1;32mis\u001b[0m \u001b[1;32mnot\u001b[0m \u001b[1;32mNone\u001b[0m\u001b[1;33m:\u001b[0m\u001b[1;33m\u001b[0m\u001b[1;33m\u001b[0m\u001b[0m\n",
      "\u001b[1;31mKeyError\u001b[0m: 'genre'"
     ]
    }
   ],
   "source": [
    "df['genre'].value_counts(ascending=False).rename_axis('genre').reset_index(name='count')"
   ]
  },
  {
   "cell_type": "code",
   "execution_count": null,
   "id": "254ae416",
   "metadata": {},
   "outputs": [],
   "source": [
    "no_genre = df[df['genre'] == '']\n",
    "len(no_genre)"
   ]
  },
  {
   "cell_type": "code",
   "execution_count": null,
   "id": "cb2e3f24",
   "metadata": {},
   "outputs": [],
   "source": [
    "# drop no_genre songs from \n",
    "df.drop(df[df['genre'] == ''].index, inplace=True)\n",
    "df.drop(df[df['genre'] == 'nan'].index, inplace=True)\n",
    "\n",
    "len(df)"
   ]
  },
  {
   "cell_type": "code",
   "execution_count": null,
   "id": "e81c1da5",
   "metadata": {},
   "outputs": [],
   "source": [
    "# separate genres connected by ', ' using split then explode\n",
    "# credit for solution: https://stackoverflow.com/questions/71175458/splitting-row-into-multiple-rows-in-pandas-dataframe\n",
    "df = (\n",
    "    df.assign(genre=df['genre'].str.split(\"', '\")).explode('genre').reset_index(drop=True)\n",
    ")\n",
    "\n",
    "df"
   ]
  },
  {
   "cell_type": "code",
   "execution_count": null,
   "id": "17995c6d",
   "metadata": {
    "scrolled": true
   },
   "outputs": [],
   "source": [
    "df.shape"
   ]
  },
  {
   "cell_type": "code",
   "execution_count": null,
   "id": "3647eacb",
   "metadata": {},
   "outputs": [],
   "source": [
    "df['genre'].value_counts(ascending=False).rename_axis('genre').reset_index(name='count')[50:90]"
   ]
  },
  {
   "cell_type": "code",
   "execution_count": null,
   "id": "7d7f00f0",
   "metadata": {},
   "outputs": [],
   "source": [
    "df[df['artist_name'] == 'Olivia Rodrigo']"
   ]
  },
  {
   "cell_type": "code",
   "execution_count": null,
   "id": "1703d481",
   "metadata": {},
   "outputs": [],
   "source": [
    "df[df['artist_name'] == 'Nirvana']"
   ]
  },
  {
   "cell_type": "code",
   "execution_count": null,
   "id": "f9601529",
   "metadata": {},
   "outputs": [],
   "source": [
    "df[df['artist_name'] == 'Nirvana']['genre'].unique()"
   ]
  },
  {
   "cell_type": "code",
   "execution_count": null,
   "id": "5586cc0d",
   "metadata": {
    "scrolled": true
   },
   "outputs": [],
   "source": [
    "df[df['artist_name'] == 'Frank Ocean']"
   ]
  },
  {
   "cell_type": "code",
   "execution_count": null,
   "id": "1ec12311",
   "metadata": {
    "scrolled": true
   },
   "outputs": [],
   "source": [
    "df[df['artist_name'] == 'Frank Ocean']['genre'].unique()"
   ]
  },
  {
   "cell_type": "code",
   "execution_count": null,
   "id": "9cf8af85",
   "metadata": {},
   "outputs": [],
   "source": [
    "# artist_id 6DIS6PRrLS3wbnZsf7vYic is artist WALK THE MOON\n",
    "df[df['artist_id'] == '6DIS6PRrLS3wbnZsf7vYic']['genre'].unique()"
   ]
  },
  {
   "cell_type": "code",
   "execution_count": null,
   "id": "12334435",
   "metadata": {},
   "outputs": [],
   "source": [
    "df[df['genre'] == 'disco']['release_date']"
   ]
  },
  {
   "cell_type": "code",
   "execution_count": null,
   "id": "0652716f",
   "metadata": {},
   "outputs": [],
   "source": [
    "# ideas for next time\n",
    "# don't limit the songs to the genre list, \n",
    "    # see the full extent of genres and how frequent they come by, how is mellow gold is 4th most popular over a generic genre??\n",
    "# sort by descending popularity per genre and grab the top 3000 popular songs (or some other number)"
   ]
  }
 ],
 "metadata": {
  "kernelspec": {
   "display_name": "PythonData",
   "language": "python",
   "name": "pythondata"
  },
  "language_info": {
   "codemirror_mode": {
    "name": "ipython",
    "version": 3
   },
   "file_extension": ".py",
   "mimetype": "text/x-python",
   "name": "python",
   "nbconvert_exporter": "python",
   "pygments_lexer": "ipython3",
   "version": "3.7.10"
  }
 },
 "nbformat": 4,
 "nbformat_minor": 5
}
